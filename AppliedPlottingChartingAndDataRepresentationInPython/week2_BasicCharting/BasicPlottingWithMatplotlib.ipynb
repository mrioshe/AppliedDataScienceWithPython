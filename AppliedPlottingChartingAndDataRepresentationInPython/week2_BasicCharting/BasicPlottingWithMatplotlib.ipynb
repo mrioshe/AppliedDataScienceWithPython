{
 "cells": [
  {
   "cell_type": "code",
   "execution_count": 1,
   "metadata": {},
   "outputs": [
    {
     "data": {
      "text/plain": [
       "'module://matplotlib_inline.backend_inline'"
      ]
     },
     "execution_count": 1,
     "metadata": {},
     "output_type": "execute_result"
    }
   ],
   "source": [
    "import matplotlib as mpl\n",
    "mpl.get_backend()"
   ]
  },
  {
   "cell_type": "code",
   "execution_count": 2,
   "metadata": {},
   "outputs": [
    {
     "name": "stdout",
     "output_type": "stream",
     "text": [
      "\u001b[0;31mSignature:\u001b[0m \u001b[0mplt\u001b[0m\u001b[0;34m.\u001b[0m\u001b[0mplot\u001b[0m\u001b[0;34m(\u001b[0m\u001b[0;34m*\u001b[0m\u001b[0margs\u001b[0m\u001b[0;34m,\u001b[0m \u001b[0mscalex\u001b[0m\u001b[0;34m=\u001b[0m\u001b[0;32mTrue\u001b[0m\u001b[0;34m,\u001b[0m \u001b[0mscaley\u001b[0m\u001b[0;34m=\u001b[0m\u001b[0;32mTrue\u001b[0m\u001b[0;34m,\u001b[0m \u001b[0mdata\u001b[0m\u001b[0;34m=\u001b[0m\u001b[0;32mNone\u001b[0m\u001b[0;34m,\u001b[0m \u001b[0;34m**\u001b[0m\u001b[0mkwargs\u001b[0m\u001b[0;34m)\u001b[0m\u001b[0;34m\u001b[0m\u001b[0;34m\u001b[0m\u001b[0m\n",
      "\u001b[0;31mDocstring:\u001b[0m\n",
      "Plot y versus x as lines and/or markers.\n",
      "\n",
      "Call signatures::\n",
      "\n",
      "    plot([x], y, [fmt], *, data=None, **kwargs)\n",
      "    plot([x], y, [fmt], [x2], y2, [fmt2], ..., **kwargs)\n",
      "\n",
      "The coordinates of the points or line nodes are given by *x*, *y*.\n",
      "\n",
      "The optional parameter *fmt* is a convenient way for defining basic\n",
      "formatting like color, marker and linestyle. It's a shortcut string\n",
      "notation described in the *Notes* section below.\n",
      "\n",
      ">>> plot(x, y)        # plot x and y using default line style and color\n",
      ">>> plot(x, y, 'bo')  # plot x and y using blue circle markers\n",
      ">>> plot(y)           # plot y using x as index array 0..N-1\n",
      ">>> plot(y, 'r+')     # ditto, but with red plusses\n",
      "\n",
      "You can use `.Line2D` properties as keyword arguments for more\n",
      "control on the appearance. Line properties and *fmt* can be mixed.\n",
      "The following two calls yield identical results:\n",
      "\n",
      ">>> plot(x, y, 'go--', linewidth=2, markersize=12)\n",
      ">>> plot(x, y, color='green', marker='o', linestyle='dashed',\n",
      "...      linewidth=2, markersize=12)\n",
      "\n",
      "When conflicting with *fmt*, keyword arguments take precedence.\n",
      "\n",
      "\n",
      "**Plotting labelled data**\n",
      "\n",
      "There's a convenient way for plotting objects with labelled data (i.e.\n",
      "data that can be accessed by index ``obj['y']``). Instead of giving\n",
      "the data in *x* and *y*, you can provide the object in the *data*\n",
      "parameter and just give the labels for *x* and *y*::\n",
      "\n",
      ">>> plot('xlabel', 'ylabel', data=obj)\n",
      "\n",
      "All indexable objects are supported. This could e.g. be a `dict`, a\n",
      "`pandas.DataFrame` or a structured numpy array.\n",
      "\n",
      "\n",
      "**Plotting multiple sets of data**\n",
      "\n",
      "There are various ways to plot multiple sets of data.\n",
      "\n",
      "- The most straight forward way is just to call `plot` multiple times.\n",
      "  Example:\n",
      "\n",
      "  >>> plot(x1, y1, 'bo')\n",
      "  >>> plot(x2, y2, 'go')\n",
      "\n",
      "- If *x* and/or *y* are 2D arrays a separate data set will be drawn\n",
      "  for every column. If both *x* and *y* are 2D, they must have the\n",
      "  same shape. If only one of them is 2D with shape (N, m) the other\n",
      "  must have length N and will be used for every data set m.\n",
      "\n",
      "  Example:\n",
      "\n",
      "  >>> x = [1, 2, 3]\n",
      "  >>> y = np.array([[1, 2], [3, 4], [5, 6]])\n",
      "  >>> plot(x, y)\n",
      "\n",
      "  is equivalent to:\n",
      "\n",
      "  >>> for col in range(y.shape[1]):\n",
      "  ...     plot(x, y[:, col])\n",
      "\n",
      "- The third way is to specify multiple sets of *[x]*, *y*, *[fmt]*\n",
      "  groups::\n",
      "\n",
      "  >>> plot(x1, y1, 'g^', x2, y2, 'g-')\n",
      "\n",
      "  In this case, any additional keyword argument applies to all\n",
      "  datasets. Also this syntax cannot be combined with the *data*\n",
      "  parameter.\n",
      "\n",
      "By default, each line is assigned a different style specified by a\n",
      "'style cycle'. The *fmt* and line property parameters are only\n",
      "necessary if you want explicit deviations from these defaults.\n",
      "Alternatively, you can also change the style cycle using\n",
      ":rc:`axes.prop_cycle`.\n",
      "\n",
      "\n",
      "Parameters\n",
      "----------\n",
      "x, y : array-like or scalar\n",
      "    The horizontal / vertical coordinates of the data points.\n",
      "    *x* values are optional and default to ``range(len(y))``.\n",
      "\n",
      "    Commonly, these parameters are 1D arrays.\n",
      "\n",
      "    They can also be scalars, or two-dimensional (in that case, the\n",
      "    columns represent separate data sets).\n",
      "\n",
      "    These arguments cannot be passed as keywords.\n",
      "\n",
      "fmt : str, optional\n",
      "    A format string, e.g. 'ro' for red circles. See the *Notes*\n",
      "    section for a full description of the format strings.\n",
      "\n",
      "    Format strings are just an abbreviation for quickly setting\n",
      "    basic line properties. All of these and more can also be\n",
      "    controlled by keyword arguments.\n",
      "\n",
      "    This argument cannot be passed as keyword.\n",
      "\n",
      "data : indexable object, optional\n",
      "    An object with labelled data. If given, provide the label names to\n",
      "    plot in *x* and *y*.\n",
      "\n",
      "    .. note::\n",
      "        Technically there's a slight ambiguity in calls where the\n",
      "        second label is a valid *fmt*. ``plot('n', 'o', data=obj)``\n",
      "        could be ``plt(x, y)`` or ``plt(y, fmt)``. In such cases,\n",
      "        the former interpretation is chosen, but a warning is issued.\n",
      "        You may suppress the warning by adding an empty format string\n",
      "        ``plot('n', 'o', '', data=obj)``.\n",
      "\n",
      "Returns\n",
      "-------\n",
      "list of `.Line2D`\n",
      "    A list of lines representing the plotted data.\n",
      "\n",
      "Other Parameters\n",
      "----------------\n",
      "scalex, scaley : bool, default: True\n",
      "    These parameters determine if the view limits are adapted to the\n",
      "    data limits. The values are passed on to `autoscale_view`.\n",
      "\n",
      "**kwargs : `.Line2D` properties, optional\n",
      "    *kwargs* are used to specify properties like a line label (for\n",
      "    auto legends), linewidth, antialiasing, marker face color.\n",
      "    Example::\n",
      "\n",
      "    >>> plot([1, 2, 3], [1, 2, 3], 'go-', label='line 1', linewidth=2)\n",
      "    >>> plot([1, 2, 3], [1, 4, 9], 'rs', label='line 2')\n",
      "\n",
      "    If you specify multiple lines with one plot call, the kwargs apply\n",
      "    to all those lines. In case the label object is iterable, each\n",
      "    element is used as labels for each set of data.\n",
      "\n",
      "    Here is a list of available `.Line2D` properties:\n",
      "\n",
      "    Properties:\n",
      "    agg_filter: a filter function, which takes a (m, n, 3) float array and a dpi value, and returns a (m, n, 3) array\n",
      "    alpha: scalar or None\n",
      "    animated: bool\n",
      "    antialiased or aa: bool\n",
      "    clip_box: `.Bbox`\n",
      "    clip_on: bool\n",
      "    clip_path: Patch or (Path, Transform) or None\n",
      "    color or c: color\n",
      "    dash_capstyle: `.CapStyle` or {'butt', 'projecting', 'round'}\n",
      "    dash_joinstyle: `.JoinStyle` or {'miter', 'round', 'bevel'}\n",
      "    dashes: sequence of floats (on/off ink in points) or (None, None)\n",
      "    data: (2, N) array or two 1D arrays\n",
      "    drawstyle or ds: {'default', 'steps', 'steps-pre', 'steps-mid', 'steps-post'}, default: 'default'\n",
      "    figure: `.Figure`\n",
      "    fillstyle: {'full', 'left', 'right', 'bottom', 'top', 'none'}\n",
      "    gid: str\n",
      "    in_layout: bool\n",
      "    label: object\n",
      "    linestyle or ls: {'-', '--', '-.', ':', '', (offset, on-off-seq), ...}\n",
      "    linewidth or lw: float\n",
      "    marker: marker style string, `~.path.Path` or `~.markers.MarkerStyle`\n",
      "    markeredgecolor or mec: color\n",
      "    markeredgewidth or mew: float\n",
      "    markerfacecolor or mfc: color\n",
      "    markerfacecoloralt or mfcalt: color\n",
      "    markersize or ms: float\n",
      "    markevery: None or int or (int, int) or slice or list[int] or float or (float, float) or list[bool]\n",
      "    path_effects: `.AbstractPathEffect`\n",
      "    picker: float or callable[[Artist, Event], tuple[bool, dict]]\n",
      "    pickradius: float\n",
      "    rasterized: bool\n",
      "    sketch_params: (scale: float, length: float, randomness: float)\n",
      "    snap: bool or None\n",
      "    solid_capstyle: `.CapStyle` or {'butt', 'projecting', 'round'}\n",
      "    solid_joinstyle: `.JoinStyle` or {'miter', 'round', 'bevel'}\n",
      "    transform: unknown\n",
      "    url: str\n",
      "    visible: bool\n",
      "    xdata: 1D array\n",
      "    ydata: 1D array\n",
      "    zorder: float\n",
      "\n",
      "See Also\n",
      "--------\n",
      "scatter : XY scatter plot with markers of varying size and/or color (\n",
      "    sometimes also called bubble chart).\n",
      "\n",
      "Notes\n",
      "-----\n",
      "**Format Strings**\n",
      "\n",
      "A format string consists of a part for color, marker and line::\n",
      "\n",
      "    fmt = '[marker][line][color]'\n",
      "\n",
      "Each of them is optional. If not provided, the value from the style\n",
      "cycle is used. Exception: If ``line`` is given, but no ``marker``,\n",
      "the data will be a line without markers.\n",
      "\n",
      "Other combinations such as ``[color][marker][line]`` are also\n",
      "supported, but note that their parsing may be ambiguous.\n",
      "\n",
      "**Markers**\n",
      "\n",
      "=============   ===============================\n",
      "character       description\n",
      "=============   ===============================\n",
      "``'.'``         point marker\n",
      "``','``         pixel marker\n",
      "``'o'``         circle marker\n",
      "``'v'``         triangle_down marker\n",
      "``'^'``         triangle_up marker\n",
      "``'<'``         triangle_left marker\n",
      "``'>'``         triangle_right marker\n",
      "``'1'``         tri_down marker\n",
      "``'2'``         tri_up marker\n",
      "``'3'``         tri_left marker\n",
      "``'4'``         tri_right marker\n",
      "``'8'``         octagon marker\n",
      "``'s'``         square marker\n",
      "``'p'``         pentagon marker\n",
      "``'P'``         plus (filled) marker\n",
      "``'*'``         star marker\n",
      "``'h'``         hexagon1 marker\n",
      "``'H'``         hexagon2 marker\n",
      "``'+'``         plus marker\n",
      "``'x'``         x marker\n",
      "``'X'``         x (filled) marker\n",
      "``'D'``         diamond marker\n",
      "``'d'``         thin_diamond marker\n",
      "``'|'``         vline marker\n",
      "``'_'``         hline marker\n",
      "=============   ===============================\n",
      "\n",
      "**Line Styles**\n",
      "\n",
      "=============    ===============================\n",
      "character        description\n",
      "=============    ===============================\n",
      "``'-'``          solid line style\n",
      "``'--'``         dashed line style\n",
      "``'-.'``         dash-dot line style\n",
      "``':'``          dotted line style\n",
      "=============    ===============================\n",
      "\n",
      "Example format strings::\n",
      "\n",
      "    'b'    # blue markers with default shape\n",
      "    'or'   # red circles\n",
      "    '-g'   # green solid line\n",
      "    '--'   # dashed line with default color\n",
      "    '^k:'  # black triangle_up markers connected by a dotted line\n",
      "\n",
      "**Colors**\n",
      "\n",
      "The supported color abbreviations are the single letter codes\n",
      "\n",
      "=============    ===============================\n",
      "character        color\n",
      "=============    ===============================\n",
      "``'b'``          blue\n",
      "``'g'``          green\n",
      "``'r'``          red\n",
      "``'c'``          cyan\n",
      "``'m'``          magenta\n",
      "``'y'``          yellow\n",
      "``'k'``          black\n",
      "``'w'``          white\n",
      "=============    ===============================\n",
      "\n",
      "and the ``'CN'`` colors that index into the default property cycle.\n",
      "\n",
      "If the color is the only part of the format string, you can\n",
      "additionally use any  `matplotlib.colors` spec, e.g. full names\n",
      "(``'green'``) or hex strings (``'#008000'``).\n",
      "\u001b[0;31mFile:\u001b[0m      /usr/lib/python3/dist-packages/matplotlib/pyplot.py\n",
      "\u001b[0;31mType:\u001b[0m      function"
     ]
    }
   ],
   "source": [
    "import matplotlib.pyplot as plt\n",
    "plt.plot?"
   ]
  },
  {
   "cell_type": "code",
   "execution_count": 3,
   "metadata": {},
   "outputs": [
    {
     "data": {
      "text/plain": [
       "[<matplotlib.lines.Line2D at 0x77285c50a9b0>]"
      ]
     },
     "execution_count": 3,
     "metadata": {},
     "output_type": "execute_result"
    },
    {
     "data": {
      "image/png": "[encoded data removed]",
      "text/plain": [
       "<Figure size 640x480 with 1 Axes>"
      ]
     },
     "metadata": {},
     "output_type": "display_data"
    }
   ],
   "source": [
    "plt.plot(3,2)"
   ]
  },
  {
   "cell_type": "code",
   "execution_count": 4,
   "metadata": {},
   "outputs": [
    {
     "data": {
      "text/plain": [
       "[<matplotlib.lines.Line2D at 0x77285a430820>]"
      ]
     },
     "execution_count": 4,
     "metadata": {},
     "output_type": "execute_result"
    },
    {
     "data": {
      "image/png": "[encoded data removed]",
      "text/plain": [
       "<Figure size 640x480 with 1 Axes>"
      ]
     },
     "metadata": {},
     "output_type": "display_data"
    }
   ],
   "source": [
    "plt.plot(3,2,'.')"
   ]
  },
  {
   "cell_type": "code",
   "execution_count": 5,
   "metadata": {},
   "outputs": [],
   "source": [
    "from matplotlib.backends.backend_agg import FigureCanvasAgg\n",
    "from matplotlib.figure import Figure\n",
    "\n",
    "fig=Figure()\n",
    "\n",
    "canvas= FigureCanvasAgg(fig)\n",
    "ax=fig.add_subplot(111)\n",
    "ax.plot(3,2,'.')\n",
    "canvas.print_png('test.png')\n"
   ]
  },
  {
   "cell_type": "code",
   "execution_count": 6,
   "metadata": {},
   "outputs": [
    {
     "data": {
      "text/html": [
       "<img src='test.png'/>\n"
      ],
      "text/plain": [
       "<IPython.core.display.HTML object>"
      ]
     },
     "metadata": {},
     "output_type": "display_data"
    }
   ],
   "source": [
    "%%html\n",
    "<img src='test.png'/>"
   ]
  },
  {
   "cell_type": "code",
   "execution_count": 7,
   "metadata": {},
   "outputs": [
    {
     "data": {
      "text/plain": [
       "(0.0, 6.0, 0.0, 10.0)"
      ]
     },
     "execution_count": 7,
     "metadata": {},
     "output_type": "execute_result"
    },
    {
     "data": {
      "image/png": "[encoded data removed]",
      "text/plain": [
       "<Figure size 640x480 with 1 Axes>"
      ]
     },
     "metadata": {},
     "output_type": "display_data"
    }
   ],
   "source": [
    "plt.figure()\n",
    "plt.plot(3,2,'o')\n",
    "# Get a reference to the current axes\n",
    "ax=plt.gca()\n",
    "ax.axis([0,6,0,10])"
   ]
  },
  {
   "cell_type": "code",
   "execution_count": 8,
   "metadata": {},
   "outputs": [
    {
     "data": {
      "text/plain": [
       "[<matplotlib.lines.Line2D at 0x77285a380340>]"
      ]
     },
     "execution_count": 8,
     "metadata": {},
     "output_type": "execute_result"
    },
    {
     "data": {
      "image/png": "[encoded data removed]",
      "text/plain": [
       "<Figure size 640x480 with 1 Axes>"
      ]
     },
     "metadata": {},
     "output_type": "display_data"
    }
   ],
   "source": [
    "plt.figure()\n",
    "\n",
    "plt.plot(1.5,1.5,'o')\n",
    "plt.plot(2,2,'o')\n",
    "plt.plot(2.5,2.5,'o')"
   ]
  },
  {
   "cell_type": "code",
   "execution_count": 9,
   "metadata": {},
   "outputs": [
    {
     "data": {
      "text/plain": [
       "[<matplotlib.lines.Line2D at 0x77285a1ce530>,\n",
       " <matplotlib.spines.Spine at 0x77285a39a140>,\n",
       " <matplotlib.spines.Spine at 0x77285a39a260>,\n",
       " <matplotlib.spines.Spine at 0x77285a39a380>,\n",
       " <matplotlib.spines.Spine at 0x77285a39a4a0>,\n",
       " <matplotlib.axis.XAxis at 0x77285a39a0e0>,\n",
       " <matplotlib.axis.YAxis at 0x77285a39a9b0>,\n",
       " Text(0.5, 1.0, ''),\n",
       " Text(0.0, 1.0, ''),\n",
       " Text(1.0, 1.0, ''),\n",
       " <matplotlib.patches.Rectangle at 0x77285a1cc220>]"
      ]
     },
     "execution_count": 9,
     "metadata": {},
     "output_type": "execute_result"
    },
    {
     "data": {
      "image/png": "[encoded data removed]",
      "text/plain": [
       "<Figure size 640x480 with 1 Axes>"
      ]
     },
     "metadata": {},
     "output_type": "display_data"
    }
   ],
   "source": [
    "ax=plt.gca()\n",
    "plt.plot(1.5,1.5,'o')\n",
    "ax.get_children()"
   ]
  },
  {
   "cell_type": "code",
   "execution_count": null,
   "metadata": {},
   "outputs": [],
   "source": []
  }
 ],
 "metadata": {
  "kernelspec": {
   "display_name": "Python 3",
   "language": "python",
   "name": "python3"
  },
  "language_info": {
   "codemirror_mode": {
    "name": "ipython",
    "version": 3
   },
   "file_extension": ".py",
   "mimetype": "text/x-python",
   "name": "python",
   "nbconvert_exporter": "python",
   "pygments_lexer": "ipython3",
   "version": "3.0.0"
  }
 },
 "nbformat": 4,
 "nbformat_minor": 2
}
