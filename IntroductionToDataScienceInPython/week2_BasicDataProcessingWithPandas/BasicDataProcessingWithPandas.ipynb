{
 "cells": [
  {
   "cell_type": "markdown",
   "metadata": {},
   "source": [
    "### The Series Data Structure"
   ]
  },
  {
   "cell_type": "code",
   "execution_count": 3,
   "metadata": {},
   "outputs": [],
   "source": [
    "import pandas as pd"
   ]
  },
  {
   "cell_type": "code",
   "execution_count": 4,
   "metadata": {},
   "outputs": [
    {
     "data": {
      "text/plain": [
       "0    Alice\n",
       "1     Jack\n",
       "2    Molly\n",
       "dtype: object"
      ]
     },
     "execution_count": 4,
     "metadata": {},
     "output_type": "execute_result"
    }
   ],
   "source": [
    "students=['Alice','Jack','Molly']\n",
    "pd.Series(students)\n"
   ]
  },
  {
   "cell_type": "code",
   "execution_count": 5,
   "metadata": {},
   "outputs": [
    {
     "data": {
      "text/plain": [
       "0    1\n",
       "1    2\n",
       "2    3\n",
       "dtype: int64"
      ]
     },
     "execution_count": 5,
     "metadata": {},
     "output_type": "execute_result"
    }
   ],
   "source": [
    "number=[1,2,3]\n",
    "pd.Series(number)"
   ]
  },
  {
   "cell_type": "code",
   "execution_count": 7,
   "metadata": {},
   "outputs": [
    {
     "data": {
      "text/plain": [
       "0    Alice\n",
       "1     Jack\n",
       "2     None\n",
       "dtype: object"
      ]
     },
     "execution_count": 7,
     "metadata": {},
     "output_type": "execute_result"
    }
   ],
   "source": [
    "students=['Alice','Jack',None]\n",
    "pd.Series(students)"
   ]
  },
  {
   "cell_type": "code",
   "execution_count": 8,
   "metadata": {},
   "outputs": [
    {
     "data": {
      "text/plain": [
       "0    1.0\n",
       "1    2.0\n",
       "2    NaN\n",
       "dtype: float64"
      ]
     },
     "execution_count": 8,
     "metadata": {},
     "output_type": "execute_result"
    }
   ],
   "source": [
    "numbers=[1,2,None]\n",
    "pd.Series(numbers)"
   ]
  },
  {
   "cell_type": "code",
   "execution_count": 1,
   "metadata": {},
   "outputs": [],
   "source": [
    "import numpy as np\n",
    "import pandas as pd"
   ]
  },
  {
   "cell_type": "code",
   "execution_count": 2,
   "metadata": {},
   "outputs": [
    {
     "data": {
      "text/plain": [
       "False"
      ]
     },
     "execution_count": 2,
     "metadata": {},
     "output_type": "execute_result"
    }
   ],
   "source": [
    "np.nan==None"
   ]
  },
  {
   "cell_type": "code",
   "execution_count": 3,
   "metadata": {},
   "outputs": [
    {
     "data": {
      "text/plain": [
       "True"
      ]
     },
     "execution_count": 3,
     "metadata": {},
     "output_type": "execute_result"
    }
   ],
   "source": [
    "np.isnan(np.nan)"
   ]
  },
  {
   "cell_type": "code",
   "execution_count": 5,
   "metadata": {},
   "outputs": [
    {
     "data": {
      "text/plain": [
       "Alice      Physics\n",
       "Jack     Chemistry\n",
       "Molly      English\n",
       "dtype: object"
      ]
     },
     "execution_count": 5,
     "metadata": {},
     "output_type": "execute_result"
    }
   ],
   "source": [
    "students_scores={'Alice':'Physics','Jack':'Chemistry','Molly':'English'}\n",
    "s=pd.Series(students_scores)\n",
    "s"
   ]
  },
  {
   "cell_type": "code",
   "execution_count": 6,
   "metadata": {},
   "outputs": [
    {
     "data": {
      "text/plain": [
       "Index(['Alice', 'Jack', 'Molly'], dtype='object')"
      ]
     },
     "execution_count": 6,
     "metadata": {},
     "output_type": "execute_result"
    }
   ],
   "source": [
    "s.index"
   ]
  },
  {
   "cell_type": "code",
   "execution_count": 7,
   "metadata": {},
   "outputs": [
    {
     "data": {
      "text/plain": [
       "'Physics'"
      ]
     },
     "execution_count": 7,
     "metadata": {},
     "output_type": "execute_result"
    }
   ],
   "source": [
    "s['Alice']"
   ]
  },
  {
   "cell_type": "code",
   "execution_count": 8,
   "metadata": {},
   "outputs": [
    {
     "data": {
      "text/plain": [
       "0    (Alice, Brown)\n",
       "1     (Jack, white)\n",
       "2    (Molly, Green)\n",
       "dtype: object"
      ]
     },
     "execution_count": 8,
     "metadata": {},
     "output_type": "execute_result"
    }
   ],
   "source": [
    "students=[(\"Alice\",\"Brown\"),(\"Jack\",\"white\"),(\"Molly\",\"Green\")]\n",
    "pd.Series(students)"
   ]
  },
  {
   "cell_type": "code",
   "execution_count": 9,
   "metadata": {},
   "outputs": [],
   "source": [
    "s=pd.Series(['Physics','Chemistry','English'],index=['Alice','Jack','Molly'])"
   ]
  },
  {
   "cell_type": "code",
   "execution_count": 10,
   "metadata": {},
   "outputs": [
    {
     "data": {
      "text/plain": [
       "Alice      Physics\n",
       "Jack     Chemistry\n",
       "Molly      English\n",
       "dtype: object"
      ]
     },
     "execution_count": 10,
     "metadata": {},
     "output_type": "execute_result"
    }
   ],
   "source": [
    "s"
   ]
  },
  {
   "cell_type": "code",
   "execution_count": 12,
   "metadata": {},
   "outputs": [
    {
     "data": {
      "text/plain": [
       "Alice    Physics\n",
       "Molly    English\n",
       "Sam          NaN\n",
       "dtype: object"
      ]
     },
     "execution_count": 12,
     "metadata": {},
     "output_type": "execute_result"
    }
   ],
   "source": [
    "students_scores={'Alice':'Physics','Jack':'Chemistry','Molly':'English'}\n",
    "s=pd.Series(students_scores,index=['Alice','Molly','Sam'])\n",
    "s"
   ]
  },
  {
   "cell_type": "markdown",
   "metadata": {},
   "source": [
    "### Queryng a Series"
   ]
  },
  {
   "cell_type": "code",
   "execution_count": 13,
   "metadata": {},
   "outputs": [
    {
     "data": {
      "text/plain": [
       "Alice      Physics\n",
       "Jack     Chemistry\n",
       "Molly      English\n",
       "Sam        History\n",
       "dtype: object"
      ]
     },
     "execution_count": 13,
     "metadata": {},
     "output_type": "execute_result"
    }
   ],
   "source": [
    "students_classes={'Alice':'Physics','Jack':'Chemistry','Molly':'English','Sam':'History'}\n",
    "s=pd.Series(students_classes)\n",
    "s"
   ]
  },
  {
   "cell_type": "code",
   "execution_count": 14,
   "metadata": {},
   "outputs": [
    {
     "data": {
      "text/plain": [
       "'History'"
      ]
     },
     "execution_count": 14,
     "metadata": {},
     "output_type": "execute_result"
    }
   ],
   "source": [
    "s.iloc[3]"
   ]
  },
  {
   "cell_type": "code",
   "execution_count": 15,
   "metadata": {},
   "outputs": [
    {
     "name": "stderr",
     "output_type": "stream",
     "text": [
      "/tmp/ipykernel_13383/878419959.py:1: FutureWarning: Series.__getitem__ treating keys as positions is deprecated. In a future version, integer keys will always be treated as labels (consistent with DataFrame behavior). To access a value by position, use `ser.iloc[pos]`\n",
      "  s[1]\n"
     ]
    },
    {
     "data": {
      "text/plain": [
       "'Chemistry'"
      ]
     },
     "execution_count": 15,
     "metadata": {},
     "output_type": "execute_result"
    }
   ],
   "source": [
    "s[1]"
   ]
  },
  {
   "cell_type": "code",
   "execution_count": 17,
   "metadata": {},
   "outputs": [
    {
     "data": {
      "text/plain": [
       "'English'"
      ]
     },
     "execution_count": 17,
     "metadata": {},
     "output_type": "execute_result"
    }
   ],
   "source": [
    "s.loc['Molly']"
   ]
  },
  {
   "cell_type": "code",
   "execution_count": 18,
   "metadata": {},
   "outputs": [
    {
     "data": {
      "text/plain": [
       "'English'"
      ]
     },
     "execution_count": 18,
     "metadata": {},
     "output_type": "execute_result"
    }
   ],
   "source": [
    "s['Molly']"
   ]
  },
  {
   "cell_type": "code",
   "execution_count": 19,
   "metadata": {},
   "outputs": [
    {
     "name": "stderr",
     "output_type": "stream",
     "text": [
      "/tmp/ipykernel_13383/3172538273.py:1: FutureWarning: Series.__getitem__ treating keys as positions is deprecated. In a future version, integer keys will always be treated as labels (consistent with DataFrame behavior). To access a value by position, use `ser.iloc[pos]`\n",
      "  s[3]\n"
     ]
    },
    {
     "data": {
      "text/plain": [
       "'History'"
      ]
     },
     "execution_count": 19,
     "metadata": {},
     "output_type": "execute_result"
    }
   ],
   "source": [
    "s[3]"
   ]
  },
  {
   "cell_type": "code",
   "execution_count": 20,
   "metadata": {},
   "outputs": [],
   "source": [
    "class_code={99:'physics',100:'chemistry',101:'English',102:'History'}\n",
    "s=pd.Series(class_code)"
   ]
  },
  {
   "cell_type": "code",
   "execution_count": 21,
   "metadata": {},
   "outputs": [
    {
     "ename": "KeyError",
     "evalue": "0",
     "output_type": "error",
     "traceback": [
      "\u001b[0;31m---------------------------------------------------------------------------\u001b[0m",
      "\u001b[0;31mKeyError\u001b[0m                                  Traceback (most recent call last)",
      "File \u001b[0;32m~/.local/lib/python3.10/site-packages/pandas/core/indexes/base.py:3791\u001b[0m, in \u001b[0;36mIndex.get_loc\u001b[0;34m(self, key)\u001b[0m\n\u001b[1;32m   3790\u001b[0m \u001b[39mtry\u001b[39;00m:\n\u001b[0;32m-> 3791\u001b[0m     \u001b[39mreturn\u001b[39;00m \u001b[39mself\u001b[39;49m\u001b[39m.\u001b[39;49m_engine\u001b[39m.\u001b[39;49mget_loc(casted_key)\n\u001b[1;32m   3792\u001b[0m \u001b[39mexcept\u001b[39;00m \u001b[39mKeyError\u001b[39;00m \u001b[39mas\u001b[39;00m err:\n",
      "File \u001b[0;32mindex.pyx:152\u001b[0m, in \u001b[0;36mpandas._libs.index.IndexEngine.get_loc\u001b[0;34m()\u001b[0m\n",
      "File \u001b[0;32mindex.pyx:181\u001b[0m, in \u001b[0;36mpandas._libs.index.IndexEngine.get_loc\u001b[0;34m()\u001b[0m\n",
      "File \u001b[0;32mpandas/_libs/hashtable_class_helper.pxi:2606\u001b[0m, in \u001b[0;36mpandas._libs.hashtable.Int64HashTable.get_item\u001b[0;34m()\u001b[0m\n",
      "File \u001b[0;32mpandas/_libs/hashtable_class_helper.pxi:2630\u001b[0m, in \u001b[0;36mpandas._libs.hashtable.Int64HashTable.get_item\u001b[0;34m()\u001b[0m\n",
      "\u001b[0;31mKeyError\u001b[0m: 0",
      "\nThe above exception was the direct cause of the following exception:\n",
      "\u001b[0;31mKeyError\u001b[0m                                  Traceback (most recent call last)",
      "\u001b[1;32m/home/mauricio/Documents/GitHub/AppliedDataScienceWithPython/IntroductionToDataScienceInPython/week2_BasicDataProcessingWithPandas/BasicDataProcessingWithPandas.ipynb Cell 25\u001b[0m line \u001b[0;36m1\n\u001b[0;32m----> <a href='vscode-notebook-cell:/home/mauricio/Documents/GitHub/AppliedDataScienceWithPython/IntroductionToDataScienceInPython/week2_BasicDataProcessingWithPandas/BasicDataProcessingWithPandas.ipynb#X34sZmlsZQ%3D%3D?line=0'>1</a>\u001b[0m s[\u001b[39m0\u001b[39;49m]\n",
      "File \u001b[0;32m~/.local/lib/python3.10/site-packages/pandas/core/series.py:1040\u001b[0m, in \u001b[0;36mSeries.__getitem__\u001b[0;34m(self, key)\u001b[0m\n\u001b[1;32m   1037\u001b[0m     \u001b[39mreturn\u001b[39;00m \u001b[39mself\u001b[39m\u001b[39m.\u001b[39m_values[key]\n\u001b[1;32m   1039\u001b[0m \u001b[39melif\u001b[39;00m key_is_scalar:\n\u001b[0;32m-> 1040\u001b[0m     \u001b[39mreturn\u001b[39;00m \u001b[39mself\u001b[39;49m\u001b[39m.\u001b[39;49m_get_value(key)\n\u001b[1;32m   1042\u001b[0m \u001b[39m# Convert generator to list before going through hashable part\u001b[39;00m\n\u001b[1;32m   1043\u001b[0m \u001b[39m# (We will iterate through the generator there to check for slices)\u001b[39;00m\n\u001b[1;32m   1044\u001b[0m \u001b[39mif\u001b[39;00m is_iterator(key):\n",
      "File \u001b[0;32m~/.local/lib/python3.10/site-packages/pandas/core/series.py:1156\u001b[0m, in \u001b[0;36mSeries._get_value\u001b[0;34m(self, label, takeable)\u001b[0m\n\u001b[1;32m   1153\u001b[0m     \u001b[39mreturn\u001b[39;00m \u001b[39mself\u001b[39m\u001b[39m.\u001b[39m_values[label]\n\u001b[1;32m   1155\u001b[0m \u001b[39m# Similar to Index.get_value, but we do not fall back to positional\u001b[39;00m\n\u001b[0;32m-> 1156\u001b[0m loc \u001b[39m=\u001b[39m \u001b[39mself\u001b[39;49m\u001b[39m.\u001b[39;49mindex\u001b[39m.\u001b[39;49mget_loc(label)\n\u001b[1;32m   1158\u001b[0m \u001b[39mif\u001b[39;00m is_integer(loc):\n\u001b[1;32m   1159\u001b[0m     \u001b[39mreturn\u001b[39;00m \u001b[39mself\u001b[39m\u001b[39m.\u001b[39m_values[loc]\n",
      "File \u001b[0;32m~/.local/lib/python3.10/site-packages/pandas/core/indexes/base.py:3798\u001b[0m, in \u001b[0;36mIndex.get_loc\u001b[0;34m(self, key)\u001b[0m\n\u001b[1;32m   3793\u001b[0m     \u001b[39mif\u001b[39;00m \u001b[39misinstance\u001b[39m(casted_key, \u001b[39mslice\u001b[39m) \u001b[39mor\u001b[39;00m (\n\u001b[1;32m   3794\u001b[0m         \u001b[39misinstance\u001b[39m(casted_key, abc\u001b[39m.\u001b[39mIterable)\n\u001b[1;32m   3795\u001b[0m         \u001b[39mand\u001b[39;00m \u001b[39many\u001b[39m(\u001b[39misinstance\u001b[39m(x, \u001b[39mslice\u001b[39m) \u001b[39mfor\u001b[39;00m x \u001b[39min\u001b[39;00m casted_key)\n\u001b[1;32m   3796\u001b[0m     ):\n\u001b[1;32m   3797\u001b[0m         \u001b[39mraise\u001b[39;00m InvalidIndexError(key)\n\u001b[0;32m-> 3798\u001b[0m     \u001b[39mraise\u001b[39;00m \u001b[39mKeyError\u001b[39;00m(key) \u001b[39mfrom\u001b[39;00m \u001b[39merr\u001b[39;00m\n\u001b[1;32m   3799\u001b[0m \u001b[39mexcept\u001b[39;00m \u001b[39mTypeError\u001b[39;00m:\n\u001b[1;32m   3800\u001b[0m     \u001b[39m# If we have a listlike key, _check_indexing_error will raise\u001b[39;00m\n\u001b[1;32m   3801\u001b[0m     \u001b[39m#  InvalidIndexError. Otherwise we fall through and re-raise\u001b[39;00m\n\u001b[1;32m   3802\u001b[0m     \u001b[39m#  the TypeError.\u001b[39;00m\n\u001b[1;32m   3803\u001b[0m     \u001b[39mself\u001b[39m\u001b[39m.\u001b[39m_check_indexing_error(key)\n",
      "\u001b[0;31mKeyError\u001b[0m: 0"
     ]
    }
   ],
   "source": [
    "s[0]"
   ]
  },
  {
   "cell_type": "code",
   "execution_count": 22,
   "metadata": {},
   "outputs": [
    {
     "data": {
      "text/plain": [
       "'physics'"
      ]
     },
     "execution_count": 22,
     "metadata": {},
     "output_type": "execute_result"
    }
   ],
   "source": [
    "s[99]"
   ]
  },
  {
   "cell_type": "code",
   "execution_count": 23,
   "metadata": {},
   "outputs": [
    {
     "name": "stdout",
     "output_type": "stream",
     "text": [
      "75.0\n"
     ]
    }
   ],
   "source": [
    "grades=pd.Series([90,80,70,60])\n",
    "\n",
    "total=0\n",
    "for grade in grades:\n",
    "    total+=grade\n",
    "print(total/len(grades))"
   ]
  },
  {
   "cell_type": "code",
   "execution_count": 24,
   "metadata": {},
   "outputs": [
    {
     "name": "stdout",
     "output_type": "stream",
     "text": [
      "75.0\n"
     ]
    }
   ],
   "source": [
    "total=np.sum(grades)\n",
    "print(total/len(grades))"
   ]
  },
  {
   "cell_type": "code",
   "execution_count": 25,
   "metadata": {},
   "outputs": [
    {
     "data": {
      "text/plain": [
       "0    655\n",
       "1    599\n",
       "2    147\n",
       "3    473\n",
       "4    503\n",
       "dtype: int64"
      ]
     },
     "execution_count": 25,
     "metadata": {},
     "output_type": "execute_result"
    }
   ],
   "source": [
    "numbers=pd.Series(np.random.randint(0,1000,10000))\n",
    "numbers.head()"
   ]
  },
  {
   "cell_type": "code",
   "execution_count": 26,
   "metadata": {},
   "outputs": [
    {
     "data": {
      "text/plain": [
       "10000"
      ]
     },
     "execution_count": 26,
     "metadata": {},
     "output_type": "execute_result"
    }
   ],
   "source": [
    "len(numbers)"
   ]
  },
  {
   "cell_type": "code",
   "execution_count": 27,
   "metadata": {},
   "outputs": [
    {
     "name": "stdout",
     "output_type": "stream",
     "text": [
      "542 µs ± 124 µs per loop (mean ± std. dev. of 7 runs, 100 loops each)\n"
     ]
    }
   ],
   "source": [
    "%%timeit -n 100\n",
    "total=0\n",
    "for number in numbers:\n",
    "    total+=number\n",
    "\n",
    "total/len(numbers)"
   ]
  },
  {
   "cell_type": "code",
   "execution_count": 28,
   "metadata": {},
   "outputs": [
    {
     "name": "stdout",
     "output_type": "stream",
     "text": [
      "36.2 µs ± 14.7 µs per loop (mean ± std. dev. of 7 runs, 100 loops each)\n"
     ]
    }
   ],
   "source": [
    "%%timeit -n 100\n",
    "\n",
    "total=np.sum(numbers)\n",
    "total/len(numbers)"
   ]
  },
  {
   "cell_type": "code",
   "execution_count": 29,
   "metadata": {},
   "outputs": [
    {
     "data": {
      "text/plain": [
       "0    655\n",
       "1    599\n",
       "2    147\n",
       "3    473\n",
       "4    503\n",
       "dtype: int64"
      ]
     },
     "execution_count": 29,
     "metadata": {},
     "output_type": "execute_result"
    }
   ],
   "source": [
    "numbers.head()"
   ]
  },
  {
   "cell_type": "code",
   "execution_count": 30,
   "metadata": {},
   "outputs": [
    {
     "data": {
      "text/plain": [
       "0    657\n",
       "1    601\n",
       "2    149\n",
       "3    475\n",
       "4    505\n",
       "dtype: int64"
      ]
     },
     "execution_count": 30,
     "metadata": {},
     "output_type": "execute_result"
    }
   ],
   "source": [
    "numbers+=2\n",
    "numbers.head()"
   ]
  },
  {
   "cell_type": "code",
   "execution_count": 31,
   "metadata": {},
   "outputs": [
    {
     "ename": "AttributeError",
     "evalue": "'Series' object has no attribute 'iteritems'",
     "output_type": "error",
     "traceback": [
      "\u001b[0;31m---------------------------------------------------------------------------\u001b[0m",
      "\u001b[0;31mAttributeError\u001b[0m                            Traceback (most recent call last)",
      "\u001b[0;32m/tmp/ipykernel_13383/2997863813.py\u001b[0m in \u001b[0;36m?\u001b[0;34m()\u001b[0m\n\u001b[0;32m----> 1\u001b[0;31m \u001b[0;32mfor\u001b[0m \u001b[0mlabel\u001b[0m\u001b[0;34m,\u001b[0m\u001b[0mvalue\u001b[0m \u001b[0;32min\u001b[0m \u001b[0mnumbers\u001b[0m\u001b[0;34m.\u001b[0m\u001b[0miteritems\u001b[0m\u001b[0;34m(\u001b[0m\u001b[0;34m)\u001b[0m\u001b[0;34m:\u001b[0m\u001b[0;34m\u001b[0m\u001b[0;34m\u001b[0m\u001b[0m\n\u001b[0m\u001b[1;32m      2\u001b[0m     \u001b[0mnumbers\u001b[0m\u001b[0;34m.\u001b[0m\u001b[0mset_value\u001b[0m\u001b[0;34m(\u001b[0m\u001b[0mlabel\u001b[0m\u001b[0;34m,\u001b[0m\u001b[0mvalue\u001b[0m\u001b[0;34m+\u001b[0m\u001b[0;36m2\u001b[0m\u001b[0;34m)\u001b[0m\u001b[0;34m\u001b[0m\u001b[0;34m\u001b[0m\u001b[0m\n\u001b[1;32m      3\u001b[0m \u001b[0;34m\u001b[0m\u001b[0m\n\u001b[1;32m      4\u001b[0m \u001b[0mnumbers\u001b[0m\u001b[0;34m.\u001b[0m\u001b[0mhead\u001b[0m\u001b[0;34m(\u001b[0m\u001b[0;34m)\u001b[0m\u001b[0;34m\u001b[0m\u001b[0;34m\u001b[0m\u001b[0m\n",
      "\u001b[0;32m~/.local/lib/python3.10/site-packages/pandas/core/generic.py\u001b[0m in \u001b[0;36m?\u001b[0;34m(self, name)\u001b[0m\n\u001b[1;32m   6200\u001b[0m             \u001b[0;32mand\u001b[0m \u001b[0mname\u001b[0m \u001b[0;32mnot\u001b[0m \u001b[0;32min\u001b[0m \u001b[0mself\u001b[0m\u001b[0;34m.\u001b[0m\u001b[0m_accessors\u001b[0m\u001b[0;34m\u001b[0m\u001b[0;34m\u001b[0m\u001b[0m\n\u001b[1;32m   6201\u001b[0m             \u001b[0;32mand\u001b[0m \u001b[0mself\u001b[0m\u001b[0;34m.\u001b[0m\u001b[0m_info_axis\u001b[0m\u001b[0;34m.\u001b[0m\u001b[0m_can_hold_identifiers_and_holds_name\u001b[0m\u001b[0;34m(\u001b[0m\u001b[0mname\u001b[0m\u001b[0;34m)\u001b[0m\u001b[0;34m\u001b[0m\u001b[0;34m\u001b[0m\u001b[0m\n\u001b[1;32m   6202\u001b[0m         ):\n\u001b[1;32m   6203\u001b[0m             \u001b[0;32mreturn\u001b[0m \u001b[0mself\u001b[0m\u001b[0;34m[\u001b[0m\u001b[0mname\u001b[0m\u001b[0;34m]\u001b[0m\u001b[0;34m\u001b[0m\u001b[0;34m\u001b[0m\u001b[0m\n\u001b[0;32m-> 6204\u001b[0;31m         \u001b[0;32mreturn\u001b[0m \u001b[0mobject\u001b[0m\u001b[0;34m.\u001b[0m\u001b[0m__getattribute__\u001b[0m\u001b[0;34m(\u001b[0m\u001b[0mself\u001b[0m\u001b[0;34m,\u001b[0m \u001b[0mname\u001b[0m\u001b[0;34m)\u001b[0m\u001b[0;34m\u001b[0m\u001b[0;34m\u001b[0m\u001b[0m\n\u001b[0m",
      "\u001b[0;31mAttributeError\u001b[0m: 'Series' object has no attribute 'iteritems'"
     ]
    }
   ],
   "source": [
    "for label,value in numbers.iteritems():\n",
    "    numbers.set_value(label,value+2)\n",
    "\n",
    "numbers.head()"
   ]
  },
  {
   "cell_type": "code",
   "execution_count": 32,
   "metadata": {},
   "outputs": [
    {
     "name": "stdout",
     "output_type": "stream",
     "text": [
      "Unexpected exception formatting exception. Falling back to standard exception\n"
     ]
    },
    {
     "name": "stderr",
     "output_type": "stream",
     "text": [
      "Traceback (most recent call last):\n",
      "  File \"/home/mauricio/.local/lib/python3.10/site-packages/IPython/core/interactiveshell.py\", line 3550, in run_code\n",
      "    exec(code_obj, self.user_global_ns, self.user_ns)\n",
      "  File \"/tmp/ipykernel_13383/428024133.py\", line 1, in <module>\n",
      "    get_ipython().run_cell_magic('timeit', '-n 10', '\\ns=pd.Series(np.random.randint(0,1000,1000))\\n\\nfor label, value in s.iteritems():\\n    s.loc[label]=value+2\\n')\n",
      "  File \"/home/mauricio/.local/lib/python3.10/site-packages/IPython/core/interactiveshell.py\", line 2517, in run_cell_magic\n",
      "    result = fn(*args, **kwargs)\n",
      "  File \"/home/mauricio/.local/lib/python3.10/site-packages/IPython/core/magics/execution.py\", line 1189, in timeit\n",
      "    all_runs = timer.repeat(repeat, number)\n",
      "  File \"/usr/lib/python3.10/timeit.py\", line 206, in repeat\n",
      "    t = self.timeit(number)\n",
      "  File \"/home/mauricio/.local/lib/python3.10/site-packages/IPython/core/magics/execution.py\", line 173, in timeit\n",
      "    timing = self.inner(it, self.timer)\n",
      "  File \"<magic-timeit>\", line 3, in inner\n",
      "  File \"/home/mauricio/.local/lib/python3.10/site-packages/pandas/core/generic.py\", line 6204, in __getattr__\n",
      "    return object.__getattribute__(self, name)\n",
      "AttributeError: 'Series' object has no attribute 'iteritems'\n",
      "\n",
      "During handling of the above exception, another exception occurred:\n",
      "\n",
      "Traceback (most recent call last):\n",
      "  File \"/home/mauricio/.local/lib/python3.10/site-packages/IPython/core/interactiveshell.py\", line 2144, in showtraceback\n",
      "    stb = self.InteractiveTB.structured_traceback(\n",
      "  File \"/home/mauricio/.local/lib/python3.10/site-packages/IPython/core/ultratb.py\", line 1435, in structured_traceback\n",
      "    return FormattedTB.structured_traceback(\n",
      "  File \"/home/mauricio/.local/lib/python3.10/site-packages/IPython/core/ultratb.py\", line 1326, in structured_traceback\n",
      "    return VerboseTB.structured_traceback(\n",
      "  File \"/home/mauricio/.local/lib/python3.10/site-packages/IPython/core/ultratb.py\", line 1173, in structured_traceback\n",
      "    formatted_exception = self.format_exception_as_a_whole(etype, evalue, etb, number_of_lines_of_context,\n",
      "  File \"/home/mauricio/.local/lib/python3.10/site-packages/IPython/core/ultratb.py\", line 1063, in format_exception_as_a_whole\n",
      "    self.get_records(etb, number_of_lines_of_context, tb_offset) if etb else []\n",
      "  File \"/home/mauricio/.local/lib/python3.10/site-packages/IPython/core/ultratb.py\", line 1155, in get_records\n",
      "    FrameInfo(\n",
      "  File \"/home/mauricio/.local/lib/python3.10/site-packages/IPython/core/ultratb.py\", line 780, in __init__\n",
      "    ix = inspect.getsourcelines(frame)\n",
      "  File \"/usr/lib/python3.10/inspect.py\", line 1121, in getsourcelines\n",
      "    lines, lnum = findsource(object)\n",
      "  File \"/usr/lib/python3.10/inspect.py\", line 958, in findsource\n",
      "    raise OSError('could not get source code')\n",
      "OSError: could not get source code\n"
     ]
    }
   ],
   "source": [
    "%%timeit -n 10\n",
    "\n",
    "s=pd.Series(np.random.randint(0,1000,1000))\n",
    "\n",
    "for label, value in s.iteritems():\n",
    "    s.loc[label]=value+2"
   ]
  },
  {
   "cell_type": "code",
   "execution_count": 33,
   "metadata": {},
   "outputs": [
    {
     "name": "stdout",
     "output_type": "stream",
     "text": [
      "162 µs ± 38.2 µs per loop (mean ± std. dev. of 7 runs, 10 loops each)\n"
     ]
    }
   ],
   "source": [
    "%%timeit -n 10\n",
    "\n",
    "s=pd.Series(np.random.randint(0,1000,1000))\n",
    "s+=2"
   ]
  },
  {
   "cell_type": "code",
   "execution_count": 34,
   "metadata": {},
   "outputs": [
    {
     "data": {
      "text/plain": [
       "0            1\n",
       "1            2\n",
       "2            3\n",
       "History    102\n",
       "dtype: int64"
      ]
     },
     "execution_count": 34,
     "metadata": {},
     "output_type": "execute_result"
    }
   ],
   "source": [
    "s=pd.Series([1,2,3])\n",
    "s.loc['History']=102\n",
    "s"
   ]
  },
  {
   "cell_type": "code",
   "execution_count": 35,
   "metadata": {},
   "outputs": [
    {
     "data": {
      "text/plain": [
       "{'Alice': 'Physics', 'Jack': 'Chemistry', 'Molly': 'English', 'Sam': 'History'}"
      ]
     },
     "execution_count": 35,
     "metadata": {},
     "output_type": "execute_result"
    }
   ],
   "source": [
    "students_classes"
   ]
  },
  {
   "cell_type": "code",
   "execution_count": 36,
   "metadata": {},
   "outputs": [
    {
     "data": {
      "text/plain": [
       "Kelly    Pholosophy\n",
       "Kelly          Arts\n",
       "Kelly          Math\n",
       "dtype: object"
      ]
     },
     "execution_count": 36,
     "metadata": {},
     "output_type": "execute_result"
    }
   ],
   "source": [
    "kelly_classes=pd.Series(['Pholosophy','Arts','Math'], index=['Kelly','Kelly','Kelly'])\n",
    "kelly_classes"
   ]
  },
  {
   "cell_type": "code",
   "execution_count": 40,
   "metadata": {},
   "outputs": [],
   "source": [
    "students_classes=pd.Series(students_classes)\n"
   ]
  },
  {
   "cell_type": "code",
   "execution_count": 41,
   "metadata": {},
   "outputs": [
    {
     "data": {
      "text/plain": [
       "Alice      Physics\n",
       "Jack     Chemistry\n",
       "Molly      English\n",
       "Sam        History\n",
       "dtype: object"
      ]
     },
     "execution_count": 41,
     "metadata": {},
     "output_type": "execute_result"
    }
   ],
   "source": [
    "students_classes"
   ]
  },
  {
   "cell_type": "code",
   "execution_count": 43,
   "metadata": {},
   "outputs": [
    {
     "data": {
      "text/plain": [
       "Alice       Physics\n",
       "Jack      Chemistry\n",
       "Molly       English\n",
       "Sam         History\n",
       "Kelly    Pholosophy\n",
       "Kelly          Arts\n",
       "Kelly          Math\n",
       "dtype: object"
      ]
     },
     "execution_count": 43,
     "metadata": {},
     "output_type": "execute_result"
    }
   ],
   "source": [
    "all_students_classes=students_classes._append(kelly_classes)\n",
    "all_students_classes"
   ]
  },
  {
   "cell_type": "code",
   "execution_count": 44,
   "metadata": {},
   "outputs": [
    {
     "data": {
      "text/plain": [
       "Alice      Physics\n",
       "Jack     Chemistry\n",
       "Molly      English\n",
       "Sam        History\n",
       "dtype: object"
      ]
     },
     "execution_count": 44,
     "metadata": {},
     "output_type": "execute_result"
    }
   ],
   "source": [
    "students_classes"
   ]
  },
  {
   "cell_type": "code",
   "execution_count": 45,
   "metadata": {},
   "outputs": [
    {
     "data": {
      "text/plain": [
       "Alice       Physics\n",
       "Jack      Chemistry\n",
       "Molly       English\n",
       "Sam         History\n",
       "Kelly    Pholosophy\n",
       "Kelly          Arts\n",
       "Kelly          Math\n",
       "dtype: object"
      ]
     },
     "execution_count": 45,
     "metadata": {},
     "output_type": "execute_result"
    }
   ],
   "source": [
    "all_students_classes=pd.concat([students_classes,kelly_classes])\n",
    "all_students_classes"
   ]
  },
  {
   "cell_type": "code",
   "execution_count": 46,
   "metadata": {},
   "outputs": [
    {
     "data": {
      "text/plain": [
       "Kelly    Pholosophy\n",
       "Kelly          Arts\n",
       "Kelly          Math\n",
       "dtype: object"
      ]
     },
     "execution_count": 46,
     "metadata": {},
     "output_type": "execute_result"
    }
   ],
   "source": [
    "all_students_classes.loc['Kelly']"
   ]
  },
  {
   "cell_type": "markdown",
   "metadata": {},
   "source": [
    "### DataFrame Data Structure"
   ]
  },
  {
   "cell_type": "code",
   "execution_count": 47,
   "metadata": {},
   "outputs": [],
   "source": [
    "import pandas as pd"
   ]
  },
  {
   "cell_type": "code",
   "execution_count": 50,
   "metadata": {},
   "outputs": [],
   "source": [
    "record1=pd.Series({'Name':'Alice','Class':'Physics', 'Score':85})\n",
    "record2=pd.Series({'Name':'Jack','Class':'Chemistry','Score':90})\n",
    "record3=pd.Series({'Name':'Helen','Class':'Biology','Score':90})"
   ]
  },
  {
   "cell_type": "code",
   "execution_count": 51,
   "metadata": {},
   "outputs": [
    {
     "data": {
      "text/html": [
       "<div>\n",
       "<style scoped>\n",
       "    .dataframe tbody tr th:only-of-type {\n",
       "        vertical-align: middle;\n",
       "    }\n",
       "\n",
       "    .dataframe tbody tr th {\n",
       "        vertical-align: top;\n",
       "    }\n",
       "\n",
       "    .dataframe thead th {\n",
       "        text-align: right;\n",
       "    }\n",
       "</style>\n",
       "<table border=\"1\" class=\"dataframe\">\n",
       "  <thead>\n",
       "    <tr style=\"text-align: right;\">\n",
       "      <th></th>\n",
       "      <th>Name</th>\n",
       "      <th>Class</th>\n",
       "      <th>Score</th>\n",
       "    </tr>\n",
       "  </thead>\n",
       "  <tbody>\n",
       "    <tr>\n",
       "      <th>school1</th>\n",
       "      <td>Alice</td>\n",
       "      <td>Physics</td>\n",
       "      <td>85</td>\n",
       "    </tr>\n",
       "    <tr>\n",
       "      <th>school2</th>\n",
       "      <td>Jack</td>\n",
       "      <td>Chemistry</td>\n",
       "      <td>90</td>\n",
       "    </tr>\n",
       "    <tr>\n",
       "      <th>school3</th>\n",
       "      <td>Helen</td>\n",
       "      <td>Biology</td>\n",
       "      <td>90</td>\n",
       "    </tr>\n",
       "  </tbody>\n",
       "</table>\n",
       "</div>"
      ],
      "text/plain": [
       "          Name      Class  Score\n",
       "school1  Alice    Physics     85\n",
       "school2   Jack  Chemistry     90\n",
       "school3  Helen    Biology     90"
      ]
     },
     "execution_count": 51,
     "metadata": {},
     "output_type": "execute_result"
    }
   ],
   "source": [
    "df=pd.DataFrame([record1,record2,record3],\n",
    "                index=['school1','school2','school3'])\n",
    "\n",
    "df.head()"
   ]
  },
  {
   "cell_type": "code",
   "execution_count": 58,
   "metadata": {},
   "outputs": [
    {
     "data": {
      "text/html": [
       "<div>\n",
       "<style scoped>\n",
       "    .dataframe tbody tr th:only-of-type {\n",
       "        vertical-align: middle;\n",
       "    }\n",
       "\n",
       "    .dataframe tbody tr th {\n",
       "        vertical-align: top;\n",
       "    }\n",
       "\n",
       "    .dataframe thead th {\n",
       "        text-align: right;\n",
       "    }\n",
       "</style>\n",
       "<table border=\"1\" class=\"dataframe\">\n",
       "  <thead>\n",
       "    <tr style=\"text-align: right;\">\n",
       "      <th></th>\n",
       "      <th>Name</th>\n",
       "      <th>Class</th>\n",
       "      <th>Score</th>\n",
       "    </tr>\n",
       "  </thead>\n",
       "  <tbody>\n",
       "    <tr>\n",
       "      <th>school1</th>\n",
       "      <td>Alice</td>\n",
       "      <td>Physics</td>\n",
       "      <td>85</td>\n",
       "    </tr>\n",
       "    <tr>\n",
       "      <th>school2</th>\n",
       "      <td>Jack</td>\n",
       "      <td>Chemistry</td>\n",
       "      <td>90</td>\n",
       "    </tr>\n",
       "    <tr>\n",
       "      <th>school1</th>\n",
       "      <td>Helen</td>\n",
       "      <td>Biology</td>\n",
       "      <td>90</td>\n",
       "    </tr>\n",
       "  </tbody>\n",
       "</table>\n",
       "</div>"
      ],
      "text/plain": [
       "          Name      Class  Score\n",
       "school1  Alice    Physics     85\n",
       "school2   Jack  Chemistry     90\n",
       "school1  Helen    Biology     90"
      ]
     },
     "execution_count": 58,
     "metadata": {},
     "output_type": "execute_result"
    }
   ],
   "source": [
    "students=[{'Name':'Alice','Class':'Physics', 'Score':85},{'Name':'Jack','Class':'Chemistry','Score':90},{'Name':'Helen','Class':'Biology','Score':90}]\n",
    "df=pd.DataFrame(students,index=['school1','school2','school1'])\n",
    "df.head()"
   ]
  },
  {
   "cell_type": "code",
   "execution_count": 59,
   "metadata": {},
   "outputs": [
    {
     "data": {
      "text/plain": [
       "Name          Jack\n",
       "Class    Chemistry\n",
       "Score           90\n",
       "Name: school2, dtype: object"
      ]
     },
     "execution_count": 59,
     "metadata": {},
     "output_type": "execute_result"
    }
   ],
   "source": [
    "df.loc['school2']"
   ]
  },
  {
   "cell_type": "code",
   "execution_count": 56,
   "metadata": {},
   "outputs": [
    {
     "data": {
      "text/plain": [
       "pandas.core.series.Series"
      ]
     },
     "execution_count": 56,
     "metadata": {},
     "output_type": "execute_result"
    }
   ],
   "source": [
    "type(df.loc['school2'])"
   ]
  },
  {
   "cell_type": "code",
   "execution_count": 60,
   "metadata": {},
   "outputs": [
    {
     "data": {
      "text/html": [
       "<div>\n",
       "<style scoped>\n",
       "    .dataframe tbody tr th:only-of-type {\n",
       "        vertical-align: middle;\n",
       "    }\n",
       "\n",
       "    .dataframe tbody tr th {\n",
       "        vertical-align: top;\n",
       "    }\n",
       "\n",
       "    .dataframe thead th {\n",
       "        text-align: right;\n",
       "    }\n",
       "</style>\n",
       "<table border=\"1\" class=\"dataframe\">\n",
       "  <thead>\n",
       "    <tr style=\"text-align: right;\">\n",
       "      <th></th>\n",
       "      <th>Name</th>\n",
       "      <th>Class</th>\n",
       "      <th>Score</th>\n",
       "    </tr>\n",
       "  </thead>\n",
       "  <tbody>\n",
       "    <tr>\n",
       "      <th>school1</th>\n",
       "      <td>Alice</td>\n",
       "      <td>Physics</td>\n",
       "      <td>85</td>\n",
       "    </tr>\n",
       "    <tr>\n",
       "      <th>school1</th>\n",
       "      <td>Helen</td>\n",
       "      <td>Biology</td>\n",
       "      <td>90</td>\n",
       "    </tr>\n",
       "  </tbody>\n",
       "</table>\n",
       "</div>"
      ],
      "text/plain": [
       "          Name    Class  Score\n",
       "school1  Alice  Physics     85\n",
       "school1  Helen  Biology     90"
      ]
     },
     "execution_count": 60,
     "metadata": {},
     "output_type": "execute_result"
    }
   ],
   "source": [
    "df.loc['school1']"
   ]
  },
  {
   "cell_type": "code",
   "execution_count": 61,
   "metadata": {},
   "outputs": [
    {
     "data": {
      "text/plain": [
       "pandas.core.frame.DataFrame"
      ]
     },
     "execution_count": 61,
     "metadata": {},
     "output_type": "execute_result"
    }
   ],
   "source": [
    "type(df.loc['school1'])"
   ]
  },
  {
   "cell_type": "code",
   "execution_count": 62,
   "metadata": {},
   "outputs": [
    {
     "data": {
      "text/plain": [
       "school1    Alice\n",
       "school1    Helen\n",
       "Name: Name, dtype: object"
      ]
     },
     "execution_count": 62,
     "metadata": {},
     "output_type": "execute_result"
    }
   ],
   "source": [
    "df.loc['school1','Name']"
   ]
  },
  {
   "cell_type": "code",
   "execution_count": 63,
   "metadata": {},
   "outputs": [
    {
     "data": {
      "text/html": [
       "<div>\n",
       "<style scoped>\n",
       "    .dataframe tbody tr th:only-of-type {\n",
       "        vertical-align: middle;\n",
       "    }\n",
       "\n",
       "    .dataframe tbody tr th {\n",
       "        vertical-align: top;\n",
       "    }\n",
       "\n",
       "    .dataframe thead th {\n",
       "        text-align: right;\n",
       "    }\n",
       "</style>\n",
       "<table border=\"1\" class=\"dataframe\">\n",
       "  <thead>\n",
       "    <tr style=\"text-align: right;\">\n",
       "      <th></th>\n",
       "      <th>school1</th>\n",
       "      <th>school2</th>\n",
       "      <th>school1</th>\n",
       "    </tr>\n",
       "  </thead>\n",
       "  <tbody>\n",
       "    <tr>\n",
       "      <th>Name</th>\n",
       "      <td>Alice</td>\n",
       "      <td>Jack</td>\n",
       "      <td>Helen</td>\n",
       "    </tr>\n",
       "    <tr>\n",
       "      <th>Class</th>\n",
       "      <td>Physics</td>\n",
       "      <td>Chemistry</td>\n",
       "      <td>Biology</td>\n",
       "    </tr>\n",
       "    <tr>\n",
       "      <th>Score</th>\n",
       "      <td>85</td>\n",
       "      <td>90</td>\n",
       "      <td>90</td>\n",
       "    </tr>\n",
       "  </tbody>\n",
       "</table>\n",
       "</div>"
      ],
      "text/plain": [
       "       school1    school2  school1\n",
       "Name     Alice       Jack    Helen\n",
       "Class  Physics  Chemistry  Biology\n",
       "Score       85         90       90"
      ]
     },
     "execution_count": 63,
     "metadata": {},
     "output_type": "execute_result"
    }
   ],
   "source": [
    "df.T"
   ]
  },
  {
   "cell_type": "code",
   "execution_count": 64,
   "metadata": {},
   "outputs": [
    {
     "data": {
      "text/plain": [
       "school1    Alice\n",
       "school2     Jack\n",
       "school1    Helen\n",
       "Name: Name, dtype: object"
      ]
     },
     "execution_count": 64,
     "metadata": {},
     "output_type": "execute_result"
    }
   ],
   "source": [
    "df.T.loc['Name']"
   ]
  },
  {
   "cell_type": "code",
   "execution_count": 65,
   "metadata": {},
   "outputs": [
    {
     "data": {
      "text/plain": [
       "school1    Alice\n",
       "school2     Jack\n",
       "school1    Helen\n",
       "Name: Name, dtype: object"
      ]
     },
     "execution_count": 65,
     "metadata": {},
     "output_type": "execute_result"
    }
   ],
   "source": [
    "df['Name']"
   ]
  },
  {
   "cell_type": "code",
   "execution_count": 66,
   "metadata": {},
   "outputs": [
    {
     "data": {
      "text/plain": [
       "pandas.core.series.Series"
      ]
     },
     "execution_count": 66,
     "metadata": {},
     "output_type": "execute_result"
    }
   ],
   "source": [
    "type(df['Name'])"
   ]
  },
  {
   "cell_type": "code",
   "execution_count": 67,
   "metadata": {},
   "outputs": [
    {
     "data": {
      "text/plain": [
       "school1    Alice\n",
       "school1    Helen\n",
       "Name: Name, dtype: object"
      ]
     },
     "execution_count": 67,
     "metadata": {},
     "output_type": "execute_result"
    }
   ],
   "source": [
    "df.loc['school1']['Name']"
   ]
  },
  {
   "cell_type": "code",
   "execution_count": 69,
   "metadata": {},
   "outputs": [
    {
     "data": {
      "text/html": [
       "<div>\n",
       "<style scoped>\n",
       "    .dataframe tbody tr th:only-of-type {\n",
       "        vertical-align: middle;\n",
       "    }\n",
       "\n",
       "    .dataframe tbody tr th {\n",
       "        vertical-align: top;\n",
       "    }\n",
       "\n",
       "    .dataframe thead th {\n",
       "        text-align: right;\n",
       "    }\n",
       "</style>\n",
       "<table border=\"1\" class=\"dataframe\">\n",
       "  <thead>\n",
       "    <tr style=\"text-align: right;\">\n",
       "      <th></th>\n",
       "      <th>Name</th>\n",
       "      <th>Score</th>\n",
       "    </tr>\n",
       "  </thead>\n",
       "  <tbody>\n",
       "    <tr>\n",
       "      <th>school1</th>\n",
       "      <td>Alice</td>\n",
       "      <td>85</td>\n",
       "    </tr>\n",
       "    <tr>\n",
       "      <th>school2</th>\n",
       "      <td>Jack</td>\n",
       "      <td>90</td>\n",
       "    </tr>\n",
       "    <tr>\n",
       "      <th>school1</th>\n",
       "      <td>Helen</td>\n",
       "      <td>90</td>\n",
       "    </tr>\n",
       "  </tbody>\n",
       "</table>\n",
       "</div>"
      ],
      "text/plain": [
       "          Name  Score\n",
       "school1  Alice     85\n",
       "school2   Jack     90\n",
       "school1  Helen     90"
      ]
     },
     "execution_count": 69,
     "metadata": {},
     "output_type": "execute_result"
    }
   ],
   "source": [
    "df.loc[:,['Name','Score']]"
   ]
  },
  {
   "cell_type": "code",
   "execution_count": 70,
   "metadata": {},
   "outputs": [
    {
     "data": {
      "text/html": [
       "<div>\n",
       "<style scoped>\n",
       "    .dataframe tbody tr th:only-of-type {\n",
       "        vertical-align: middle;\n",
       "    }\n",
       "\n",
       "    .dataframe tbody tr th {\n",
       "        vertical-align: top;\n",
       "    }\n",
       "\n",
       "    .dataframe thead th {\n",
       "        text-align: right;\n",
       "    }\n",
       "</style>\n",
       "<table border=\"1\" class=\"dataframe\">\n",
       "  <thead>\n",
       "    <tr style=\"text-align: right;\">\n",
       "      <th></th>\n",
       "      <th>Name</th>\n",
       "      <th>Class</th>\n",
       "      <th>Score</th>\n",
       "    </tr>\n",
       "  </thead>\n",
       "  <tbody>\n",
       "    <tr>\n",
       "      <th>school2</th>\n",
       "      <td>Jack</td>\n",
       "      <td>Chemistry</td>\n",
       "      <td>90</td>\n",
       "    </tr>\n",
       "  </tbody>\n",
       "</table>\n",
       "</div>"
      ],
      "text/plain": [
       "         Name      Class  Score\n",
       "school2  Jack  Chemistry     90"
      ]
     },
     "execution_count": 70,
     "metadata": {},
     "output_type": "execute_result"
    }
   ],
   "source": [
    "df.drop('school1')"
   ]
  },
  {
   "cell_type": "code",
   "execution_count": 71,
   "metadata": {},
   "outputs": [
    {
     "data": {
      "text/html": [
       "<div>\n",
       "<style scoped>\n",
       "    .dataframe tbody tr th:only-of-type {\n",
       "        vertical-align: middle;\n",
       "    }\n",
       "\n",
       "    .dataframe tbody tr th {\n",
       "        vertical-align: top;\n",
       "    }\n",
       "\n",
       "    .dataframe thead th {\n",
       "        text-align: right;\n",
       "    }\n",
       "</style>\n",
       "<table border=\"1\" class=\"dataframe\">\n",
       "  <thead>\n",
       "    <tr style=\"text-align: right;\">\n",
       "      <th></th>\n",
       "      <th>Name</th>\n",
       "      <th>Class</th>\n",
       "      <th>Score</th>\n",
       "    </tr>\n",
       "  </thead>\n",
       "  <tbody>\n",
       "    <tr>\n",
       "      <th>school1</th>\n",
       "      <td>Alice</td>\n",
       "      <td>Physics</td>\n",
       "      <td>85</td>\n",
       "    </tr>\n",
       "    <tr>\n",
       "      <th>school2</th>\n",
       "      <td>Jack</td>\n",
       "      <td>Chemistry</td>\n",
       "      <td>90</td>\n",
       "    </tr>\n",
       "    <tr>\n",
       "      <th>school1</th>\n",
       "      <td>Helen</td>\n",
       "      <td>Biology</td>\n",
       "      <td>90</td>\n",
       "    </tr>\n",
       "  </tbody>\n",
       "</table>\n",
       "</div>"
      ],
      "text/plain": [
       "          Name      Class  Score\n",
       "school1  Alice    Physics     85\n",
       "school2   Jack  Chemistry     90\n",
       "school1  Helen    Biology     90"
      ]
     },
     "execution_count": 71,
     "metadata": {},
     "output_type": "execute_result"
    }
   ],
   "source": [
    "df"
   ]
  },
  {
   "cell_type": "code",
   "execution_count": 72,
   "metadata": {},
   "outputs": [
    {
     "data": {
      "text/html": [
       "<div>\n",
       "<style scoped>\n",
       "    .dataframe tbody tr th:only-of-type {\n",
       "        vertical-align: middle;\n",
       "    }\n",
       "\n",
       "    .dataframe tbody tr th {\n",
       "        vertical-align: top;\n",
       "    }\n",
       "\n",
       "    .dataframe thead th {\n",
       "        text-align: right;\n",
       "    }\n",
       "</style>\n",
       "<table border=\"1\" class=\"dataframe\">\n",
       "  <thead>\n",
       "    <tr style=\"text-align: right;\">\n",
       "      <th></th>\n",
       "      <th>Class</th>\n",
       "      <th>Score</th>\n",
       "    </tr>\n",
       "  </thead>\n",
       "  <tbody>\n",
       "    <tr>\n",
       "      <th>school1</th>\n",
       "      <td>Physics</td>\n",
       "      <td>85</td>\n",
       "    </tr>\n",
       "    <tr>\n",
       "      <th>school2</th>\n",
       "      <td>Chemistry</td>\n",
       "      <td>90</td>\n",
       "    </tr>\n",
       "    <tr>\n",
       "      <th>school1</th>\n",
       "      <td>Biology</td>\n",
       "      <td>90</td>\n",
       "    </tr>\n",
       "  </tbody>\n",
       "</table>\n",
       "</div>"
      ],
      "text/plain": [
       "             Class  Score\n",
       "school1    Physics     85\n",
       "school2  Chemistry     90\n",
       "school1    Biology     90"
      ]
     },
     "execution_count": 72,
     "metadata": {},
     "output_type": "execute_result"
    }
   ],
   "source": [
    "copy_df=df.copy()\n",
    "copy_df.drop(\"Name\",inplace=True,axis=1)\n",
    "copy_df"
   ]
  },
  {
   "cell_type": "code",
   "execution_count": 73,
   "metadata": {},
   "outputs": [
    {
     "data": {
      "text/html": [
       "<div>\n",
       "<style scoped>\n",
       "    .dataframe tbody tr th:only-of-type {\n",
       "        vertical-align: middle;\n",
       "    }\n",
       "\n",
       "    .dataframe tbody tr th {\n",
       "        vertical-align: top;\n",
       "    }\n",
       "\n",
       "    .dataframe thead th {\n",
       "        text-align: right;\n",
       "    }\n",
       "</style>\n",
       "<table border=\"1\" class=\"dataframe\">\n",
       "  <thead>\n",
       "    <tr style=\"text-align: right;\">\n",
       "      <th></th>\n",
       "      <th>Score</th>\n",
       "    </tr>\n",
       "  </thead>\n",
       "  <tbody>\n",
       "    <tr>\n",
       "      <th>school1</th>\n",
       "      <td>85</td>\n",
       "    </tr>\n",
       "    <tr>\n",
       "      <th>school2</th>\n",
       "      <td>90</td>\n",
       "    </tr>\n",
       "    <tr>\n",
       "      <th>school1</th>\n",
       "      <td>90</td>\n",
       "    </tr>\n",
       "  </tbody>\n",
       "</table>\n",
       "</div>"
      ],
      "text/plain": [
       "         Score\n",
       "school1     85\n",
       "school2     90\n",
       "school1     90"
      ]
     },
     "execution_count": 73,
     "metadata": {},
     "output_type": "execute_result"
    }
   ],
   "source": [
    "del copy_df['Class']\n",
    "copy_df"
   ]
  },
  {
   "cell_type": "code",
   "execution_count": 74,
   "metadata": {},
   "outputs": [
    {
     "data": {
      "text/html": [
       "<div>\n",
       "<style scoped>\n",
       "    .dataframe tbody tr th:only-of-type {\n",
       "        vertical-align: middle;\n",
       "    }\n",
       "\n",
       "    .dataframe tbody tr th {\n",
       "        vertical-align: top;\n",
       "    }\n",
       "\n",
       "    .dataframe thead th {\n",
       "        text-align: right;\n",
       "    }\n",
       "</style>\n",
       "<table border=\"1\" class=\"dataframe\">\n",
       "  <thead>\n",
       "    <tr style=\"text-align: right;\">\n",
       "      <th></th>\n",
       "      <th>Name</th>\n",
       "      <th>Class</th>\n",
       "      <th>Score</th>\n",
       "      <th>ClassRanking</th>\n",
       "    </tr>\n",
       "  </thead>\n",
       "  <tbody>\n",
       "    <tr>\n",
       "      <th>school1</th>\n",
       "      <td>Alice</td>\n",
       "      <td>Physics</td>\n",
       "      <td>85</td>\n",
       "      <td>None</td>\n",
       "    </tr>\n",
       "    <tr>\n",
       "      <th>school2</th>\n",
       "      <td>Jack</td>\n",
       "      <td>Chemistry</td>\n",
       "      <td>90</td>\n",
       "      <td>None</td>\n",
       "    </tr>\n",
       "    <tr>\n",
       "      <th>school1</th>\n",
       "      <td>Helen</td>\n",
       "      <td>Biology</td>\n",
       "      <td>90</td>\n",
       "      <td>None</td>\n",
       "    </tr>\n",
       "  </tbody>\n",
       "</table>\n",
       "</div>"
      ],
      "text/plain": [
       "          Name      Class  Score ClassRanking\n",
       "school1  Alice    Physics     85         None\n",
       "school2   Jack  Chemistry     90         None\n",
       "school1  Helen    Biology     90         None"
      ]
     },
     "execution_count": 74,
     "metadata": {},
     "output_type": "execute_result"
    }
   ],
   "source": [
    "df['ClassRanking']=None\n",
    "df"
   ]
  },
  {
   "cell_type": "markdown",
   "metadata": {},
   "source": [
    "### DataFrame Indexing and Loading"
   ]
  },
  {
   "cell_type": "code",
   "execution_count": 75,
   "metadata": {},
   "outputs": [
    {
     "name": "stdout",
     "output_type": "stream",
     "text": [
      "Serial No.,GRE Score,TOEFL Score,University Rating,SOP,LOR ,CGPA,Research,Chance of Admit \n",
      "1,337,118,4,4.5,4.5,9.65,1,0.92\n",
      "2,324,107,4,4,4.5,8.87,1,0.76\n",
      "3,316,104,3,3,3.5,8,1,0.72\n",
      "4,322,110,3,3.5,2.5,8.67,1,0.8\n",
      "5,314,103,2,2,3,8.21,0,0.65\n",
      "6,330,115,5,4.5,3,9.34,1,0.9\n",
      "7,321,109,3,3,4,8.2,1,0.75\n",
      "8,308,101,2,3,4,7.9,0,0.68\n",
      "9,302,102,1,2,1.5,8,0,0.5\n",
      "10,323,108,3,3.5,3,8.6,0,0.45\n",
      "11,325,106,3,3.5,4,8.4,1,0.52\n",
      "12,327,111,4,4,4.5,9,1,0.84\n",
      "13,328,112,4,4,4.5,9.1,1,0.78\n",
      "14,307,109,3,4,3,8,1,0.62\n",
      "15,311,104,3,3.5,2,8.2,1,0.61\n",
      "16,314,105,3,3.5,2.5,8.3,0,0.54\n",
      "17,317,107,3,4,3,8.7,0,0.66\n",
      "18,319,106,3,4,3,8,1,0.65\n",
      "19,318,110,3,4,3,8.8,0,0.63\n",
      "20,303,102,3,3.5,3,8.5,0,0.62\n",
      "21,312,107,3,3,2,7.9,1,0.64\n",
      "22,325,114,4,3,2,8.4,0,0.7\n",
      "23,328,116,5,5,5,9.5,1,0.94\n",
      "24,334,119,5,5,4.5,9.7,1,0.95\n",
      "25,336,119,5,4,3.5,9.8,1,0.97\n",
      "26,340,120,5,4.5,4.5,9.6,1,0.94\n",
      "27,322,109,5,4.5,3.5,8.8,0,0.76\n",
      "28,298,98,2,1.5,2.5,7.5,1,0.44\n",
      "29,295,93,1,2,2,7.2,0,0.46\n",
      "30,310,99,2,1.5,2,7.3,0,0.54\n",
      "31,300,97,2,3,3,8.1,1,0.65\n",
      "32,327,103,3,4,4,8.3,1,0.74\n",
      "33,338,118,4,3,4.5,9.4,1,0.91\n",
      "34,340,114,5,4,4,9.6,1,0.9\n",
      "35,331,112,5,4,5,9.8,1,0.94\n",
      "36,320,110,5,5,5,9.2,1,0.88\n",
      "37,299,106,2,4,4,8.4,0,0.64\n",
      "38,300,105,1,1,2,7.8,0,0.58\n",
      "39,304,105,1,3,1.5,7.5,0,0.52\n",
      "40,307,108,2,4,3.5,7.7,0,0.48\n",
      "41,308,110,3,3.5,3,8,1,0.46\n",
      "42,316,105,2,2.5,2.5,8.2,1,0.49\n",
      "43,313,107,2,2.5,2,8.5,1,0.53\n",
      "44,332,117,4,4.5,4,9.1,0,0.87\n",
      "45,326,113,5,4.5,4,9.4,1,0.91\n",
      "46,322,110,5,5,4,9.1,1,0.88\n",
      "47,329,114,5,4,5,9.3,1,0.86\n",
      "48,339,119,5,4.5,4,9.7,0,0.89\n",
      "49,321,110,3,3.5,5,8.85,1,0.82\n",
      "50,327,111,4,3,4,8.4,1,0.78\n",
      "51,313,98,3,2.5,4.5,8.3,1,0.76\n",
      "52,312,100,2,1.5,3.5,7.9,1,0.56\n",
      "53,334,116,4,4,3,8,1,0.78\n",
      "54,324,112,4,4,2.5,8.1,1,0.72\n",
      "55,322,110,3,3,3.5,8,0,0.7\n",
      "56,320,103,3,3,3,7.7,0,0.64\n",
      "57,316,102,3,2,3,7.4,0,0.64\n",
      "58,298,99,2,4,2,7.6,0,0.46\n",
      "59,300,99,1,3,2,6.8,1,0.36\n",
      "60,311,104,2,2,2,8.3,0,0.42\n",
      "61,309,100,2,3,3,8.1,0,0.48\n",
      "62,307,101,3,4,3,8.2,0,0.47\n",
      "63,304,105,2,3,3,8.2,1,0.54\n",
      "64,315,107,2,4,3,8.5,1,0.56\n",
      "65,325,111,3,3,3.5,8.7,0,0.52\n",
      "66,325,112,4,3.5,3.5,8.92,0,0.55\n",
      "67,327,114,3,3,3,9.02,0,0.61\n",
      "68,316,107,2,3.5,3.5,8.64,1,0.57\n",
      "69,318,109,3,3.5,4,9.22,1,0.68\n",
      "70,328,115,4,4.5,4,9.16,1,0.78\n",
      "71,332,118,5,5,5,9.64,1,0.94\n",
      "72,336,112,5,5,5,9.76,1,0.96\n",
      "73,321,111,5,5,5,9.45,1,0.93\n",
      "74,314,108,4,4.5,4,9.04,1,0.84\n",
      "75,314,106,3,3,5,8.9,0,0.74\n",
      "76,329,114,2,2,4,8.56,1,0.72\n",
      "77,327,112,3,3,3,8.72,1,0.74\n",
      "78,301,99,2,3,2,8.22,0,0.64\n",
      "79,296,95,2,3,2,7.54,1,0.44\n",
      "80,294,93,1,1.5,2,7.36,0,0.46\n",
      "81,312,105,3,2,3,8.02,1,0.5\n",
      "82,340,120,4,5,5,9.5,1,0.96\n",
      "83,320,110,5,5,4.5,9.22,1,0.92\n",
      "84,322,115,5,4,4.5,9.36,1,0.92\n",
      "85,340,115,5,4.5,4.5,9.45,1,0.94\n",
      "86,319,103,4,4.5,3.5,8.66,0,0.76\n",
      "87,315,106,3,4.5,3.5,8.42,0,0.72\n",
      "88,317,107,2,3.5,3,8.28,0,0.66\n",
      "89,314,108,3,4.5,3.5,8.14,0,0.64\n",
      "90,316,109,4,4.5,3.5,8.76,1,0.74\n",
      "91,318,106,2,4,4,7.92,1,0.64\n",
      "92,299,97,3,5,3.5,7.66,0,0.38\n",
      "93,298,98,2,4,3,8.03,0,0.34\n",
      "94,301,97,2,3,3,7.88,1,0.44\n",
      "95,303,99,3,2,2.5,7.66,0,0.36\n",
      "96,304,100,4,1.5,2.5,7.84,0,0.42\n",
      "97,306,100,2,3,3,8,0,0.48\n",
      "98,331,120,3,4,4,8.96,1,0.86\n",
      "99,332,119,4,5,4.5,9.24,1,0.9\n",
      "100,323,113,3,4,4,8.88,1,0.79\n",
      "101,322,107,3,3.5,3.5,8.46,1,0.71\n",
      "102,312,105,2,2.5,3,8.12,0,0.64\n",
      "103,314,106,2,4,3.5,8.25,0,0.62\n",
      "104,317,104,2,4.5,4,8.47,0,0.57\n",
      "105,326,112,3,3.5,3,9.05,1,0.74\n",
      "106,316,110,3,4,4.5,8.78,1,0.69\n",
      "107,329,111,4,4.5,4.5,9.18,1,0.87\n",
      "108,338,117,4,3.5,4.5,9.46,1,0.91\n",
      "109,331,116,5,5,5,9.38,1,0.93\n",
      "110,304,103,5,5,4,8.64,0,0.68\n",
      "111,305,108,5,3,3,8.48,0,0.61\n",
      "112,321,109,4,4,4,8.68,1,0.69\n",
      "113,301,107,3,3.5,3.5,8.34,1,0.62\n",
      "114,320,110,2,4,3.5,8.56,0,0.72\n",
      "115,311,105,3,3.5,3,8.45,1,0.59\n",
      "116,310,106,4,4.5,4.5,9.04,1,0.66\n",
      "117,299,102,3,4,3.5,8.62,0,0.56\n",
      "118,290,104,4,2,2.5,7.46,0,0.45\n",
      "119,296,99,2,3,3.5,7.28,0,0.47\n",
      "120,327,104,5,3,3.5,8.84,1,0.71\n",
      "121,335,117,5,5,5,9.56,1,0.94\n",
      "122,334,119,5,4.5,4.5,9.48,1,0.94\n",
      "123,310,106,4,1.5,2.5,8.36,0,0.57\n",
      "124,308,108,3,3.5,3.5,8.22,0,0.61\n",
      "125,301,106,4,2.5,3,8.47,0,0.57\n",
      "126,300,100,3,2,3,8.66,1,0.64\n",
      "127,323,113,3,4,3,9.32,1,0.85\n",
      "128,319,112,3,2.5,2,8.71,1,0.78\n",
      "129,326,112,3,3.5,3,9.1,1,0.84\n",
      "130,333,118,5,5,5,9.35,1,0.92\n",
      "131,339,114,5,4,4.5,9.76,1,0.96\n",
      "132,303,105,5,5,4.5,8.65,0,0.77\n",
      "133,309,105,5,3.5,3.5,8.56,0,0.71\n",
      "134,323,112,5,4,4.5,8.78,0,0.79\n",
      "135,333,113,5,4,4,9.28,1,0.89\n",
      "136,314,109,4,3.5,4,8.77,1,0.82\n",
      "137,312,103,3,5,4,8.45,0,0.76\n",
      "138,316,100,2,1.5,3,8.16,1,0.71\n",
      "139,326,116,2,4.5,3,9.08,1,0.8\n",
      "140,318,109,1,3.5,3.5,9.12,0,0.78\n",
      "141,329,110,2,4,3,9.15,1,0.84\n",
      "142,332,118,2,4.5,3.5,9.36,1,0.9\n",
      "143,331,115,5,4,3.5,9.44,1,0.92\n",
      "144,340,120,4,4.5,4,9.92,1,0.97\n",
      "145,325,112,2,3,3.5,8.96,1,0.8\n",
      "146,320,113,2,2,2.5,8.64,1,0.81\n",
      "147,315,105,3,2,2.5,8.48,0,0.75\n",
      "148,326,114,3,3,3,9.11,1,0.83\n",
      "149,339,116,4,4,3.5,9.8,1,0.96\n",
      "150,311,106,2,3.5,3,8.26,1,0.79\n",
      "151,334,114,4,4,4,9.43,1,0.93\n",
      "152,332,116,5,5,5,9.28,1,0.94\n",
      "153,321,112,5,5,5,9.06,1,0.86\n",
      "154,324,105,3,3,4,8.75,0,0.79\n",
      "155,326,108,3,3,3.5,8.89,0,0.8\n",
      "156,312,109,3,3,3,8.69,0,0.77\n",
      "157,315,105,3,2,2.5,8.34,0,0.7\n",
      "158,309,104,2,2,2.5,8.26,0,0.65\n",
      "159,306,106,2,2,2.5,8.14,0,0.61\n",
      "160,297,100,1,1.5,2,7.9,0,0.52\n",
      "161,315,103,1,1.5,2,7.86,0,0.57\n",
      "162,298,99,1,1.5,3,7.46,0,0.53\n",
      "163,318,109,3,3,3,8.5,0,0.67\n",
      "164,317,105,3,3.5,3,8.56,0,0.68\n",
      "165,329,111,4,4.5,4,9.01,1,0.81\n",
      "166,322,110,5,4.5,4,8.97,0,0.78\n",
      "167,302,102,3,3.5,5,8.33,0,0.65\n",
      "168,313,102,3,2,3,8.27,0,0.64\n",
      "169,293,97,2,2,4,7.8,1,0.64\n",
      "170,311,99,2,2.5,3,7.98,0,0.65\n",
      "171,312,101,2,2.5,3.5,8.04,1,0.68\n",
      "172,334,117,5,4,4.5,9.07,1,0.89\n",
      "173,322,110,4,4,5,9.13,1,0.86\n",
      "174,323,113,4,4,4.5,9.23,1,0.89\n",
      "175,321,111,4,4,4,8.97,1,0.87\n",
      "176,320,111,4,4.5,3.5,8.87,1,0.85\n",
      "177,329,119,4,4.5,4.5,9.16,1,0.9\n",
      "178,319,110,3,3.5,3.5,9.04,0,0.82\n",
      "179,309,108,3,2.5,3,8.12,0,0.72\n",
      "180,307,102,3,3,3,8.27,0,0.73\n",
      "181,300,104,3,3.5,3,8.16,0,0.71\n",
      "182,305,107,2,2.5,2.5,8.42,0,0.71\n",
      "183,299,100,2,3,3.5,7.88,0,0.68\n",
      "184,314,110,3,4,4,8.8,0,0.75\n",
      "185,316,106,2,2.5,4,8.32,0,0.72\n",
      "186,327,113,4,4.5,4.5,9.11,1,0.89\n",
      "187,317,107,3,3.5,3,8.68,1,0.84\n",
      "188,335,118,5,4.5,3.5,9.44,1,0.93\n",
      "189,331,115,5,4.5,3.5,9.36,1,0.93\n",
      "190,324,112,5,5,5,9.08,1,0.88\n",
      "191,324,111,5,4.5,4,9.16,1,0.9\n",
      "192,323,110,5,4,5,8.98,1,0.87\n",
      "193,322,114,5,4.5,4,8.94,1,0.86\n",
      "194,336,118,5,4.5,5,9.53,1,0.94\n",
      "195,316,109,3,3.5,3,8.76,0,0.77\n",
      "196,307,107,2,3,3.5,8.52,1,0.78\n",
      "197,306,105,2,3,2.5,8.26,0,0.73\n",
      "198,310,106,2,3.5,2.5,8.33,0,0.73\n",
      "199,311,104,3,4.5,4.5,8.43,0,0.7\n",
      "200,313,107,3,4,4.5,8.69,0,0.72\n",
      "201,317,103,3,2.5,3,8.54,1,0.73\n",
      "202,315,110,2,3.5,3,8.46,1,0.72\n",
      "203,340,120,5,4.5,4.5,9.91,1,0.97\n",
      "204,334,120,5,4,5,9.87,1,0.97\n",
      "205,298,105,3,3.5,4,8.54,0,0.69\n",
      "206,295,99,2,2.5,3,7.65,0,0.57\n",
      "207,315,99,2,3.5,3,7.89,0,0.63\n",
      "208,310,102,3,3.5,4,8.02,1,0.66\n",
      "209,305,106,2,3,3,8.16,0,0.64\n",
      "210,301,104,3,3.5,4,8.12,1,0.68\n",
      "211,325,108,4,4.5,4,9.06,1,0.79\n",
      "212,328,110,4,5,4,9.14,1,0.82\n",
      "213,338,120,4,5,5,9.66,1,0.95\n",
      "214,333,119,5,5,4.5,9.78,1,0.96\n",
      "215,331,117,4,4.5,5,9.42,1,0.94\n",
      "216,330,116,5,5,4.5,9.36,1,0.93\n",
      "217,322,112,4,4.5,4.5,9.26,1,0.91\n",
      "218,321,109,4,4,4,9.13,1,0.85\n",
      "219,324,110,4,3,3.5,8.97,1,0.84\n",
      "220,312,104,3,3.5,3.5,8.42,0,0.74\n",
      "221,313,103,3,4,4,8.75,0,0.76\n",
      "222,316,110,3,3.5,4,8.56,0,0.75\n",
      "223,324,113,4,4.5,4,8.79,0,0.76\n",
      "224,308,109,2,3,4,8.45,0,0.71\n",
      "225,305,105,2,3,2,8.23,0,0.67\n",
      "226,296,99,2,2.5,2.5,8.03,0,0.61\n",
      "227,306,110,2,3.5,4,8.45,0,0.63\n",
      "228,312,110,2,3.5,3,8.53,0,0.64\n",
      "229,318,112,3,4,3.5,8.67,0,0.71\n",
      "230,324,111,4,3,3,9.01,1,0.82\n",
      "231,313,104,3,4,4.5,8.65,0,0.73\n",
      "232,319,106,3,3.5,2.5,8.33,1,0.74\n",
      "233,312,107,2,2.5,3.5,8.27,0,0.69\n",
      "234,304,100,2,2.5,3.5,8.07,0,0.64\n",
      "235,330,113,5,5,4,9.31,1,0.91\n",
      "236,326,111,5,4.5,4,9.23,1,0.88\n",
      "237,325,112,4,4,4.5,9.17,1,0.85\n",
      "238,329,114,5,4.5,5,9.19,1,0.86\n",
      "239,310,104,3,2,3.5,8.37,0,0.7\n",
      "240,299,100,1,1.5,2,7.89,0,0.59\n",
      "241,296,101,1,2.5,3,7.68,0,0.6\n",
      "242,317,103,2,2.5,2,8.15,0,0.65\n",
      "243,324,115,3,3.5,3,8.76,1,0.7\n",
      "244,325,114,3,3.5,3,9.04,1,0.76\n",
      "245,314,107,2,2.5,4,8.56,0,0.63\n",
      "246,328,110,4,4,2.5,9.02,1,0.81\n",
      "247,316,105,3,3,3.5,8.73,0,0.72\n",
      "248,311,104,2,2.5,3.5,8.48,0,0.71\n",
      "249,324,110,3,3.5,4,8.87,1,0.8\n",
      "250,321,111,3,3.5,4,8.83,1,0.77\n",
      "251,320,104,3,3,2.5,8.57,1,0.74\n",
      "252,316,99,2,2.5,3,9,0,0.7\n",
      "253,318,100,2,2.5,3.5,8.54,1,0.71\n",
      "254,335,115,4,4.5,4.5,9.68,1,0.93\n",
      "255,321,114,4,4,5,9.12,0,0.85\n",
      "256,307,110,4,4,4.5,8.37,0,0.79\n",
      "257,309,99,3,4,4,8.56,0,0.76\n",
      "258,324,100,3,4,5,8.64,1,0.78\n",
      "259,326,102,4,5,5,8.76,1,0.77\n",
      "260,331,119,4,5,4.5,9.34,1,0.9\n",
      "261,327,108,5,5,3.5,9.13,1,0.87\n",
      "262,312,104,3,3.5,4,8.09,0,0.71\n",
      "263,308,103,2,2.5,4,8.36,1,0.7\n",
      "264,324,111,3,2.5,1.5,8.79,1,0.7\n",
      "265,325,110,2,3,2.5,8.76,1,0.75\n",
      "266,313,102,3,2.5,2.5,8.68,0,0.71\n",
      "267,312,105,2,2,2.5,8.45,0,0.72\n",
      "268,314,107,3,3,3.5,8.17,1,0.73\n",
      "269,327,113,4,4.5,5,9.14,0,0.83\n",
      "270,308,108,4,4.5,5,8.34,0,0.77\n",
      "271,306,105,2,2.5,3,8.22,1,0.72\n",
      "272,299,96,2,1.5,2,7.86,0,0.54\n",
      "273,294,95,1,1.5,1.5,7.64,0,0.49\n",
      "274,312,99,1,1,1.5,8.01,1,0.52\n",
      "275,315,100,1,2,2.5,7.95,0,0.58\n",
      "276,322,110,3,3.5,3,8.96,1,0.78\n",
      "277,329,113,5,5,4.5,9.45,1,0.89\n",
      "278,320,101,2,2.5,3,8.62,0,0.7\n",
      "279,308,103,2,3,3.5,8.49,0,0.66\n",
      "280,304,102,2,3,4,8.73,0,0.67\n",
      "281,311,102,3,4.5,4,8.64,1,0.68\n",
      "282,317,110,3,4,4.5,9.11,1,0.8\n",
      "283,312,106,3,4,3.5,8.79,1,0.81\n",
      "284,321,111,3,2.5,3,8.9,1,0.8\n",
      "285,340,112,4,5,4.5,9.66,1,0.94\n",
      "286,331,116,5,4,4,9.26,1,0.93\n",
      "287,336,118,5,4.5,4,9.19,1,0.92\n",
      "288,324,114,5,5,4.5,9.08,1,0.89\n",
      "289,314,104,4,5,5,9.02,0,0.82\n",
      "290,313,109,3,4,3.5,9,0,0.79\n",
      "291,307,105,2,2.5,3,7.65,0,0.58\n",
      "292,300,102,2,1.5,2,7.87,0,0.56\n",
      "293,302,99,2,1,2,7.97,0,0.56\n",
      "294,312,98,1,3.5,3,8.18,1,0.64\n",
      "295,316,101,2,2.5,2,8.32,1,0.61\n",
      "296,317,100,2,3,2.5,8.57,0,0.68\n",
      "297,310,107,3,3.5,3.5,8.67,0,0.76\n",
      "298,320,120,3,4,4.5,9.11,0,0.86\n",
      "299,330,114,3,4.5,4.5,9.24,1,0.9\n",
      "300,305,112,3,3,3.5,8.65,0,0.71\n",
      "301,309,106,2,2.5,2.5,8,0,0.62\n",
      "302,319,108,2,2.5,3,8.76,0,0.66\n",
      "303,322,105,2,3,3,8.45,1,0.65\n",
      "304,323,107,3,3.5,3.5,8.55,1,0.73\n",
      "305,313,106,2,2.5,2,8.43,0,0.62\n",
      "306,321,109,3,3.5,3.5,8.8,1,0.74\n",
      "307,323,110,3,4,3.5,9.1,1,0.79\n",
      "308,325,112,4,4,4,9,1,0.8\n",
      "309,312,108,3,3.5,3,8.53,0,0.69\n",
      "310,308,110,4,3.5,3,8.6,0,0.7\n",
      "311,320,104,3,3,3.5,8.74,1,0.76\n",
      "312,328,108,4,4.5,4,9.18,1,0.84\n",
      "313,311,107,4,4.5,4.5,9,1,0.78\n",
      "314,301,100,3,3.5,3,8.04,0,0.67\n",
      "315,305,105,2,3,4,8.13,0,0.66\n",
      "316,308,104,2,2.5,3,8.07,0,0.65\n",
      "317,298,101,2,1.5,2,7.86,0,0.54\n",
      "318,300,99,1,1,2.5,8.01,0,0.58\n",
      "319,324,111,3,2.5,2,8.8,1,0.79\n",
      "320,327,113,4,3.5,3,8.69,1,0.8\n",
      "321,317,106,3,4,3.5,8.5,1,0.75\n",
      "322,323,104,3,4,4,8.44,1,0.73\n",
      "323,314,107,2,2.5,4,8.27,0,0.72\n",
      "324,305,102,2,2,2.5,8.18,0,0.62\n",
      "325,315,104,3,3,2.5,8.33,0,0.67\n",
      "326,326,116,3,3.5,4,9.14,1,0.81\n",
      "327,299,100,3,2,2,8.02,0,0.63\n",
      "328,295,101,2,2.5,2,7.86,0,0.69\n",
      "329,324,112,4,4,3.5,8.77,1,0.8\n",
      "330,297,96,2,2.5,1.5,7.89,0,0.43\n",
      "331,327,113,3,3.5,3,8.66,1,0.8\n",
      "332,311,105,2,3,2,8.12,1,0.73\n",
      "333,308,106,3,3.5,2.5,8.21,1,0.75\n",
      "334,319,108,3,3,3.5,8.54,1,0.71\n",
      "335,312,107,4,4.5,4,8.65,1,0.73\n",
      "336,325,111,4,4,4.5,9.11,1,0.83\n",
      "337,319,110,3,3,2.5,8.79,0,0.72\n",
      "338,332,118,5,5,5,9.47,1,0.94\n",
      "339,323,108,5,4,4,8.74,1,0.81\n",
      "340,324,107,5,3.5,4,8.66,1,0.81\n",
      "341,312,107,3,3,3,8.46,1,0.75\n",
      "342,326,110,3,3.5,3.5,8.76,1,0.79\n",
      "343,308,106,3,3,3,8.24,0,0.58\n",
      "344,305,103,2,2.5,3.5,8.13,0,0.59\n",
      "345,295,96,2,1.5,2,7.34,0,0.47\n",
      "346,316,98,1,1.5,2,7.43,0,0.49\n",
      "347,304,97,2,1.5,2,7.64,0,0.47\n",
      "348,299,94,1,1,1,7.34,0,0.42\n",
      "349,302,99,1,2,2,7.25,0,0.57\n",
      "350,313,101,3,2.5,3,8.04,0,0.62\n",
      "351,318,107,3,3,3.5,8.27,1,0.74\n",
      "352,325,110,4,3.5,4,8.67,1,0.73\n",
      "353,303,100,2,3,3.5,8.06,1,0.64\n",
      "354,300,102,3,3.5,2.5,8.17,0,0.63\n",
      "355,297,98,2,2.5,3,7.67,0,0.59\n",
      "356,317,106,2,2,3.5,8.12,0,0.73\n",
      "357,327,109,3,3.5,4,8.77,1,0.79\n",
      "358,301,104,2,3.5,3.5,7.89,1,0.68\n",
      "359,314,105,2,2.5,2,7.64,0,0.7\n",
      "360,321,107,2,2,1.5,8.44,0,0.81\n",
      "361,322,110,3,4,5,8.64,1,0.85\n",
      "362,334,116,4,4,3.5,9.54,1,0.93\n",
      "363,338,115,5,4.5,5,9.23,1,0.91\n",
      "364,306,103,2,2.5,3,8.36,0,0.69\n",
      "365,313,102,3,3.5,4,8.9,1,0.77\n",
      "366,330,114,4,4.5,3,9.17,1,0.86\n",
      "367,320,104,3,3.5,4.5,8.34,1,0.74\n",
      "368,311,98,1,1,2.5,7.46,0,0.57\n",
      "369,298,92,1,2,2,7.88,0,0.51\n",
      "370,301,98,1,2,3,8.03,1,0.67\n",
      "371,310,103,2,2.5,2.5,8.24,0,0.72\n",
      "372,324,110,3,3.5,3,9.22,1,0.89\n",
      "373,336,119,4,4.5,4,9.62,1,0.95\n",
      "374,321,109,3,3,3,8.54,1,0.79\n",
      "375,315,105,2,2,2.5,7.65,0,0.39\n",
      "376,304,101,2,2,2.5,7.66,0,0.38\n",
      "377,297,96,2,2.5,2,7.43,0,0.34\n",
      "378,290,100,1,1.5,2,7.56,0,0.47\n",
      "379,303,98,1,2,2.5,7.65,0,0.56\n",
      "380,311,99,1,2.5,3,8.43,1,0.71\n",
      "381,322,104,3,3.5,4,8.84,1,0.78\n",
      "382,319,105,3,3,3.5,8.67,1,0.73\n",
      "383,324,110,4,4.5,4,9.15,1,0.82\n",
      "384,300,100,3,3,3.5,8.26,0,0.62\n",
      "385,340,113,4,5,5,9.74,1,0.96\n",
      "386,335,117,5,5,5,9.82,1,0.96\n",
      "387,302,101,2,2.5,3.5,7.96,0,0.46\n",
      "388,307,105,2,2,3.5,8.1,0,0.53\n",
      "389,296,97,2,1.5,2,7.8,0,0.49\n",
      "390,320,108,3,3.5,4,8.44,1,0.76\n",
      "391,314,102,2,2,2.5,8.24,0,0.64\n",
      "392,318,106,3,2,3,8.65,0,0.71\n",
      "393,326,112,4,4,3.5,9.12,1,0.84\n",
      "394,317,104,2,3,3,8.76,0,0.77\n",
      "395,329,111,4,4.5,4,9.23,1,0.89\n",
      "396,324,110,3,3.5,3.5,9.04,1,0.82\n",
      "397,325,107,3,3,3.5,9.11,1,0.84\n",
      "398,330,116,4,5,4.5,9.45,1,0.91\n",
      "399,312,103,3,3.5,4,8.78,0,0.67\n",
      "400,333,117,4,5,4,9.66,1,0.95"
     ]
    }
   ],
   "source": [
    "!cat datasets/Admission_Predict.csv"
   ]
  },
  {
   "cell_type": "code",
   "execution_count": 76,
   "metadata": {},
   "outputs": [
    {
     "data": {
      "text/html": [
       "<div>\n",
       "<style scoped>\n",
       "    .dataframe tbody tr th:only-of-type {\n",
       "        vertical-align: middle;\n",
       "    }\n",
       "\n",
       "    .dataframe tbody tr th {\n",
       "        vertical-align: top;\n",
       "    }\n",
       "\n",
       "    .dataframe thead th {\n",
       "        text-align: right;\n",
       "    }\n",
       "</style>\n",
       "<table border=\"1\" class=\"dataframe\">\n",
       "  <thead>\n",
       "    <tr style=\"text-align: right;\">\n",
       "      <th></th>\n",
       "      <th>Serial No.</th>\n",
       "      <th>GRE Score</th>\n",
       "      <th>TOEFL Score</th>\n",
       "      <th>University Rating</th>\n",
       "      <th>SOP</th>\n",
       "      <th>LOR</th>\n",
       "      <th>CGPA</th>\n",
       "      <th>Research</th>\n",
       "      <th>Chance of Admit</th>\n",
       "    </tr>\n",
       "  </thead>\n",
       "  <tbody>\n",
       "    <tr>\n",
       "      <th>0</th>\n",
       "      <td>1</td>\n",
       "      <td>337</td>\n",
       "      <td>118</td>\n",
       "      <td>4</td>\n",
       "      <td>4.5</td>\n",
       "      <td>4.5</td>\n",
       "      <td>9.65</td>\n",
       "      <td>1</td>\n",
       "      <td>0.92</td>\n",
       "    </tr>\n",
       "    <tr>\n",
       "      <th>1</th>\n",
       "      <td>2</td>\n",
       "      <td>324</td>\n",
       "      <td>107</td>\n",
       "      <td>4</td>\n",
       "      <td>4.0</td>\n",
       "      <td>4.5</td>\n",
       "      <td>8.87</td>\n",
       "      <td>1</td>\n",
       "      <td>0.76</td>\n",
       "    </tr>\n",
       "    <tr>\n",
       "      <th>2</th>\n",
       "      <td>3</td>\n",
       "      <td>316</td>\n",
       "      <td>104</td>\n",
       "      <td>3</td>\n",
       "      <td>3.0</td>\n",
       "      <td>3.5</td>\n",
       "      <td>8.00</td>\n",
       "      <td>1</td>\n",
       "      <td>0.72</td>\n",
       "    </tr>\n",
       "    <tr>\n",
       "      <th>3</th>\n",
       "      <td>4</td>\n",
       "      <td>322</td>\n",
       "      <td>110</td>\n",
       "      <td>3</td>\n",
       "      <td>3.5</td>\n",
       "      <td>2.5</td>\n",
       "      <td>8.67</td>\n",
       "      <td>1</td>\n",
       "      <td>0.80</td>\n",
       "    </tr>\n",
       "    <tr>\n",
       "      <th>4</th>\n",
       "      <td>5</td>\n",
       "      <td>314</td>\n",
       "      <td>103</td>\n",
       "      <td>2</td>\n",
       "      <td>2.0</td>\n",
       "      <td>3.0</td>\n",
       "      <td>8.21</td>\n",
       "      <td>0</td>\n",
       "      <td>0.65</td>\n",
       "    </tr>\n",
       "  </tbody>\n",
       "</table>\n",
       "</div>"
      ],
      "text/plain": [
       "   Serial No.  GRE Score  TOEFL Score  University Rating  SOP  LOR   CGPA  \\\n",
       "0           1        337          118                  4  4.5   4.5  9.65   \n",
       "1           2        324          107                  4  4.0   4.5  8.87   \n",
       "2           3        316          104                  3  3.0   3.5  8.00   \n",
       "3           4        322          110                  3  3.5   2.5  8.67   \n",
       "4           5        314          103                  2  2.0   3.0  8.21   \n",
       "\n",
       "   Research  Chance of Admit   \n",
       "0         1              0.92  \n",
       "1         1              0.76  \n",
       "2         1              0.72  \n",
       "3         1              0.80  \n",
       "4         0              0.65  "
      ]
     },
     "execution_count": 76,
     "metadata": {},
     "output_type": "execute_result"
    }
   ],
   "source": [
    "import pandas as pd\n",
    "df=pd.read_csv('datasets/Admission_Predict.csv')\n",
    "df.head()"
   ]
  },
  {
   "cell_type": "code",
   "execution_count": 77,
   "metadata": {},
   "outputs": [
    {
     "data": {
      "text/html": [
       "<div>\n",
       "<style scoped>\n",
       "    .dataframe tbody tr th:only-of-type {\n",
       "        vertical-align: middle;\n",
       "    }\n",
       "\n",
       "    .dataframe tbody tr th {\n",
       "        vertical-align: top;\n",
       "    }\n",
       "\n",
       "    .dataframe thead th {\n",
       "        text-align: right;\n",
       "    }\n",
       "</style>\n",
       "<table border=\"1\" class=\"dataframe\">\n",
       "  <thead>\n",
       "    <tr style=\"text-align: right;\">\n",
       "      <th></th>\n",
       "      <th>GRE Score</th>\n",
       "      <th>TOEFL Score</th>\n",
       "      <th>University Rating</th>\n",
       "      <th>SOP</th>\n",
       "      <th>LOR</th>\n",
       "      <th>CGPA</th>\n",
       "      <th>Research</th>\n",
       "      <th>Chance of Admit</th>\n",
       "    </tr>\n",
       "    <tr>\n",
       "      <th>Serial No.</th>\n",
       "      <th></th>\n",
       "      <th></th>\n",
       "      <th></th>\n",
       "      <th></th>\n",
       "      <th></th>\n",
       "      <th></th>\n",
       "      <th></th>\n",
       "      <th></th>\n",
       "    </tr>\n",
       "  </thead>\n",
       "  <tbody>\n",
       "    <tr>\n",
       "      <th>1</th>\n",
       "      <td>337</td>\n",
       "      <td>118</td>\n",
       "      <td>4</td>\n",
       "      <td>4.5</td>\n",
       "      <td>4.5</td>\n",
       "      <td>9.65</td>\n",
       "      <td>1</td>\n",
       "      <td>0.92</td>\n",
       "    </tr>\n",
       "    <tr>\n",
       "      <th>2</th>\n",
       "      <td>324</td>\n",
       "      <td>107</td>\n",
       "      <td>4</td>\n",
       "      <td>4.0</td>\n",
       "      <td>4.5</td>\n",
       "      <td>8.87</td>\n",
       "      <td>1</td>\n",
       "      <td>0.76</td>\n",
       "    </tr>\n",
       "    <tr>\n",
       "      <th>3</th>\n",
       "      <td>316</td>\n",
       "      <td>104</td>\n",
       "      <td>3</td>\n",
       "      <td>3.0</td>\n",
       "      <td>3.5</td>\n",
       "      <td>8.00</td>\n",
       "      <td>1</td>\n",
       "      <td>0.72</td>\n",
       "    </tr>\n",
       "    <tr>\n",
       "      <th>4</th>\n",
       "      <td>322</td>\n",
       "      <td>110</td>\n",
       "      <td>3</td>\n",
       "      <td>3.5</td>\n",
       "      <td>2.5</td>\n",
       "      <td>8.67</td>\n",
       "      <td>1</td>\n",
       "      <td>0.80</td>\n",
       "    </tr>\n",
       "    <tr>\n",
       "      <th>5</th>\n",
       "      <td>314</td>\n",
       "      <td>103</td>\n",
       "      <td>2</td>\n",
       "      <td>2.0</td>\n",
       "      <td>3.0</td>\n",
       "      <td>8.21</td>\n",
       "      <td>0</td>\n",
       "      <td>0.65</td>\n",
       "    </tr>\n",
       "  </tbody>\n",
       "</table>\n",
       "</div>"
      ],
      "text/plain": [
       "            GRE Score  TOEFL Score  University Rating  SOP  LOR   CGPA  \\\n",
       "Serial No.                                                               \n",
       "1                 337          118                  4  4.5   4.5  9.65   \n",
       "2                 324          107                  4  4.0   4.5  8.87   \n",
       "3                 316          104                  3  3.0   3.5  8.00   \n",
       "4                 322          110                  3  3.5   2.5  8.67   \n",
       "5                 314          103                  2  2.0   3.0  8.21   \n",
       "\n",
       "            Research  Chance of Admit   \n",
       "Serial No.                              \n",
       "1                  1              0.92  \n",
       "2                  1              0.76  \n",
       "3                  1              0.72  \n",
       "4                  1              0.80  \n",
       "5                  0              0.65  "
      ]
     },
     "execution_count": 77,
     "metadata": {},
     "output_type": "execute_result"
    }
   ],
   "source": [
    "df=pd.read_csv('datasets/Admission_Predict.csv',index_col=0)\n",
    "df.head()"
   ]
  },
  {
   "cell_type": "code",
   "execution_count": 83,
   "metadata": {},
   "outputs": [
    {
     "data": {
      "text/html": [
       "<div>\n",
       "<style scoped>\n",
       "    .dataframe tbody tr th:only-of-type {\n",
       "        vertical-align: middle;\n",
       "    }\n",
       "\n",
       "    .dataframe tbody tr th {\n",
       "        vertical-align: top;\n",
       "    }\n",
       "\n",
       "    .dataframe thead th {\n",
       "        text-align: right;\n",
       "    }\n",
       "</style>\n",
       "<table border=\"1\" class=\"dataframe\">\n",
       "  <thead>\n",
       "    <tr style=\"text-align: right;\">\n",
       "      <th></th>\n",
       "      <th>GRE Score</th>\n",
       "      <th>TOEFL Score</th>\n",
       "      <th>University Rating</th>\n",
       "      <th>Statement of Purpose</th>\n",
       "      <th>LOR</th>\n",
       "      <th>CGPA</th>\n",
       "      <th>Research</th>\n",
       "      <th>Chance of Admit</th>\n",
       "    </tr>\n",
       "    <tr>\n",
       "      <th>Serial No.</th>\n",
       "      <th></th>\n",
       "      <th></th>\n",
       "      <th></th>\n",
       "      <th></th>\n",
       "      <th></th>\n",
       "      <th></th>\n",
       "      <th></th>\n",
       "      <th></th>\n",
       "    </tr>\n",
       "  </thead>\n",
       "  <tbody>\n",
       "    <tr>\n",
       "      <th>1</th>\n",
       "      <td>337</td>\n",
       "      <td>118</td>\n",
       "      <td>4</td>\n",
       "      <td>4.5</td>\n",
       "      <td>4.5</td>\n",
       "      <td>9.65</td>\n",
       "      <td>1</td>\n",
       "      <td>0.92</td>\n",
       "    </tr>\n",
       "    <tr>\n",
       "      <th>2</th>\n",
       "      <td>324</td>\n",
       "      <td>107</td>\n",
       "      <td>4</td>\n",
       "      <td>4.0</td>\n",
       "      <td>4.5</td>\n",
       "      <td>8.87</td>\n",
       "      <td>1</td>\n",
       "      <td>0.76</td>\n",
       "    </tr>\n",
       "    <tr>\n",
       "      <th>3</th>\n",
       "      <td>316</td>\n",
       "      <td>104</td>\n",
       "      <td>3</td>\n",
       "      <td>3.0</td>\n",
       "      <td>3.5</td>\n",
       "      <td>8.00</td>\n",
       "      <td>1</td>\n",
       "      <td>0.72</td>\n",
       "    </tr>\n",
       "    <tr>\n",
       "      <th>4</th>\n",
       "      <td>322</td>\n",
       "      <td>110</td>\n",
       "      <td>3</td>\n",
       "      <td>3.5</td>\n",
       "      <td>2.5</td>\n",
       "      <td>8.67</td>\n",
       "      <td>1</td>\n",
       "      <td>0.80</td>\n",
       "    </tr>\n",
       "    <tr>\n",
       "      <th>5</th>\n",
       "      <td>314</td>\n",
       "      <td>103</td>\n",
       "      <td>2</td>\n",
       "      <td>2.0</td>\n",
       "      <td>3.0</td>\n",
       "      <td>8.21</td>\n",
       "      <td>0</td>\n",
       "      <td>0.65</td>\n",
       "    </tr>\n",
       "  </tbody>\n",
       "</table>\n",
       "</div>"
      ],
      "text/plain": [
       "            GRE Score  TOEFL Score  University Rating  Statement of Purpose  \\\n",
       "Serial No.                                                                    \n",
       "1                 337          118                  4                   4.5   \n",
       "2                 324          107                  4                   4.0   \n",
       "3                 316          104                  3                   3.0   \n",
       "4                 322          110                  3                   3.5   \n",
       "5                 314          103                  2                   2.0   \n",
       "\n",
       "            LOR   CGPA  Research  Chance of Admit   \n",
       "Serial No.                                          \n",
       "1            4.5  9.65         1              0.92  \n",
       "2            4.5  8.87         1              0.76  \n",
       "3            3.5  8.00         1              0.72  \n",
       "4            2.5  8.67         1              0.80  \n",
       "5            3.0  8.21         0              0.65  "
      ]
     },
     "execution_count": 83,
     "metadata": {},
     "output_type": "execute_result"
    }
   ],
   "source": [
    "new_df=df.rename(columns={'GRE Score':'GRE Score','TOEFL Score':'TOEFL Score','University Rating':'University Rating','SOP':'Statement of Purpose','LOR': 'Letter of Recommendation',\n",
    "                         'CGPA':'CGPA','Research':'Research','Chanche of Admit':'Chance of Admit' })\n",
    "\n",
    "new_df.head()"
   ]
  },
  {
   "cell_type": "code",
   "execution_count": 79,
   "metadata": {},
   "outputs": [
    {
     "data": {
      "text/plain": [
       "Index(['GRE Score', 'TOEFL Score', 'University Rating', 'Statement of Purpose',\n",
       "       'LOR ', 'CGPA', 'Research', 'Chance of Admit '],\n",
       "      dtype='object')"
      ]
     },
     "execution_count": 79,
     "metadata": {},
     "output_type": "execute_result"
    }
   ],
   "source": [
    "new_df.columns"
   ]
  },
  {
   "cell_type": "code",
   "execution_count": 80,
   "metadata": {},
   "outputs": [
    {
     "data": {
      "text/html": [
       "<div>\n",
       "<style scoped>\n",
       "    .dataframe tbody tr th:only-of-type {\n",
       "        vertical-align: middle;\n",
       "    }\n",
       "\n",
       "    .dataframe tbody tr th {\n",
       "        vertical-align: top;\n",
       "    }\n",
       "\n",
       "    .dataframe thead th {\n",
       "        text-align: right;\n",
       "    }\n",
       "</style>\n",
       "<table border=\"1\" class=\"dataframe\">\n",
       "  <thead>\n",
       "    <tr style=\"text-align: right;\">\n",
       "      <th></th>\n",
       "      <th>GRE Score</th>\n",
       "      <th>TOEFL Score</th>\n",
       "      <th>University Rating</th>\n",
       "      <th>Statement of Purpose</th>\n",
       "      <th>Letter of Recommendation</th>\n",
       "      <th>CGPA</th>\n",
       "      <th>Research</th>\n",
       "      <th>Chance of Admit</th>\n",
       "    </tr>\n",
       "    <tr>\n",
       "      <th>Serial No.</th>\n",
       "      <th></th>\n",
       "      <th></th>\n",
       "      <th></th>\n",
       "      <th></th>\n",
       "      <th></th>\n",
       "      <th></th>\n",
       "      <th></th>\n",
       "      <th></th>\n",
       "    </tr>\n",
       "  </thead>\n",
       "  <tbody>\n",
       "    <tr>\n",
       "      <th>1</th>\n",
       "      <td>337</td>\n",
       "      <td>118</td>\n",
       "      <td>4</td>\n",
       "      <td>4.5</td>\n",
       "      <td>4.5</td>\n",
       "      <td>9.65</td>\n",
       "      <td>1</td>\n",
       "      <td>0.92</td>\n",
       "    </tr>\n",
       "    <tr>\n",
       "      <th>2</th>\n",
       "      <td>324</td>\n",
       "      <td>107</td>\n",
       "      <td>4</td>\n",
       "      <td>4.0</td>\n",
       "      <td>4.5</td>\n",
       "      <td>8.87</td>\n",
       "      <td>1</td>\n",
       "      <td>0.76</td>\n",
       "    </tr>\n",
       "    <tr>\n",
       "      <th>3</th>\n",
       "      <td>316</td>\n",
       "      <td>104</td>\n",
       "      <td>3</td>\n",
       "      <td>3.0</td>\n",
       "      <td>3.5</td>\n",
       "      <td>8.00</td>\n",
       "      <td>1</td>\n",
       "      <td>0.72</td>\n",
       "    </tr>\n",
       "    <tr>\n",
       "      <th>4</th>\n",
       "      <td>322</td>\n",
       "      <td>110</td>\n",
       "      <td>3</td>\n",
       "      <td>3.5</td>\n",
       "      <td>2.5</td>\n",
       "      <td>8.67</td>\n",
       "      <td>1</td>\n",
       "      <td>0.80</td>\n",
       "    </tr>\n",
       "    <tr>\n",
       "      <th>5</th>\n",
       "      <td>314</td>\n",
       "      <td>103</td>\n",
       "      <td>2</td>\n",
       "      <td>2.0</td>\n",
       "      <td>3.0</td>\n",
       "      <td>8.21</td>\n",
       "      <td>0</td>\n",
       "      <td>0.65</td>\n",
       "    </tr>\n",
       "  </tbody>\n",
       "</table>\n",
       "</div>"
      ],
      "text/plain": [
       "            GRE Score  TOEFL Score  University Rating  Statement of Purpose  \\\n",
       "Serial No.                                                                    \n",
       "1                 337          118                  4                   4.5   \n",
       "2                 324          107                  4                   4.0   \n",
       "3                 316          104                  3                   3.0   \n",
       "4                 322          110                  3                   3.5   \n",
       "5                 314          103                  2                   2.0   \n",
       "\n",
       "            Letter of Recommendation  CGPA  Research  Chance of Admit   \n",
       "Serial No.                                                              \n",
       "1                                4.5  9.65         1              0.92  \n",
       "2                                4.5  8.87         1              0.76  \n",
       "3                                3.5  8.00         1              0.72  \n",
       "4                                2.5  8.67         1              0.80  \n",
       "5                                3.0  8.21         0              0.65  "
      ]
     },
     "execution_count": 80,
     "metadata": {},
     "output_type": "execute_result"
    }
   ],
   "source": [
    "new_df=df.rename(columns={'GRE Score':'GRE Score','TOEFL Score':'TOEFL Score','University Rating':'University Rating','SOP':'Statement of Purpose','LOR ': 'Letter of Recommendation',\n",
    "                         'CGPA':'CGPA','Research':'Research','Chanche of Admit':'Chance of Admit' })\n",
    "\n",
    "new_df.head()"
   ]
  },
  {
   "cell_type": "code",
   "execution_count": 84,
   "metadata": {},
   "outputs": [
    {
     "data": {
      "text/html": [
       "<div>\n",
       "<style scoped>\n",
       "    .dataframe tbody tr th:only-of-type {\n",
       "        vertical-align: middle;\n",
       "    }\n",
       "\n",
       "    .dataframe tbody tr th {\n",
       "        vertical-align: top;\n",
       "    }\n",
       "\n",
       "    .dataframe thead th {\n",
       "        text-align: right;\n",
       "    }\n",
       "</style>\n",
       "<table border=\"1\" class=\"dataframe\">\n",
       "  <thead>\n",
       "    <tr style=\"text-align: right;\">\n",
       "      <th></th>\n",
       "      <th>GRE Score</th>\n",
       "      <th>TOEFL Score</th>\n",
       "      <th>University Rating</th>\n",
       "      <th>Statement of Purpose</th>\n",
       "      <th>LOR</th>\n",
       "      <th>CGPA</th>\n",
       "      <th>Research</th>\n",
       "      <th>Chance of Admit</th>\n",
       "    </tr>\n",
       "    <tr>\n",
       "      <th>Serial No.</th>\n",
       "      <th></th>\n",
       "      <th></th>\n",
       "      <th></th>\n",
       "      <th></th>\n",
       "      <th></th>\n",
       "      <th></th>\n",
       "      <th></th>\n",
       "      <th></th>\n",
       "    </tr>\n",
       "  </thead>\n",
       "  <tbody>\n",
       "    <tr>\n",
       "      <th>1</th>\n",
       "      <td>337</td>\n",
       "      <td>118</td>\n",
       "      <td>4</td>\n",
       "      <td>4.5</td>\n",
       "      <td>4.5</td>\n",
       "      <td>9.65</td>\n",
       "      <td>1</td>\n",
       "      <td>0.92</td>\n",
       "    </tr>\n",
       "    <tr>\n",
       "      <th>2</th>\n",
       "      <td>324</td>\n",
       "      <td>107</td>\n",
       "      <td>4</td>\n",
       "      <td>4.0</td>\n",
       "      <td>4.5</td>\n",
       "      <td>8.87</td>\n",
       "      <td>1</td>\n",
       "      <td>0.76</td>\n",
       "    </tr>\n",
       "    <tr>\n",
       "      <th>3</th>\n",
       "      <td>316</td>\n",
       "      <td>104</td>\n",
       "      <td>3</td>\n",
       "      <td>3.0</td>\n",
       "      <td>3.5</td>\n",
       "      <td>8.00</td>\n",
       "      <td>1</td>\n",
       "      <td>0.72</td>\n",
       "    </tr>\n",
       "    <tr>\n",
       "      <th>4</th>\n",
       "      <td>322</td>\n",
       "      <td>110</td>\n",
       "      <td>3</td>\n",
       "      <td>3.5</td>\n",
       "      <td>2.5</td>\n",
       "      <td>8.67</td>\n",
       "      <td>1</td>\n",
       "      <td>0.80</td>\n",
       "    </tr>\n",
       "    <tr>\n",
       "      <th>5</th>\n",
       "      <td>314</td>\n",
       "      <td>103</td>\n",
       "      <td>2</td>\n",
       "      <td>2.0</td>\n",
       "      <td>3.0</td>\n",
       "      <td>8.21</td>\n",
       "      <td>0</td>\n",
       "      <td>0.65</td>\n",
       "    </tr>\n",
       "  </tbody>\n",
       "</table>\n",
       "</div>"
      ],
      "text/plain": [
       "            GRE Score  TOEFL Score  University Rating  Statement of Purpose  \\\n",
       "Serial No.                                                                    \n",
       "1                 337          118                  4                   4.5   \n",
       "2                 324          107                  4                   4.0   \n",
       "3                 316          104                  3                   3.0   \n",
       "4                 322          110                  3                   3.5   \n",
       "5                 314          103                  2                   2.0   \n",
       "\n",
       "            LOR  CGPA  Research  Chance of Admit  \n",
       "Serial No.                                        \n",
       "1           4.5  9.65         1             0.92  \n",
       "2           4.5  8.87         1             0.76  \n",
       "3           3.5  8.00         1             0.72  \n",
       "4           2.5  8.67         1             0.80  \n",
       "5           3.0  8.21         0             0.65  "
      ]
     },
     "execution_count": 84,
     "metadata": {},
     "output_type": "execute_result"
    }
   ],
   "source": [
    "new_df=new_df.rename(mapper=str.strip,axis='columns')\n",
    "\n",
    "new_df.head()"
   ]
  },
  {
   "cell_type": "code",
   "execution_count": 85,
   "metadata": {},
   "outputs": [
    {
     "data": {
      "text/plain": [
       "Index(['GRE Score', 'TOEFL Score', 'University Rating', 'SOP', 'LOR ', 'CGPA',\n",
       "       'Research', 'Chance of Admit '],\n",
       "      dtype='object')"
      ]
     },
     "execution_count": 85,
     "metadata": {},
     "output_type": "execute_result"
    }
   ],
   "source": [
    "df.columns"
   ]
  },
  {
   "cell_type": "code",
   "execution_count": 86,
   "metadata": {},
   "outputs": [
    {
     "data": {
      "text/html": [
       "<div>\n",
       "<style scoped>\n",
       "    .dataframe tbody tr th:only-of-type {\n",
       "        vertical-align: middle;\n",
       "    }\n",
       "\n",
       "    .dataframe tbody tr th {\n",
       "        vertical-align: top;\n",
       "    }\n",
       "\n",
       "    .dataframe thead th {\n",
       "        text-align: right;\n",
       "    }\n",
       "</style>\n",
       "<table border=\"1\" class=\"dataframe\">\n",
       "  <thead>\n",
       "    <tr style=\"text-align: right;\">\n",
       "      <th></th>\n",
       "      <th>gre score</th>\n",
       "      <th>toefl score</th>\n",
       "      <th>university rating</th>\n",
       "      <th>sop</th>\n",
       "      <th>lor</th>\n",
       "      <th>cgpa</th>\n",
       "      <th>research</th>\n",
       "      <th>chance of admit</th>\n",
       "    </tr>\n",
       "    <tr>\n",
       "      <th>Serial No.</th>\n",
       "      <th></th>\n",
       "      <th></th>\n",
       "      <th></th>\n",
       "      <th></th>\n",
       "      <th></th>\n",
       "      <th></th>\n",
       "      <th></th>\n",
       "      <th></th>\n",
       "    </tr>\n",
       "  </thead>\n",
       "  <tbody>\n",
       "    <tr>\n",
       "      <th>1</th>\n",
       "      <td>337</td>\n",
       "      <td>118</td>\n",
       "      <td>4</td>\n",
       "      <td>4.5</td>\n",
       "      <td>4.5</td>\n",
       "      <td>9.65</td>\n",
       "      <td>1</td>\n",
       "      <td>0.92</td>\n",
       "    </tr>\n",
       "    <tr>\n",
       "      <th>2</th>\n",
       "      <td>324</td>\n",
       "      <td>107</td>\n",
       "      <td>4</td>\n",
       "      <td>4.0</td>\n",
       "      <td>4.5</td>\n",
       "      <td>8.87</td>\n",
       "      <td>1</td>\n",
       "      <td>0.76</td>\n",
       "    </tr>\n",
       "    <tr>\n",
       "      <th>3</th>\n",
       "      <td>316</td>\n",
       "      <td>104</td>\n",
       "      <td>3</td>\n",
       "      <td>3.0</td>\n",
       "      <td>3.5</td>\n",
       "      <td>8.00</td>\n",
       "      <td>1</td>\n",
       "      <td>0.72</td>\n",
       "    </tr>\n",
       "    <tr>\n",
       "      <th>4</th>\n",
       "      <td>322</td>\n",
       "      <td>110</td>\n",
       "      <td>3</td>\n",
       "      <td>3.5</td>\n",
       "      <td>2.5</td>\n",
       "      <td>8.67</td>\n",
       "      <td>1</td>\n",
       "      <td>0.80</td>\n",
       "    </tr>\n",
       "    <tr>\n",
       "      <th>5</th>\n",
       "      <td>314</td>\n",
       "      <td>103</td>\n",
       "      <td>2</td>\n",
       "      <td>2.0</td>\n",
       "      <td>3.0</td>\n",
       "      <td>8.21</td>\n",
       "      <td>0</td>\n",
       "      <td>0.65</td>\n",
       "    </tr>\n",
       "  </tbody>\n",
       "</table>\n",
       "</div>"
      ],
      "text/plain": [
       "            gre score  toefl score  university rating  sop  lor  cgpa  \\\n",
       "Serial No.                                                              \n",
       "1                 337          118                  4  4.5  4.5  9.65   \n",
       "2                 324          107                  4  4.0  4.5  8.87   \n",
       "3                 316          104                  3  3.0  3.5  8.00   \n",
       "4                 322          110                  3  3.5  2.5  8.67   \n",
       "5                 314          103                  2  2.0  3.0  8.21   \n",
       "\n",
       "            research  chance of admit  \n",
       "Serial No.                             \n",
       "1                  1             0.92  \n",
       "2                  1             0.76  \n",
       "3                  1             0.72  \n",
       "4                  1             0.80  \n",
       "5                  0             0.65  "
      ]
     },
     "execution_count": 86,
     "metadata": {},
     "output_type": "execute_result"
    }
   ],
   "source": [
    "cols=list(df.columns)\n",
    "cols =[x.lower().strip() for x in cols]\n",
    "df.columns=cols\n",
    "df.head()"
   ]
  },
  {
   "cell_type": "markdown",
   "metadata": {},
   "source": [
    "### Querying a DataFrame"
   ]
  },
  {
   "cell_type": "code",
   "execution_count": 88,
   "metadata": {},
   "outputs": [
    {
     "data": {
      "text/html": [
       "<div>\n",
       "<style scoped>\n",
       "    .dataframe tbody tr th:only-of-type {\n",
       "        vertical-align: middle;\n",
       "    }\n",
       "\n",
       "    .dataframe tbody tr th {\n",
       "        vertical-align: top;\n",
       "    }\n",
       "\n",
       "    .dataframe thead th {\n",
       "        text-align: right;\n",
       "    }\n",
       "</style>\n",
       "<table border=\"1\" class=\"dataframe\">\n",
       "  <thead>\n",
       "    <tr style=\"text-align: right;\">\n",
       "      <th></th>\n",
       "      <th>gre score</th>\n",
       "      <th>toefl score</th>\n",
       "      <th>university rating</th>\n",
       "      <th>sop</th>\n",
       "      <th>lor</th>\n",
       "      <th>cgpa</th>\n",
       "      <th>research</th>\n",
       "      <th>chance of admit</th>\n",
       "    </tr>\n",
       "    <tr>\n",
       "      <th>Serial No.</th>\n",
       "      <th></th>\n",
       "      <th></th>\n",
       "      <th></th>\n",
       "      <th></th>\n",
       "      <th></th>\n",
       "      <th></th>\n",
       "      <th></th>\n",
       "      <th></th>\n",
       "    </tr>\n",
       "  </thead>\n",
       "  <tbody>\n",
       "    <tr>\n",
       "      <th>1</th>\n",
       "      <td>337</td>\n",
       "      <td>118</td>\n",
       "      <td>4</td>\n",
       "      <td>4.5</td>\n",
       "      <td>4.5</td>\n",
       "      <td>9.65</td>\n",
       "      <td>1</td>\n",
       "      <td>0.92</td>\n",
       "    </tr>\n",
       "    <tr>\n",
       "      <th>2</th>\n",
       "      <td>324</td>\n",
       "      <td>107</td>\n",
       "      <td>4</td>\n",
       "      <td>4.0</td>\n",
       "      <td>4.5</td>\n",
       "      <td>8.87</td>\n",
       "      <td>1</td>\n",
       "      <td>0.76</td>\n",
       "    </tr>\n",
       "    <tr>\n",
       "      <th>3</th>\n",
       "      <td>316</td>\n",
       "      <td>104</td>\n",
       "      <td>3</td>\n",
       "      <td>3.0</td>\n",
       "      <td>3.5</td>\n",
       "      <td>8.00</td>\n",
       "      <td>1</td>\n",
       "      <td>0.72</td>\n",
       "    </tr>\n",
       "    <tr>\n",
       "      <th>4</th>\n",
       "      <td>322</td>\n",
       "      <td>110</td>\n",
       "      <td>3</td>\n",
       "      <td>3.5</td>\n",
       "      <td>2.5</td>\n",
       "      <td>8.67</td>\n",
       "      <td>1</td>\n",
       "      <td>0.80</td>\n",
       "    </tr>\n",
       "    <tr>\n",
       "      <th>5</th>\n",
       "      <td>314</td>\n",
       "      <td>103</td>\n",
       "      <td>2</td>\n",
       "      <td>2.0</td>\n",
       "      <td>3.0</td>\n",
       "      <td>8.21</td>\n",
       "      <td>0</td>\n",
       "      <td>0.65</td>\n",
       "    </tr>\n",
       "  </tbody>\n",
       "</table>\n",
       "</div>"
      ],
      "text/plain": [
       "            gre score  toefl score  university rating  sop  lor  cgpa  \\\n",
       "Serial No.                                                              \n",
       "1                 337          118                  4  4.5  4.5  9.65   \n",
       "2                 324          107                  4  4.0  4.5  8.87   \n",
       "3                 316          104                  3  3.0  3.5  8.00   \n",
       "4                 322          110                  3  3.5  2.5  8.67   \n",
       "5                 314          103                  2  2.0  3.0  8.21   \n",
       "\n",
       "            research  chance of admit  \n",
       "Serial No.                             \n",
       "1                  1             0.92  \n",
       "2                  1             0.76  \n",
       "3                  1             0.72  \n",
       "4                  1             0.80  \n",
       "5                  0             0.65  "
      ]
     },
     "execution_count": 88,
     "metadata": {},
     "output_type": "execute_result"
    }
   ],
   "source": [
    "import pandas as pd\n",
    "\n",
    "df = pd.read_csv('datasets/Admission_Predict.csv',index_col=0)\n",
    "df.columns=[x.lower().strip() for x in df.columns]\n",
    "df.head()"
   ]
  },
  {
   "cell_type": "code",
   "execution_count": 90,
   "metadata": {},
   "outputs": [
    {
     "data": {
      "text/plain": [
       "Serial No.\n",
       "1       True\n",
       "2       True\n",
       "3       True\n",
       "4       True\n",
       "5      False\n",
       "       ...  \n",
       "396     True\n",
       "397     True\n",
       "398     True\n",
       "399    False\n",
       "400     True\n",
       "Name: chance of admit, Length: 400, dtype: bool"
      ]
     },
     "execution_count": 90,
     "metadata": {},
     "output_type": "execute_result"
    }
   ],
   "source": [
    "admit_mask=df['chance of admit']>0.7\n",
    "admit_mask"
   ]
  },
  {
   "cell_type": "code",
   "execution_count": 91,
   "metadata": {},
   "outputs": [
    {
     "data": {
      "text/html": [
       "<div>\n",
       "<style scoped>\n",
       "    .dataframe tbody tr th:only-of-type {\n",
       "        vertical-align: middle;\n",
       "    }\n",
       "\n",
       "    .dataframe tbody tr th {\n",
       "        vertical-align: top;\n",
       "    }\n",
       "\n",
       "    .dataframe thead th {\n",
       "        text-align: right;\n",
       "    }\n",
       "</style>\n",
       "<table border=\"1\" class=\"dataframe\">\n",
       "  <thead>\n",
       "    <tr style=\"text-align: right;\">\n",
       "      <th></th>\n",
       "      <th>gre score</th>\n",
       "      <th>toefl score</th>\n",
       "      <th>university rating</th>\n",
       "      <th>sop</th>\n",
       "      <th>lor</th>\n",
       "      <th>cgpa</th>\n",
       "      <th>research</th>\n",
       "      <th>chance of admit</th>\n",
       "    </tr>\n",
       "    <tr>\n",
       "      <th>Serial No.</th>\n",
       "      <th></th>\n",
       "      <th></th>\n",
       "      <th></th>\n",
       "      <th></th>\n",
       "      <th></th>\n",
       "      <th></th>\n",
       "      <th></th>\n",
       "      <th></th>\n",
       "    </tr>\n",
       "  </thead>\n",
       "  <tbody>\n",
       "    <tr>\n",
       "      <th>1</th>\n",
       "      <td>337.0</td>\n",
       "      <td>118.0</td>\n",
       "      <td>4.0</td>\n",
       "      <td>4.5</td>\n",
       "      <td>4.5</td>\n",
       "      <td>9.65</td>\n",
       "      <td>1.0</td>\n",
       "      <td>0.92</td>\n",
       "    </tr>\n",
       "    <tr>\n",
       "      <th>2</th>\n",
       "      <td>324.0</td>\n",
       "      <td>107.0</td>\n",
       "      <td>4.0</td>\n",
       "      <td>4.0</td>\n",
       "      <td>4.5</td>\n",
       "      <td>8.87</td>\n",
       "      <td>1.0</td>\n",
       "      <td>0.76</td>\n",
       "    </tr>\n",
       "    <tr>\n",
       "      <th>3</th>\n",
       "      <td>316.0</td>\n",
       "      <td>104.0</td>\n",
       "      <td>3.0</td>\n",
       "      <td>3.0</td>\n",
       "      <td>3.5</td>\n",
       "      <td>8.00</td>\n",
       "      <td>1.0</td>\n",
       "      <td>0.72</td>\n",
       "    </tr>\n",
       "    <tr>\n",
       "      <th>4</th>\n",
       "      <td>322.0</td>\n",
       "      <td>110.0</td>\n",
       "      <td>3.0</td>\n",
       "      <td>3.5</td>\n",
       "      <td>2.5</td>\n",
       "      <td>8.67</td>\n",
       "      <td>1.0</td>\n",
       "      <td>0.80</td>\n",
       "    </tr>\n",
       "    <tr>\n",
       "      <th>5</th>\n",
       "      <td>NaN</td>\n",
       "      <td>NaN</td>\n",
       "      <td>NaN</td>\n",
       "      <td>NaN</td>\n",
       "      <td>NaN</td>\n",
       "      <td>NaN</td>\n",
       "      <td>NaN</td>\n",
       "      <td>NaN</td>\n",
       "    </tr>\n",
       "  </tbody>\n",
       "</table>\n",
       "</div>"
      ],
      "text/plain": [
       "            gre score  toefl score  university rating  sop  lor  cgpa  \\\n",
       "Serial No.                                                              \n",
       "1               337.0        118.0                4.0  4.5  4.5  9.65   \n",
       "2               324.0        107.0                4.0  4.0  4.5  8.87   \n",
       "3               316.0        104.0                3.0  3.0  3.5  8.00   \n",
       "4               322.0        110.0                3.0  3.5  2.5  8.67   \n",
       "5                 NaN          NaN                NaN  NaN  NaN   NaN   \n",
       "\n",
       "            research  chance of admit  \n",
       "Serial No.                             \n",
       "1                1.0             0.92  \n",
       "2                1.0             0.76  \n",
       "3                1.0             0.72  \n",
       "4                1.0             0.80  \n",
       "5                NaN              NaN  "
      ]
     },
     "execution_count": 91,
     "metadata": {},
     "output_type": "execute_result"
    }
   ],
   "source": [
    "df.where(admit_mask).head()"
   ]
  },
  {
   "cell_type": "code",
   "execution_count": 92,
   "metadata": {},
   "outputs": [
    {
     "data": {
      "text/html": [
       "<div>\n",
       "<style scoped>\n",
       "    .dataframe tbody tr th:only-of-type {\n",
       "        vertical-align: middle;\n",
       "    }\n",
       "\n",
       "    .dataframe tbody tr th {\n",
       "        vertical-align: top;\n",
       "    }\n",
       "\n",
       "    .dataframe thead th {\n",
       "        text-align: right;\n",
       "    }\n",
       "</style>\n",
       "<table border=\"1\" class=\"dataframe\">\n",
       "  <thead>\n",
       "    <tr style=\"text-align: right;\">\n",
       "      <th></th>\n",
       "      <th>gre score</th>\n",
       "      <th>toefl score</th>\n",
       "      <th>university rating</th>\n",
       "      <th>sop</th>\n",
       "      <th>lor</th>\n",
       "      <th>cgpa</th>\n",
       "      <th>research</th>\n",
       "      <th>chance of admit</th>\n",
       "    </tr>\n",
       "    <tr>\n",
       "      <th>Serial No.</th>\n",
       "      <th></th>\n",
       "      <th></th>\n",
       "      <th></th>\n",
       "      <th></th>\n",
       "      <th></th>\n",
       "      <th></th>\n",
       "      <th></th>\n",
       "      <th></th>\n",
       "    </tr>\n",
       "  </thead>\n",
       "  <tbody>\n",
       "    <tr>\n",
       "      <th>1</th>\n",
       "      <td>337.0</td>\n",
       "      <td>118.0</td>\n",
       "      <td>4.0</td>\n",
       "      <td>4.5</td>\n",
       "      <td>4.5</td>\n",
       "      <td>9.65</td>\n",
       "      <td>1.0</td>\n",
       "      <td>0.92</td>\n",
       "    </tr>\n",
       "    <tr>\n",
       "      <th>2</th>\n",
       "      <td>324.0</td>\n",
       "      <td>107.0</td>\n",
       "      <td>4.0</td>\n",
       "      <td>4.0</td>\n",
       "      <td>4.5</td>\n",
       "      <td>8.87</td>\n",
       "      <td>1.0</td>\n",
       "      <td>0.76</td>\n",
       "    </tr>\n",
       "    <tr>\n",
       "      <th>3</th>\n",
       "      <td>316.0</td>\n",
       "      <td>104.0</td>\n",
       "      <td>3.0</td>\n",
       "      <td>3.0</td>\n",
       "      <td>3.5</td>\n",
       "      <td>8.00</td>\n",
       "      <td>1.0</td>\n",
       "      <td>0.72</td>\n",
       "    </tr>\n",
       "    <tr>\n",
       "      <th>4</th>\n",
       "      <td>322.0</td>\n",
       "      <td>110.0</td>\n",
       "      <td>3.0</td>\n",
       "      <td>3.5</td>\n",
       "      <td>2.5</td>\n",
       "      <td>8.67</td>\n",
       "      <td>1.0</td>\n",
       "      <td>0.80</td>\n",
       "    </tr>\n",
       "    <tr>\n",
       "      <th>6</th>\n",
       "      <td>330.0</td>\n",
       "      <td>115.0</td>\n",
       "      <td>5.0</td>\n",
       "      <td>4.5</td>\n",
       "      <td>3.0</td>\n",
       "      <td>9.34</td>\n",
       "      <td>1.0</td>\n",
       "      <td>0.90</td>\n",
       "    </tr>\n",
       "  </tbody>\n",
       "</table>\n",
       "</div>"
      ],
      "text/plain": [
       "            gre score  toefl score  university rating  sop  lor  cgpa  \\\n",
       "Serial No.                                                              \n",
       "1               337.0        118.0                4.0  4.5  4.5  9.65   \n",
       "2               324.0        107.0                4.0  4.0  4.5  8.87   \n",
       "3               316.0        104.0                3.0  3.0  3.5  8.00   \n",
       "4               322.0        110.0                3.0  3.5  2.5  8.67   \n",
       "6               330.0        115.0                5.0  4.5  3.0  9.34   \n",
       "\n",
       "            research  chance of admit  \n",
       "Serial No.                             \n",
       "1                1.0             0.92  \n",
       "2                1.0             0.76  \n",
       "3                1.0             0.72  \n",
       "4                1.0             0.80  \n",
       "6                1.0             0.90  "
      ]
     },
     "execution_count": 92,
     "metadata": {},
     "output_type": "execute_result"
    }
   ],
   "source": [
    "df.where(admit_mask).dropna().head()"
   ]
  },
  {
   "cell_type": "code",
   "execution_count": 93,
   "metadata": {},
   "outputs": [
    {
     "data": {
      "text/html": [
       "<div>\n",
       "<style scoped>\n",
       "    .dataframe tbody tr th:only-of-type {\n",
       "        vertical-align: middle;\n",
       "    }\n",
       "\n",
       "    .dataframe tbody tr th {\n",
       "        vertical-align: top;\n",
       "    }\n",
       "\n",
       "    .dataframe thead th {\n",
       "        text-align: right;\n",
       "    }\n",
       "</style>\n",
       "<table border=\"1\" class=\"dataframe\">\n",
       "  <thead>\n",
       "    <tr style=\"text-align: right;\">\n",
       "      <th></th>\n",
       "      <th>gre score</th>\n",
       "      <th>toefl score</th>\n",
       "      <th>university rating</th>\n",
       "      <th>sop</th>\n",
       "      <th>lor</th>\n",
       "      <th>cgpa</th>\n",
       "      <th>research</th>\n",
       "      <th>chance of admit</th>\n",
       "    </tr>\n",
       "    <tr>\n",
       "      <th>Serial No.</th>\n",
       "      <th></th>\n",
       "      <th></th>\n",
       "      <th></th>\n",
       "      <th></th>\n",
       "      <th></th>\n",
       "      <th></th>\n",
       "      <th></th>\n",
       "      <th></th>\n",
       "    </tr>\n",
       "  </thead>\n",
       "  <tbody>\n",
       "    <tr>\n",
       "      <th>1</th>\n",
       "      <td>337</td>\n",
       "      <td>118</td>\n",
       "      <td>4</td>\n",
       "      <td>4.5</td>\n",
       "      <td>4.5</td>\n",
       "      <td>9.65</td>\n",
       "      <td>1</td>\n",
       "      <td>0.92</td>\n",
       "    </tr>\n",
       "    <tr>\n",
       "      <th>2</th>\n",
       "      <td>324</td>\n",
       "      <td>107</td>\n",
       "      <td>4</td>\n",
       "      <td>4.0</td>\n",
       "      <td>4.5</td>\n",
       "      <td>8.87</td>\n",
       "      <td>1</td>\n",
       "      <td>0.76</td>\n",
       "    </tr>\n",
       "    <tr>\n",
       "      <th>3</th>\n",
       "      <td>316</td>\n",
       "      <td>104</td>\n",
       "      <td>3</td>\n",
       "      <td>3.0</td>\n",
       "      <td>3.5</td>\n",
       "      <td>8.00</td>\n",
       "      <td>1</td>\n",
       "      <td>0.72</td>\n",
       "    </tr>\n",
       "    <tr>\n",
       "      <th>4</th>\n",
       "      <td>322</td>\n",
       "      <td>110</td>\n",
       "      <td>3</td>\n",
       "      <td>3.5</td>\n",
       "      <td>2.5</td>\n",
       "      <td>8.67</td>\n",
       "      <td>1</td>\n",
       "      <td>0.80</td>\n",
       "    </tr>\n",
       "    <tr>\n",
       "      <th>6</th>\n",
       "      <td>330</td>\n",
       "      <td>115</td>\n",
       "      <td>5</td>\n",
       "      <td>4.5</td>\n",
       "      <td>3.0</td>\n",
       "      <td>9.34</td>\n",
       "      <td>1</td>\n",
       "      <td>0.90</td>\n",
       "    </tr>\n",
       "  </tbody>\n",
       "</table>\n",
       "</div>"
      ],
      "text/plain": [
       "            gre score  toefl score  university rating  sop  lor  cgpa  \\\n",
       "Serial No.                                                              \n",
       "1                 337          118                  4  4.5  4.5  9.65   \n",
       "2                 324          107                  4  4.0  4.5  8.87   \n",
       "3                 316          104                  3  3.0  3.5  8.00   \n",
       "4                 322          110                  3  3.5  2.5  8.67   \n",
       "6                 330          115                  5  4.5  3.0  9.34   \n",
       "\n",
       "            research  chance of admit  \n",
       "Serial No.                             \n",
       "1                  1             0.92  \n",
       "2                  1             0.76  \n",
       "3                  1             0.72  \n",
       "4                  1             0.80  \n",
       "6                  1             0.90  "
      ]
     },
     "execution_count": 93,
     "metadata": {},
     "output_type": "execute_result"
    }
   ],
   "source": [
    "df[df['chance of admit']>0.7].head()"
   ]
  },
  {
   "cell_type": "code",
   "execution_count": 94,
   "metadata": {},
   "outputs": [
    {
     "data": {
      "text/plain": [
       "Serial No.\n",
       "1    337\n",
       "2    324\n",
       "3    316\n",
       "4    322\n",
       "5    314\n",
       "Name: gre score, dtype: int64"
      ]
     },
     "execution_count": 94,
     "metadata": {},
     "output_type": "execute_result"
    }
   ],
   "source": [
    "df[\"gre score\"].head()"
   ]
  },
  {
   "cell_type": "code",
   "execution_count": 97,
   "metadata": {},
   "outputs": [
    {
     "data": {
      "text/html": [
       "<div>\n",
       "<style scoped>\n",
       "    .dataframe tbody tr th:only-of-type {\n",
       "        vertical-align: middle;\n",
       "    }\n",
       "\n",
       "    .dataframe tbody tr th {\n",
       "        vertical-align: top;\n",
       "    }\n",
       "\n",
       "    .dataframe thead th {\n",
       "        text-align: right;\n",
       "    }\n",
       "</style>\n",
       "<table border=\"1\" class=\"dataframe\">\n",
       "  <thead>\n",
       "    <tr style=\"text-align: right;\">\n",
       "      <th></th>\n",
       "      <th>gre score</th>\n",
       "      <th>toefl score</th>\n",
       "    </tr>\n",
       "    <tr>\n",
       "      <th>Serial No.</th>\n",
       "      <th></th>\n",
       "      <th></th>\n",
       "    </tr>\n",
       "  </thead>\n",
       "  <tbody>\n",
       "    <tr>\n",
       "      <th>1</th>\n",
       "      <td>337</td>\n",
       "      <td>118</td>\n",
       "    </tr>\n",
       "    <tr>\n",
       "      <th>2</th>\n",
       "      <td>324</td>\n",
       "      <td>107</td>\n",
       "    </tr>\n",
       "    <tr>\n",
       "      <th>3</th>\n",
       "      <td>316</td>\n",
       "      <td>104</td>\n",
       "    </tr>\n",
       "    <tr>\n",
       "      <th>4</th>\n",
       "      <td>322</td>\n",
       "      <td>110</td>\n",
       "    </tr>\n",
       "    <tr>\n",
       "      <th>5</th>\n",
       "      <td>314</td>\n",
       "      <td>103</td>\n",
       "    </tr>\n",
       "  </tbody>\n",
       "</table>\n",
       "</div>"
      ],
      "text/plain": [
       "            gre score  toefl score\n",
       "Serial No.                        \n",
       "1                 337          118\n",
       "2                 324          107\n",
       "3                 316          104\n",
       "4                 322          110\n",
       "5                 314          103"
      ]
     },
     "execution_count": 97,
     "metadata": {},
     "output_type": "execute_result"
    }
   ],
   "source": [
    "df[[\"gre score\",'toefl score']].head()"
   ]
  },
  {
   "cell_type": "code",
   "execution_count": 98,
   "metadata": {},
   "outputs": [
    {
     "data": {
      "text/html": [
       "<div>\n",
       "<style scoped>\n",
       "    .dataframe tbody tr th:only-of-type {\n",
       "        vertical-align: middle;\n",
       "    }\n",
       "\n",
       "    .dataframe tbody tr th {\n",
       "        vertical-align: top;\n",
       "    }\n",
       "\n",
       "    .dataframe thead th {\n",
       "        text-align: right;\n",
       "    }\n",
       "</style>\n",
       "<table border=\"1\" class=\"dataframe\">\n",
       "  <thead>\n",
       "    <tr style=\"text-align: right;\">\n",
       "      <th></th>\n",
       "      <th>gre score</th>\n",
       "      <th>toefl score</th>\n",
       "      <th>university rating</th>\n",
       "      <th>sop</th>\n",
       "      <th>lor</th>\n",
       "      <th>cgpa</th>\n",
       "      <th>research</th>\n",
       "      <th>chance of admit</th>\n",
       "    </tr>\n",
       "    <tr>\n",
       "      <th>Serial No.</th>\n",
       "      <th></th>\n",
       "      <th></th>\n",
       "      <th></th>\n",
       "      <th></th>\n",
       "      <th></th>\n",
       "      <th></th>\n",
       "      <th></th>\n",
       "      <th></th>\n",
       "    </tr>\n",
       "  </thead>\n",
       "  <tbody>\n",
       "    <tr>\n",
       "      <th>1</th>\n",
       "      <td>337</td>\n",
       "      <td>118</td>\n",
       "      <td>4</td>\n",
       "      <td>4.5</td>\n",
       "      <td>4.5</td>\n",
       "      <td>9.65</td>\n",
       "      <td>1</td>\n",
       "      <td>0.92</td>\n",
       "    </tr>\n",
       "    <tr>\n",
       "      <th>2</th>\n",
       "      <td>324</td>\n",
       "      <td>107</td>\n",
       "      <td>4</td>\n",
       "      <td>4.0</td>\n",
       "      <td>4.5</td>\n",
       "      <td>8.87</td>\n",
       "      <td>1</td>\n",
       "      <td>0.76</td>\n",
       "    </tr>\n",
       "    <tr>\n",
       "      <th>4</th>\n",
       "      <td>322</td>\n",
       "      <td>110</td>\n",
       "      <td>3</td>\n",
       "      <td>3.5</td>\n",
       "      <td>2.5</td>\n",
       "      <td>8.67</td>\n",
       "      <td>1</td>\n",
       "      <td>0.80</td>\n",
       "    </tr>\n",
       "    <tr>\n",
       "      <th>6</th>\n",
       "      <td>330</td>\n",
       "      <td>115</td>\n",
       "      <td>5</td>\n",
       "      <td>4.5</td>\n",
       "      <td>3.0</td>\n",
       "      <td>9.34</td>\n",
       "      <td>1</td>\n",
       "      <td>0.90</td>\n",
       "    </tr>\n",
       "    <tr>\n",
       "      <th>7</th>\n",
       "      <td>321</td>\n",
       "      <td>109</td>\n",
       "      <td>3</td>\n",
       "      <td>3.0</td>\n",
       "      <td>4.0</td>\n",
       "      <td>8.20</td>\n",
       "      <td>1</td>\n",
       "      <td>0.75</td>\n",
       "    </tr>\n",
       "  </tbody>\n",
       "</table>\n",
       "</div>"
      ],
      "text/plain": [
       "            gre score  toefl score  university rating  sop  lor  cgpa  \\\n",
       "Serial No.                                                              \n",
       "1                 337          118                  4  4.5  4.5  9.65   \n",
       "2                 324          107                  4  4.0  4.5  8.87   \n",
       "4                 322          110                  3  3.5  2.5  8.67   \n",
       "6                 330          115                  5  4.5  3.0  9.34   \n",
       "7                 321          109                  3  3.0  4.0  8.20   \n",
       "\n",
       "            research  chance of admit  \n",
       "Serial No.                             \n",
       "1                  1             0.92  \n",
       "2                  1             0.76  \n",
       "4                  1             0.80  \n",
       "6                  1             0.90  \n",
       "7                  1             0.75  "
      ]
     },
     "execution_count": 98,
     "metadata": {},
     "output_type": "execute_result"
    }
   ],
   "source": [
    "df[df[\"gre score\"]>320].head()"
   ]
  },
  {
   "cell_type": "code",
   "execution_count": 99,
   "metadata": {},
   "outputs": [
    {
     "data": {
      "text/plain": [
       "Serial No.\n",
       "1      False\n",
       "2       True\n",
       "3       True\n",
       "4       True\n",
       "5      False\n",
       "       ...  \n",
       "396     True\n",
       "397     True\n",
       "398    False\n",
       "399    False\n",
       "400    False\n",
       "Name: chance of admit, Length: 400, dtype: bool"
      ]
     },
     "execution_count": 99,
     "metadata": {},
     "output_type": "execute_result"
    }
   ],
   "source": [
    "(df['chance of admit']>0.7) & (df['chance of admit']<0.9)"
   ]
  },
  {
   "cell_type": "code",
   "execution_count": 100,
   "metadata": {},
   "outputs": [
    {
     "data": {
      "text/plain": [
       "Serial No.\n",
       "1      False\n",
       "2       True\n",
       "3       True\n",
       "4       True\n",
       "5      False\n",
       "       ...  \n",
       "396     True\n",
       "397     True\n",
       "398    False\n",
       "399    False\n",
       "400    False\n",
       "Name: chance of admit, Length: 400, dtype: bool"
      ]
     },
     "execution_count": 100,
     "metadata": {},
     "output_type": "execute_result"
    }
   ],
   "source": [
    "df['chance of admit'].gt(0.7) & df['chance of admit'].lt(0.9)"
   ]
  },
  {
   "cell_type": "code",
   "execution_count": 101,
   "metadata": {},
   "outputs": [
    {
     "data": {
      "text/plain": [
       "Serial No.\n",
       "1      False\n",
       "2      False\n",
       "3      False\n",
       "4      False\n",
       "5       True\n",
       "       ...  \n",
       "396    False\n",
       "397    False\n",
       "398    False\n",
       "399     True\n",
       "400    False\n",
       "Name: chance of admit, Length: 400, dtype: bool"
      ]
     },
     "execution_count": 101,
     "metadata": {},
     "output_type": "execute_result"
    }
   ],
   "source": [
    "df['chance of admit'].gt(0.7).lt(0.9)"
   ]
  },
  {
   "cell_type": "markdown",
   "metadata": {},
   "source": [
    "### Indexing Dataframes"
   ]
  },
  {
   "cell_type": "code",
   "execution_count": 1,
   "metadata": {},
   "outputs": [
    {
     "data": {
      "text/html": [
       "<div>\n",
       "<style scoped>\n",
       "    .dataframe tbody tr th:only-of-type {\n",
       "        vertical-align: middle;\n",
       "    }\n",
       "\n",
       "    .dataframe tbody tr th {\n",
       "        vertical-align: top;\n",
       "    }\n",
       "\n",
       "    .dataframe thead th {\n",
       "        text-align: right;\n",
       "    }\n",
       "</style>\n",
       "<table border=\"1\" class=\"dataframe\">\n",
       "  <thead>\n",
       "    <tr style=\"text-align: right;\">\n",
       "      <th></th>\n",
       "      <th>GRE Score</th>\n",
       "      <th>TOEFL Score</th>\n",
       "      <th>University Rating</th>\n",
       "      <th>SOP</th>\n",
       "      <th>LOR</th>\n",
       "      <th>CGPA</th>\n",
       "      <th>Research</th>\n",
       "      <th>Chance of Admit</th>\n",
       "    </tr>\n",
       "    <tr>\n",
       "      <th>Serial No.</th>\n",
       "      <th></th>\n",
       "      <th></th>\n",
       "      <th></th>\n",
       "      <th></th>\n",
       "      <th></th>\n",
       "      <th></th>\n",
       "      <th></th>\n",
       "      <th></th>\n",
       "    </tr>\n",
       "  </thead>\n",
       "  <tbody>\n",
       "    <tr>\n",
       "      <th>1</th>\n",
       "      <td>337</td>\n",
       "      <td>118</td>\n",
       "      <td>4</td>\n",
       "      <td>4.5</td>\n",
       "      <td>4.5</td>\n",
       "      <td>9.65</td>\n",
       "      <td>1</td>\n",
       "      <td>0.92</td>\n",
       "    </tr>\n",
       "    <tr>\n",
       "      <th>2</th>\n",
       "      <td>324</td>\n",
       "      <td>107</td>\n",
       "      <td>4</td>\n",
       "      <td>4.0</td>\n",
       "      <td>4.5</td>\n",
       "      <td>8.87</td>\n",
       "      <td>1</td>\n",
       "      <td>0.76</td>\n",
       "    </tr>\n",
       "    <tr>\n",
       "      <th>3</th>\n",
       "      <td>316</td>\n",
       "      <td>104</td>\n",
       "      <td>3</td>\n",
       "      <td>3.0</td>\n",
       "      <td>3.5</td>\n",
       "      <td>8.00</td>\n",
       "      <td>1</td>\n",
       "      <td>0.72</td>\n",
       "    </tr>\n",
       "    <tr>\n",
       "      <th>4</th>\n",
       "      <td>322</td>\n",
       "      <td>110</td>\n",
       "      <td>3</td>\n",
       "      <td>3.5</td>\n",
       "      <td>2.5</td>\n",
       "      <td>8.67</td>\n",
       "      <td>1</td>\n",
       "      <td>0.80</td>\n",
       "    </tr>\n",
       "    <tr>\n",
       "      <th>5</th>\n",
       "      <td>314</td>\n",
       "      <td>103</td>\n",
       "      <td>2</td>\n",
       "      <td>2.0</td>\n",
       "      <td>3.0</td>\n",
       "      <td>8.21</td>\n",
       "      <td>0</td>\n",
       "      <td>0.65</td>\n",
       "    </tr>\n",
       "  </tbody>\n",
       "</table>\n",
       "</div>"
      ],
      "text/plain": [
       "            GRE Score  TOEFL Score  University Rating  SOP  LOR   CGPA  \\\n",
       "Serial No.                                                               \n",
       "1                 337          118                  4  4.5   4.5  9.65   \n",
       "2                 324          107                  4  4.0   4.5  8.87   \n",
       "3                 316          104                  3  3.0   3.5  8.00   \n",
       "4                 322          110                  3  3.5   2.5  8.67   \n",
       "5                 314          103                  2  2.0   3.0  8.21   \n",
       "\n",
       "            Research  Chance of Admit   \n",
       "Serial No.                              \n",
       "1                  1              0.92  \n",
       "2                  1              0.76  \n",
       "3                  1              0.72  \n",
       "4                  1              0.80  \n",
       "5                  0              0.65  "
      ]
     },
     "execution_count": 1,
     "metadata": {},
     "output_type": "execute_result"
    }
   ],
   "source": [
    "import pandas as pd\n",
    "df=pd.read_csv(\"datasets/Admission_Predict.csv\", index_col=0)\n",
    "df.head()"
   ]
  },
  {
   "cell_type": "code",
   "execution_count": null,
   "metadata": {},
   "outputs": [],
   "source": []
  }
 ],
 "metadata": {
  "kernelspec": {
   "display_name": "Python 3",
   "language": "python",
   "name": "python3"
  },
  "language_info": {
   "codemirror_mode": {
    "name": "ipython",
    "version": 3
   },
   "file_extension": ".py",
   "mimetype": "text/x-python",
   "name": "python",
   "nbconvert_exporter": "python",
   "pygments_lexer": "ipython3",
   "version": "3.10.12"
  }
 },
 "nbformat": 4,
 "nbformat_minor": 2
}
