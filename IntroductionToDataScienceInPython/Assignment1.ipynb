{
 "cells": [
  {
   "cell_type": "markdown",
   "metadata": {},
   "source": [
    "# Assignment 1"
   ]
  },
  {
   "cell_type": "markdown",
   "metadata": {},
   "source": [
    "For this assignment you are welcomed to use other regex resources such a regex \"cheat sheets\" you find on the web."
   ]
  },
  {
   "cell_type": "markdown",
   "metadata": {},
   "source": [
    "Before start working on the problems, here is a small example to help you understand how to write your own answers. In short, the solution should be written within the function body given, and the final result should be returned. Then the autograder will try to call the function and validate your returned result accordingly. "
   ]
  },
  {
   "cell_type": "code",
   "execution_count": 1,
   "metadata": {},
   "outputs": [],
   "source": [
    "def example_word_count():\n",
    "    # This example question requires counting words in the example_string below.\n",
    "    example_string = \"Amy is 5 years old\"\n",
    "    \n",
    "    # YOUR CODE HERE.\n",
    "    # You should write your solution here, and return your result, you can comment out or delete the\n",
    "    # NotImplementedError below.\n",
    "    result = example_string.split(\" \")\n",
    "    return len(result)\n",
    "\n",
    "    #raise NotImplementedError()"
   ]
  },
  {
   "cell_type": "code",
   "execution_count": 3,
   "metadata": {},
   "outputs": [
    {
     "name": "stdout",
     "output_type": "stream",
     "text": [
      "5\n"
     ]
    }
   ],
   "source": [
    "print(example_word_count())"
   ]
  },
  {
   "cell_type": "markdown",
   "metadata": {},
   "source": [
    "#### Part A"
   ]
  },
  {
   "cell_type": "markdown",
   "metadata": {},
   "source": [
    "Find a list of all of all of the names in the following string using regex."
   ]
  },
  {
   "cell_type": "code",
   "execution_count": 30,
   "metadata": {},
   "outputs": [],
   "source": [
    "import re\n",
    "def names():\n",
    "    simple_string = \"\"\"Amy is 5 years old, and her sister Mary is 2 years old. \n",
    "    Ruth and Peter, their parents, have 3 kids.\"\"\"\n",
    "\n",
    "    return(re.findall(r'[A-Z][a-z]+',simple_string))\n",
    "\n",
    "    # YOUR CODE HERE\n",
    "    #raise NotImplementedError()"
   ]
  },
  {
   "cell_type": "markdown",
   "metadata": {},
   "source": [
    "#### Part B"
   ]
  },
  {
   "cell_type": "markdown",
   "metadata": {},
   "source": [
    "The dataset file in [assets/grades.txt](assets/grades.txt) contains a line separated list of people with their grade in a class. Create a regex to generate a list of just those students who received a B in the course."
   ]
  },
  {
   "cell_type": "code",
   "execution_count": 27,
   "metadata": {},
   "outputs": [],
   "source": [
    "import re\n",
    "def grades():\n",
    "    with open (\"assets/grades.txt\", \"r\") as file:\n",
    "        grades = file.read()\n",
    "\n",
    "    regexExpression=r'([A-Z][a-z]+\\s[A-Z][a-z]+):\\sB'\n",
    "    return(re.findall(regexExpression,grades))\n",
    "        \n",
    "    #raise NotImplementedError()"
   ]
  },
  {
   "cell_type": "markdown",
   "metadata": {},
   "source": [
    "#### Part C"
   ]
  },
  {
   "cell_type": "markdown",
   "metadata": {},
   "source": [
    "Consider the standard web log file in [assets/logdata.txt](assets/logdata.txt). This file records the access a user makes when visiting a web page (like this one!). Each line of the log has the following items:\n",
    "\n",
    "* a host (e.g., '146.204.224.152') \n",
    "* a user_name (e.g., 'feest6811' **note: sometimes the user name is missing! In this case, use '-' as the value for the username.**)\n",
    "* the time a request was made (e.g., '21/Jun/2019:15:45:24 -0700')\n",
    "* the post request type (e.g., 'POST /incentivize HTTP/1.1' **note: not everything is a POST!**)\n",
    "\n",
    "Your task is to convert this into a list of dictionaries, where each dictionary looks like the following:\n",
    "```\n",
    "example_dict = {\"host\":\"146.204.224.152\", \n",
    "                \"user_name\":\"feest6811\", \n",
    "                \"time\":\"21/Jun/2019:15:45:24 -0700\",\n",
    "                \"request\":\"POST /incentivize HTTP/1.1\"}\n",
    "```"
   ]
  },
  {
   "cell_type": "code",
   "execution_count": 28,
   "metadata": {},
   "outputs": [],
   "source": [
    "import re\n",
    "\n",
    "with open(\"assets/logdata.txt\", \"r\") as file:\n",
    "        logdata = file.read()\n",
    "\n",
    "regex1=r'(\\d{1,3}\\.\\d{1,3}.\\d{1,3}\\.\\d{1,3})'\n",
    "regex2=r'([a-z]+\\d{4}|\\s-\\s-\\s)'\n",
    "regex3=r'\\d{1,2}/[A-Z][a-z]{2}/\\d{4}\\:\\d{2}\\:\\d{2}\\s\\-\\d{4}'\n",
    "regex4=r'[A-Z]{4}\\s\\/[a-z-/]+\\sHTTP\\/\\d\\.\\d$'\n",
    "\n",
    "dictList=[]\n",
    "\n",
    "list1=re.findall(regex1,logdata)\n",
    "list2=re.findall(regex2,logdata)\n",
    "list3=re.findall(regex3,logdata)\n",
    "list4=re.findall(regex4,logdata)\n",
    "\n",
    "list2=[\"-\" if i ==\" - - \" else i for i in list2]\n",
    "\n",
    "columns=[\"host\",\"user_name\",\"time\",\"request\"]\n"
   ]
  },
  {
   "cell_type": "code",
   "execution_count": 18,
   "metadata": {},
   "outputs": [],
   "source": [
    "with open (\"assets/grades.txt\", \"r\") as file:\n",
    "    file=file.read()"
   ]
  },
  {
   "cell_type": "code",
   "execution_count": 24,
   "metadata": {},
   "outputs": [
    {
     "name": "stdout",
     "output_type": "stream",
     "text": [
      "['Bell Kassulke', 'Simon Loidl', 'Elias Jovanovic', 'Hakim Botros', 'Emilie Lorentsen', 'Jake Wood', 'Fatemeh Akhtar', 'Kim Weston', 'Yasmin Dar', 'Viswamitra Upandhye', 'Killian Kaufman', 'Elwood Page', 'Elodie Booker', 'Adnan Chen', 'Hank Spinka', 'Hannah Bayer']\n"
     ]
    }
   ],
   "source": [
    "regexExpression=r'([A-Z][a-z]+\\s[A-Z]{1}[a-z]+):\\sB'\n",
    "matches=re.findall(regexExpression,file)\n",
    "print(matches)"
   ]
  },
  {
   "cell_type": "code",
   "execution_count": 29,
   "metadata": {},
   "outputs": [
    {
     "name": "stdout",
     "output_type": "stream",
     "text": [
      "16\n"
     ]
    }
   ],
   "source": [
    "print(len(grades()))"
   ]
  },
  {
   "cell_type": "code",
   "execution_count": 31,
   "metadata": {},
   "outputs": [
    {
     "name": "stdout",
     "output_type": "stream",
     "text": [
      "['Amy', 'Mary', 'Ruth', 'Peter']\n"
     ]
    }
   ],
   "source": [
    "print(names())"
   ]
  },
  {
   "cell_type": "code",
   "execution_count": 2,
   "metadata": {},
   "outputs": [
    {
     "name": "stdout",
     "output_type": "stream",
     "text": [
      "['146.204.224.152', '156.127.178.177', '241.114.184.133', '126.196.238.197', '103.247.168.212', '115.214.173.248', '219.194.113.255', '161.242.130.180', '124.137.187.175', '232.220.131.214', '180.234.185.134', '226.187.228.119', '164.193.154.113', '189.128.147.107', '148.185.136.238', '217.244.200.194', '109.108.118.102', '121.104.130.220', '124.113.245.136', '187.185.236.178', '203.217.133.243', '210.180.251.130', '147.106.164.197', '237.149.195.234', '130.219.221.187', '130.231.243.226', '230.250.234.246', '195.229.232.110', '230.107.250.209', '219.234.129.250', '205.183.132.210', '206.237.108.242', '242.173.145.218', '166.255.221.168', '210.255.229.144', '190.236.134.191', '164.128.154.124', '187.240.183.141', '228.112.124.191', '125.202.126.201', '223.182.232.174', '148.175.205.121', '170.201.249.253', '240.189.198.133', '157.163.234.192', '167.162.121.227', '191.117.232.204', '228.155.223.214', '150.139.169.192', '140.199.235.104', '223.235.234.173', '165.111.167.225', '223.170.242.159', '202.162.118.175', '104.142.156.232', '193.228.202.211', '249.183.121.148', '157.117.129.160', '232.117.182.116', '164.195.121.133', '228.173.203.108', '137.220.255.247', '234.153.219.198', '208.116.224.152', '141.127.230.209', '160.189.253.237', '225.216.200.227', '196.228.156.210', '107.121.136.255', '154.193.194.236', '157.237.224.179', '195.195.194.123', '200.229.201.189', '181.223.103.195', '119.228.175.191', '205.174.167.205', '161.215.232.221', '227.249.188.131', '158.150.165.167', '199.202.145.137', '235.109.203.135', '227.156.209.101', '226.178.150.114', '198.145.234.102', '180.133.234.236', '123.179.141.133', '106.214.232.163', '239.150.104.236', '183.117.169.253', '134.199.128.205', '158.174.132.213', '242.117.244.136', '106.176.215.133', '118.137.109.160', '148.174.255.122', '197.140.130.185', '117.200.242.154', '123.242.122.171', '234.204.188.165', '233.132.129.215', '234.239.225.164', '189.105.143.151', '201.210.171.192', '206.226.110.110', '133.180.255.152', '233.217.110.117', '244.171.113.250', '209.245.213.122', '183.129.120.175', '140.250.112.142', '253.155.125.104', '214.169.147.186', '234.117.105.178', '222.176.136.241', '192.202.173.198', '100.145.250.142', '229.128.199.145', '187.110.178.207', '118.197.126.108', '102.253.250.180', '109.249.168.154', '157.114.250.181', '175.241.237.106', '240.183.219.246', '101.236.173.161', '214.138.208.200', '105.214.125.218', '187.151.112.252', '129.163.228.209', '197.102.163.140', '172.200.189.116', '116.144.162.173', '219.107.204.228', '137.216.228.137', '250.183.230.208', '107.152.217.102', '197.150.196.204', '219.163.127.189', '109.208.102.251', '132.117.183.187', '229.231.201.185', '193.252.191.251', '130.229.174.187', '105.162.151.140']\n"
     ]
    }
   ],
   "source": [
    "print(list1)"
   ]
  },
  {
   "cell_type": "code",
   "execution_count": 17,
   "metadata": {},
   "outputs": [
    {
     "data": {
      "text/plain": [
       "979"
      ]
     },
     "execution_count": 17,
     "metadata": {},
     "output_type": "execute_result"
    }
   ],
   "source": [
    "len(list1)"
   ]
  },
  {
   "cell_type": "code",
   "execution_count": 21,
   "metadata": {},
   "outputs": [
    {
     "name": "stdout",
     "output_type": "stream",
     "text": [
      "['feest6811', 'kertzmann3129', 'okuneva5222', 'ortiz8891', 'stark2413', 'dooley1853', 'mohr6893', 'auer7552', 'lind8584', 'tromp8355', 'keebler1423', 'klein8508', 'gusikowski9864', 'medhurst2732', 'dubuque8645', 'luettgen1860', 'price5585', 'fay7852', 'kshlerin3090', 'schaden8853', 'hauck8214', 'kunze2653', 'tillman6650', 'carroll1056', 'dubuque3528', 'rau5026', '-', 'feeney9464', '-', 'brekke3293', '-', 'mayer1069', 'batz2602', '-', '-', '-', '-', 'carroll8889', '-', 'collins6322', '-', '-', 'labadie6990', 'collins9387', '-', 'yundt9152', '-', 'kautzer4542', '-', '-', 'windler5463', '-', 'hoeger9514', 'bednar5295', 'champlin3406', 'kertzmann4700', 'kunde3872', '-', 'quitzon6990', 'johnson1417', '-', '-', 'terry3353', 'doyle8092', 'tillman4353', '-', 'wuckert7686', '-', 'schinner1581', '-', 'will3148', '-', 'beatty2311', '-', 'reinger5141', 'greenfelder4613', 'kulas9437', 'boyer9465', '-', '-', '-', '-', '-', '-', '-', 'jaskolski5282', 'roob7248', 'dach6856', '-', 'roob7504', '-', 'nader4497', 'tromp7323', 'koch7592', 'fritsch7933', '-', 'nitzsche6699', '-', '-', '-', 'cummerata3376', 'gislason8036', 'homenick3730', 'hansen5317', '-', 'runolfsdottir9957', 'wilderman1726', 'huels5802', 'powlowski8494', 'farrell3121', '-', 'kozey1688', '-', 'mosciski4497', 'thompson4253', '-', 'stark2160', '-', '-', 'koss1626', '-', 'mckenzie9789', 'auer9353', '-', '-', 'collins9784', 'maggio9908', '-', 'hickle4568', '-', 'tremblay7489', '-', 'pfeffer6357', 'gibson4540', 'kirlin4598', 'nienow5906', '-', '-', 'wolff6881', '-', '-', 'roberts8938', '-', '-', '-', 'yost2119', 'krajcik9464', 'wuckert7752', 'kirlin4667', '-', '-', '-', '-', '-', '-', 'nitzsche2796', 'zemlak4312', 'nolan1426', '-', 'mayer2417', 'cassin5420', 'bailey4806', 'rogahn7487', 'walter1917', 'cole1245', '-', '-', 'runolfsdottir2005', 'cormier5217', '-', '-', 'emard5518', 'jacobi6125', 'stanton2862', 'ortiz2311', 'maggio7837', 'nader6495', '-', '-', 'zboncak8896', '-', '-', '-', 'hammes1596', '-', '-', '-', '-', '-', 'moen9202', '-', 'lehner6109', 'nolan6998', 'kling1525', 'bahringer5369', 'quitzon1416', '-', '-', 'moen2716', 'waters3612', '-', 'braun2437', 'kling3290', 'kuhic1127', '-', '-', 'mcglynn3415', 'boyer9211', '-', '-', 'thompson7192', 'effertz4240', 'reinger6377', '-', '-', '-', 'leffler3986', '-', 'wunsch3097', '-', 'wolf7357', 'erdman7847', '-', 'shanahan9241', 'lockman1471', 'runte2017', '-', '-', 'sauer3376', 'jakubowski4018', '-', '-', '-', '-', 'durgan7044', '-', 'gaylord9827', '-', 'kutch1902', 'turner6424', '-', 'maggio8143', 'simonis6976', '-', 'buckridge3917', '-', 'monahan7718', 'sipes2845', 'breitenberg8163', '-', 'wisozk6703', '-', '-', '-', 'rutherford4378', '-', '-', 'hills3866', '-', 'jacobi7143', '-', '-', '-', '-', '-', 'braun1922', '-', '-', 'price7294', 'marvin4115', 'turner9291', 'vonrueden9811', 'anderson7046', '-', 'stamm2348', '-', '-', 'doyle2015', 'kemmer8421', '-', 'dare5841', '-', 'cassin8778', '-', '-', '-', 'koelpin5285', 'haag5592', 'kohler4380', 'lubowitz6149', '-', '-', '-', '-', '-', '-', 'block1079', '-', 'bogisich7897', 'mann8285', 'mayert4085', '-', '-', 'thompson6002', '-', '-', '-', 'romaguera5473', 'bins4571', 'stoltenberg8660', '-', 'west2407', '-', 'willms1885', '-', '-', '-', '-', 'marvin8479', 'funk5262', '-', 'haley9579', 'towne3635', 'gottlieb6924', 'okuneva8628', 'greenholt5589', 'gulgowski7868', '-', '-', 'raynor9337', 'kshlerin3121', '-', '-', '-', '-', 'cruickshank4469', 'bednar2337', '-', 'ebert4690', 'bednar7249', 'borer9296', 'considine7686', '-', 'hettinger9833', '-', 'adams5230', 'friesen3358', 'hudson5809', '-', '-', '-', 'kilback6840', '-', 'dooley1637', 'toy9491', '-', '-', '-', '-', 'stanton9204', 'bogisich6895', 'conn7515', 'funk5090', 'romaguera2467', '-', 'braun5844', 'kutch2379', 'harvey5371', '-', '-', 'cummings7077', 'walsh4800', '-', 'eichmann8620', '-', 'kuhn7507', '-', '-', '-', '-', '-', '-', '-', 'kohler6082', '-', '-', 'gutkowski5880', '-', 'barrows5745', '-', '-', 'glover3672', 'bode3507', '-', '-', '-', 'reilly5235', 'jacobs7691', 'schowalter4620', 'schaden7207', '-', 'beier2969', '-', 'schmidt4514', 'bayer5640', '-', '-', 'donnelly9040', 'pfannerstill2409', 'bartell3136', '-', '-', 'abernathy3937', '-', 'denesik1416', 'roob2215', 'rau3028', 'cartwright2493', '-', 'parisian7014', 'wolff3688', '-', '-', '-', '-', 'bosco8918', '-', '-', '-', '-', 'stehr6393', 'wintheiser5662', 'raynor1706', 'gaylord7396', 'streich4473', '-', 'swift6867', 'hagenes4423', 'volkman6528', '-', 'bogan1483', '-', '-', '-', 'donnelly8614', '-', '-', '-', 'cummerata1461', '-', '-', 'huel9795', 'gerhold3770', 'mills5084', 'champlin2089', '-', '-', '-', '-', 'beatty7852', 'schultz9259', '-', '-', '-', '-', 'lindgren9821', '-', 'moore8388', 'friesen4112', '-', 'schiller1863', '-', '-', 'littel6195', '-', 'leffler5851', '-', 'renner7608', 'torp1455', 'flatley5085', '-', '-', 'adams1613', '-', '-', 'kovacek4008', 'roob7404', '-', '-', '-', 'pacocha5980', 'friesen8390', '-', 'steuber9732', '-', '-', '-', 'cassin9066', 'feil3529', 'walsh8648', 'reilly5813', 'feest6743', '-', '-', '-', 'conroy1743', 'daugherty5037', 'batz7344', 'mitchell2009', 'reilly4254', '-', '-', 'ritchie8554', '-', 'corkery6385', '-', '-', 'donnelly1349', '-', 'mcdermott9999', 'lueilwitz2757', 'beatty4977', 'dickens5496', 'kling6394', '-', '-', '-', 'lebsack6923', '-', '-', 'leannon8734', '-', '-', '-', 'oreilly3853', '-', 'thompson6913', '-', 'muller7604', '-', 'swaniawski1648', 'braun1134', '-', '-', '-', 'fahey6288', 'jacobi1228', '-', 'walker7116', '-', '-', 'hammes4241', '-', '-', '-', 'dubuque4293', 'williamson4151', '-', '-', '-', '-', 'heidenreich1792', '-', 'leffler4523', '-', '-', 'fritsch5442', '-', 'jast3185', '-', 'kerluke1992', '-', 'west3231', '-', '-', '-', 'ankunding8652', '-', '-', '-', 'barton5952', '-', 'boyle7076', '-', 'haag9280', '-', 'morar4269', 'vonrueden7712', 'rippin3809', 'bayer1705', '-', 'kerluke1906', 'lowe5988', 'abshire5304', 'weissnat1689', '-', 'schultz6585', '-', '-', '-', '-', '-', 'veum7721', 'mueller9581', '-', '-', '-', '-', '-', '-', '-', 'ebert3533', 'heller4638', 'lesch1937', '-', '-', 'hansen7326', '-', '-', '-', '-', 'morar7272', 'johnston9060', '-', 'heathcote3797', '-', 'bruen3016', 'bogisich4929', 'hyatt2671', '-', 'mohr3100', '-', '-', '-', 'purdy1613', '-', 'murray3331', '-', '-', 'towne4044', 'kuhlman9507', 'murray8861', '-', '-', '-', 'bernier6988', 'casper5038', '-', 'boyer4235', 'towne2518', 'collins2767', '-', 'murphy2732', '-', '-', 'lehner5449', '-', '-', 'zieme7259', '-', 'runte4912', 'smitham4435', 'boyle5892', 'klocko5793', 'haley3504', '-', 'kozey6525', 'mcclure3645', '-', '-', 'parisian3697', '-', 'bernier2981', '-', '-', '-', 'steuber8372', '-', 'lynch9212', 'carter4580', 'sanford7143', '-', '-', 'roberts8371', 'deckow7418', '-', 'beatty2891', 'roberts9852', 'auer8021', '-', 'hoeger4763', '-', '-', '-', 'gaylord6916', '-', '-', '-', 'sporer4003', '-', 'schuppe9150', 'ortiz8221', 'fisher5449', 'towne8430', 'mayer6781', 'sanford8578', 'ruecker5168', 'hartmann1002', '-', 'zieme2525', 'stokes4347', 'marks4471', 'feil4273', 'luettgen7885', 'bergnaum1861', '-', '-', 'ritchie5623', 'erdman7321', '-', '-', '-', 'hettinger9752', '-', 'satterfield5767', '-', 'grimes3189', '-', 'pfannerstill1340', '-', '-', '-', 'gutkowski6387', '-', '-', 'ferry3047', '-', '-', 'lindgren8686', 'kilback2657', 'ebert8205', '-', '-', '-', '-', '-', 'weimann2707', '-', 'rolfson6644', 'shields3654', 'brakus4461', '-', 'stehr9039', 'gerlach7985', 'howe7427', '-', '-', 'reichert6210', '-', '-', '-', '-', '-', 'boyer5523', 'russel8326', '-', 'white9937', '-', '-', '-', '-', '-', '-', 'bednar2405', '-', '-', '-', '-', 'yost8436', '-', '-', 'kemmer7294', 'wuckert5235', 'lueilwitz6619', 'terry5334', '-', 'bergnaum8203', '-', 'oreilly1191', '-', '-', 'weissnat9339', '-', '-', 'pouros2120', 'jerde5243', 'kris7724', 'boyer6744', 'wilderman5041', 'cassin3470', '-', '-', '-', 'weimann5347', 'boyer3703', '-', '-', '-', '-', '-', '-', '-', '-', 'mann4196', '-', '-', 'marks6484', 'kling2211', 'barrows4994', 'schimmel7061', '-', '-', '-', 'witting4267', '-', 'abernathy8063', 'pagac4236', '-', 'feeney1779', 'gulgowski4789', '-', '-', '-', '-', 'gaylord3825', '-', 'abshire9350', '-', '-', 'dickinson7510', 'schroeder6056', '-', 'cronin9150', '-', 'cronin7061', '-', 'hackett2278', '-', '-', 'johnston8800', '-', 'casper4259', '-', '-', 'hudson3060', 'beer4262', '-', '-', 'corkery7009', 'rolfson4266', 'lehner7598', 'connelly6139', '-', '-', 'dickinson1321', '-', 'mraz2398', 'stracke7667', 'gleichner8645', 'huels1658', 'thompson4128', 'labadie1675', 'moen2257', 'gerlach4189', 'gutkowski1749', 'koch1729', '-', '-', 'sawayn3251', '-', 'heaney8725', '-', 'koss1578', '-', '-', '-', '-', 'kerluke4964', 'zieme4477', '-', '-', 'weber7878', 'lemke8387', '-', 'reinger7161', '-', 'glover8440', 'boyer8373', '-', 'hilpert8913', '-', '-', 'wunsch1258', '-', '-', '-', '-', 'kutch7667', '-', 'turcotte8545', '-', '-', '-', '-', '-', '-', '-', 'thompson4010', '-', '-', '-', 'thiel4558', 'murazik3963', 'lockman2593', 'metz3511', '-', '-', 'herzog9094', '-', 'gorczany7585', 'schroeder2270', '-', '-', 'rodriguez5244', 'breitenberg4724', '-', '-', 'connelly5114', '-', 'gorczany2750', '-', '-', 'kohler8056', '-', 'cartwright5970', 'leuschke4130', '-', 'lynch1110', 'goodwin1310', 'thiel8831', '-', '-', 'roob3235', '-', '-', 'trantow6874', 'ondricka6863', 'hackett3055', '-', '-', 'herzog1680', 'gleichner2813', 'hammes8029', 'doyle8430', 'parker1133', '-', '-', 'koelpin1900', 'davis6497', 'harber4797', 'ziemann5634', '-', '-', '-', '-', '-', 'turner3261', 'zemlak6334', 'larson8319']\n"
     ]
    }
   ],
   "source": [
    "print(list2)"
   ]
  },
  {
   "cell_type": "code",
   "execution_count": 22,
   "metadata": {},
   "outputs": [
    {
     "data": {
      "text/plain": [
       "979"
      ]
     },
     "execution_count": 22,
     "metadata": {},
     "output_type": "execute_result"
    }
   ],
   "source": [
    "len(list2)"
   ]
  },
  {
   "cell_type": "code",
   "execution_count": 29,
   "metadata": {},
   "outputs": [
    {
     "name": "stdout",
     "output_type": "stream",
     "text": [
      "[]\n"
     ]
    }
   ],
   "source": [
    "print(list3)"
   ]
  },
  {
   "cell_type": "code",
   "execution_count": 7,
   "metadata": {},
   "outputs": [
    {
     "name": "stdout",
     "output_type": "stream",
     "text": [
      "[]\n"
     ]
    }
   ],
   "source": [
    "print(list4)"
   ]
  },
  {
   "cell_type": "code",
   "execution_count": null,
   "metadata": {},
   "outputs": [],
   "source": []
  }
 ],
 "metadata": {
  "kernelspec": {
   "display_name": "Python 3",
   "language": "python",
   "name": "python3"
  },
  "language_info": {
   "codemirror_mode": {
    "name": "ipython",
    "version": 3
   },
   "file_extension": ".py",
   "mimetype": "text/x-python",
   "name": "python",
   "nbconvert_exporter": "python",
   "pygments_lexer": "ipython3",
   "version": "3.10.12"
  }
 },
 "nbformat": 4,
 "nbformat_minor": 2
}
