{
 "cells": [
  {
   "cell_type": "markdown",
   "metadata": {},
   "source": [
    "# Assignment 1"
   ]
  },
  {
   "cell_type": "markdown",
   "metadata": {},
   "source": [
    "For this assignment you are welcomed to use other regex resources such a regex \"cheat sheets\" you find on the web."
   ]
  },
  {
   "cell_type": "markdown",
   "metadata": {},
   "source": [
    "Before start working on the problems, here is a small example to help you understand how to write your own answers. In short, the solution should be written within the function body given, and the final result should be returned. Then the autograder will try to call the function and validate your returned result accordingly. "
   ]
  },
  {
   "cell_type": "code",
   "execution_count": 1,
   "metadata": {},
   "outputs": [],
   "source": [
    "def example_word_count():\n",
    "    # This example question requires counting words in the example_string below.\n",
    "    example_string = \"Amy is 5 years old\"\n",
    "    \n",
    "    # YOUR CODE HERE.\n",
    "    # You should write your solution here, and return your result, you can comment out or delete the\n",
    "    # NotImplementedError below.\n",
    "    result = example_string.split(\" \")\n",
    "    return len(result)\n",
    "\n",
    "    #raise NotImplementedError()"
   ]
  },
  {
   "cell_type": "code",
   "execution_count": 3,
   "metadata": {},
   "outputs": [
    {
     "name": "stdout",
     "output_type": "stream",
     "text": [
      "5\n"
     ]
    }
   ],
   "source": [
    "print(example_word_count())"
   ]
  },
  {
   "cell_type": "markdown",
   "metadata": {},
   "source": [
    "#### Part A"
   ]
  },
  {
   "cell_type": "markdown",
   "metadata": {},
   "source": [
    "Find a list of all of all of the names in the following string using regex."
   ]
  },
  {
   "cell_type": "code",
   "execution_count": 30,
   "metadata": {},
   "outputs": [],
   "source": [
    "import re\n",
    "def names():\n",
    "    simple_string = \"\"\"Amy is 5 years old, and her sister Mary is 2 years old. \n",
    "    Ruth and Peter, their parents, have 3 kids.\"\"\"\n",
    "\n",
    "    return(re.findall(r'[A-Z][a-z]+',simple_string))\n",
    "\n",
    "    # YOUR CODE HERE\n",
    "    #raise NotImplementedError()"
   ]
  },
  {
   "cell_type": "markdown",
   "metadata": {},
   "source": [
    "#### Part B"
   ]
  },
  {
   "cell_type": "markdown",
   "metadata": {},
   "source": [
    "The dataset file in [assets/grades.txt](assets/grades.txt) contains a line separated list of people with their grade in a class. Create a regex to generate a list of just those students who received a B in the course."
   ]
  },
  {
   "cell_type": "code",
   "execution_count": 27,
   "metadata": {},
   "outputs": [],
   "source": [
    "import re\n",
    "def grades():\n",
    "    with open (\"assets/grades.txt\", \"r\") as file:\n",
    "        grades = file.read()\n",
    "\n",
    "    regexExpression=r'([A-Z][a-z]+\\s[A-Z][a-z]+):\\sB'\n",
    "    return(re.findall(regexExpression,grades))\n",
    "        \n",
    "    #raise NotImplementedError()"
   ]
  },
  {
   "cell_type": "markdown",
   "metadata": {},
   "source": [
    "#### Part C"
   ]
  },
  {
   "cell_type": "markdown",
   "metadata": {},
   "source": [
    "Consider the standard web log file in [assets/logdata.txt](assets/logdata.txt). This file records the access a user makes when visiting a web page (like this one!). Each line of the log has the following items:\n",
    "\n",
    "* a host (e.g., '146.204.224.152') \n",
    "* a user_name (e.g., 'feest6811' **note: sometimes the user name is missing! In this case, use '-' as the value for the username.**)\n",
    "* the time a request was made (e.g., '21/Jun/2019:15:45:24 -0700')\n",
    "* the post request type (e.g., 'POST /incentivize HTTP/1.1' **note: not everything is a POST!**)\n",
    "\n",
    "Your task is to convert this into a list of dictionaries, where each dictionary looks like the following:\n",
    "```\n",
    "example_dict = {\"host\":\"146.204.224.152\", \n",
    "                \"user_name\":\"feest6811\", \n",
    "                \"time\":\"21/Jun/2019:15:45:24 -0700\",\n",
    "                \"request\":\"POST /incentivize HTTP/1.1\"}\n",
    "```"
   ]
  },
  {
   "cell_type": "code",
   "execution_count": 32,
   "metadata": {},
   "outputs": [],
   "source": [
    "import re\n",
    "\n",
    "with open(\"assets/logdata.txt\", \"r\") as file:\n",
    "        logdata = file.read()\n",
    "\n",
    "regex1=r'(\\d{1,3}\\.\\d{1,3}.\\d{1,3}\\.\\d{1,3})'\n",
    "regex2=r'([a-z]+\\d{4}|\\s-\\s-\\s)'\n",
    "regex3=r'\\d{1,2}/[A-Z][a-z]{2}/\\d{4}\\:\\d{2}\\:\\d{2}\\:\\d{2}\\s\\-\\d{4}'\n",
    "regex4=r'\"([^\"]*)\"'\n",
    "\n",
    "dictList=[]\n",
    "\n",
    "list1=re.findall(regex1,logdata)\n",
    "list2=re.findall(regex2,logdata)\n",
    "list3=re.findall(regex3,logdata)\n",
    "list4=re.findall(regex4,logdata)\n",
    "\n",
    "list2=[\"-\" if i ==\" - - \" else i for i in list2]\n",
    "\n",
    "for i in range(len(list1)):\n",
    "        dictList.append(dict({\"host\":list1[i],'user_name':list2[i],'time':list3[i],'request':list4[i]}))\n"
   ]
  },
  {
   "cell_type": "code",
   "execution_count": 33,
   "metadata": {},
   "outputs": [
    {
     "data": {
      "text/plain": [
       "{'host': '197.109.77.178',\n",
       " 'user_name': 'kertzmann3129',\n",
       " 'time': '21/Jun/2019:15:45:25 -0700',\n",
       " 'request': 'DELETE /virtual/solutions/target/web+services HTTP/2.0'}"
      ]
     },
     "execution_count": 33,
     "metadata": {},
     "output_type": "execute_result"
    }
   ],
   "source": [
    "dictList[1]"
   ]
  },
  {
   "cell_type": "code",
   "execution_count": null,
   "metadata": {},
   "outputs": [],
   "source": [
    "import re\n",
    "def logs():\n",
    "    with open(\"assets/logdata.txt\", \"r\") as file:\n",
    "            logdata = file.read()\n",
    "\n",
    "    regex1=r'(\\d{1,3}\\.\\d{1,3}.\\d{1,3}\\.\\d{1,3})'\n",
    "    regex2=r'([a-z]+\\d{4}|\\s-\\s-\\s)'\n",
    "    regex3=r'\\d{1,2}/[A-Z][a-z]{2}/\\d{4}\\:\\d{2}\\:\\d{2}\\:\\d{2}\\s\\-\\d{4}'\n",
    "    regex4=r'\"([^\"]*)\"'\n",
    "\n",
    "    dictList=[]\n",
    "\n",
    "    list1=re.findall(regex1,logdata)\n",
    "    list2=re.findall(regex2,logdata)\n",
    "    list3=re.findall(regex3,logdata)\n",
    "    list4=re.findall(regex4,logdata)\n",
    "\n",
    "    list2=[\"-\" if i ==\" - - \" else i for i in list2]\n",
    "\n",
    "    for i in range(len(list1)):\n",
    "            dictList.append(dict({\"host\":list1[i],'user_name':list2[i],'time':list3[i],'request':list4[i]}))\n",
    "    \n",
    "    return dictList"
   ]
  }
 ],
 "metadata": {
  "kernelspec": {
   "display_name": "Python 3",
   "language": "python",
   "name": "python3"
  },
  "language_info": {
   "codemirror_mode": {
    "name": "ipython",
    "version": 3
   },
   "file_extension": ".py",
   "mimetype": "text/x-python",
   "name": "python",
   "nbconvert_exporter": "python",
   "pygments_lexer": "ipython3",
   "version": "3.10.12"
  }
 },
 "nbformat": 4,
 "nbformat_minor": 2
}
