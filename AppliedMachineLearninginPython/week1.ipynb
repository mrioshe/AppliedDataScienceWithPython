{
 "cells": [
  {
   "cell_type": "markdown",
   "metadata": {},
   "source": [
    "#### Module 1: Fundamentals of Machine Learning-Intro to SciKit Learn"
   ]
  },
  {
   "cell_type": "markdown",
   "metadata": {},
   "source": [
    "**What is Machine Learning (ML)**\n",
    "\n",
    "- the study of computer programs (algorithms) that can learn by example\n",
    "- ML algorithms can generalize from existing examples of a task\n",
    "    - After seeing a training set o flabeled images, an image classifier can figure out how to apply labels accurately to new, previosly unseen images"
   ]
  },
  {
   "cell_type": "markdown",
   "metadata": {},
   "source": [
    "- Algorithms learn rules from *labelled examples*\n",
    "- A set of labellied examples used for learning is called training data\n",
    "- The learned rules should also be able to generalize to correctly recognize or predic new examples not in the training set"
   ]
  },
  {
   "cell_type": "markdown",
   "metadata": {},
   "source": [
    "ML models learn from experience:\n",
    "- Labeled examples (Email spam detection)\n",
    "- User feedback (Clicks on a search page)\n",
    "- Surrounding enviroment (self-driving cars)"
   ]
  },
  {
   "cell_type": "markdown",
   "metadata": {},
   "source": [
    "Machine Learning brings together statistics, computer science, and more..\n",
    "\n",
    "- statistical methods\n",
    "    - Infer conclusions from data\n",
    "    - Estimate reliability of predictions\n",
    "- Computer science\n",
    "    - Large-scale computing architectures\n",
    "    - Algorithms for capturing, manipulationg, indexing, combining, retrieving and performing predicions on data\n",
    "    - Software pipelines that manage the complexity of multiple subtasks\n",
    "- Economics, biology, psychology\n",
    "    - How can an individual or system efficiently improve their performance in a given environment?\n",
    "    - What is learning and how can it be optimized?"
   ]
  },
  {
   "cell_type": "markdown",
   "metadata": {},
   "source": [
    " **Key Concepts in Machine Learning**\n",
    "\n",
    " - Supervised machine learning: Learn to predict target values from labelled data.\n",
    "    - SML Classification (target values are discrete classes)\n",
    "    - SML Regression (target values are continuous values)\n",
    "    - Training set $(X,Y)$ where $X=[x_1,x_2,...,x_i,...,x_n]$: Samble, $Y=[y_1,y_2,...,y_i,...,y_n]$: Target value (Label)\n",
    "    - Classifier $f: X \\to Y$, at training time, the classifier uses labelled exmples to learn rules for recognizing each fruit type.\n",
    "    - Label: After training, at prediction time, the trained model is used to predict type for new instances using the learned rules\n",
    "    - Explicit labels: Human judges/annotators\n",
    "    - Implicit labels: Clicking and reading the \"Mackinac Island\" result can be an implicit label for search engine to learn that \"Mackinac Island\" is especially relevant for the query for that specific user\n",
    "\n",
    "- Unsupervised machine learning: Find structure in unlabeled data\n",
    "   - Find groups of similar instances in the data (Clustering)\n",
    "   - Finding unusual patterns (outlier detection)\n",
    "\n",
    "**A Basic Machine Learning Workflow**\n",
    "\n",
    "1. Representation: Choose:\n",
    "   - A feature representation\n",
    "   - Type of classifier to use\n",
    "2. Evaluation: Choose:\n",
    "   - What criterion distinguishes good vs bad classifiers\n",
    "3.  Optimization: Choose:\n",
    "   - How to search for settings/parameters that give the best classifier for this evaluation criterion\n",
    "\n",
    "$1 \\to 2 \\to 3 \\to 2 \\to 3 ...$\n",
    "\n",
    "**Feature Representations**\n",
    "\n",
    "Examples:\n",
    "\n",
    " - Email: A list of words with their frequency counts.\n",
    " - Picture: A matrix of color values (pixeles)\n",
    " - Sea Creatures: A set of attribute values"
   ]
  },
  {
   "cell_type": "markdown",
   "metadata": {},
   "source": []
  }
 ],
 "metadata": {
  "language_info": {
   "name": "python"
  }
 },
 "nbformat": 4,
 "nbformat_minor": 2
}
