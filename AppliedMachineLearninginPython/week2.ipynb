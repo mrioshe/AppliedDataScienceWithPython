{
 "cells": [
  {
   "cell_type": "markdown",
   "metadata": {},
   "source": [
    "#### Supervised Machine Learning"
   ]
  },
  {
   "cell_type": "markdown",
   "metadata": {},
   "source": [
    "- Data instances/samples/examples/feature $X$\n",
    "- Target value $y$\n",
    "- Training and test sets\n",
    "- Model/Estimator\n",
    "    - Model fitting produces a 'trained model'\n",
    "    - Training ins the process of estimating model parameters\n",
    "- Evaluation method\n",
    "- Both classification and regression take a set of training instances and learn a mapping to a target value\n",
    "- For classification, the target value is a discrete class value\n",
    "    - Binary: target value is 0 (negative class) or 1 (positive class)\n",
    "    - Multi-class: Target value is one of a set of discrete values\n",
    "    - Multi-label: There are multiple target values (labels)\n",
    "- For regression, the target value is continuous (floating point/real-valued)\n",
    "- Looking at the target value's type will guide you on what supervised learning method to use.\n",
    "- Many supervised learning methods have 'flavors' for both classification for both classification and regression\n",
    "- Simple but powerful prediction algorithms:\n",
    "    - K-nearest neighbors\n",
    "    - Linear model fit using least-squares\n",
    "- K-nearest neighbors makes few assumptions about the structure of the data and gives potentially accuarate but sometimes unstable predictions (sensitive to small changes in the training data)\n",
    "- Linear models make strong assumptions about the structure of the data and give stable but potentially inaccuarate predictions\n",
    "- Generalization ability: Refers to an algothm's ability to give accuarate predictions for new, previously unseen data.\n",
    "- Assumptions:\n",
    "    - Future unseed data (test set) will have the same properties as the current training sets.\n",
    "    - Thus, models that are accurate on the training set are expected to be accurate on the test set.\n",
    "    - But that may no happen if the trained model is tuned too specifically to the training set\n",
    "- Models that are too complex for the amount of training data avaible are said *overfit* and are not likely to generalize well to new examples.\n",
    "- Models that are too simple, that don't even do well on the training data, are said to *underfit* and also not likely to generalize well"
   ]
  },
  {
   "cell_type": "code",
   "execution_count": null,
   "metadata": {},
   "outputs": [],
   "source": []
  }
 ],
 "metadata": {
  "kernelspec": {
   "display_name": "Python 3",
   "language": "python",
   "name": "python3"
  },
  "language_info": {
   "name": "python",
   "version": "3.10.12"
  }
 },
 "nbformat": 4,
 "nbformat_minor": 2
}
